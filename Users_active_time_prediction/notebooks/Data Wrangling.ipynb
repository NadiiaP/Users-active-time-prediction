{
 "cells": [
  {
   "cell_type": "code",
   "execution_count": 73,
   "metadata": {},
   "outputs": [],
   "source": [
    "import pandas as pd\n",
    "import numpy as np\n",
    "import datetime\n",
    "import time\n",
    "import matplotlib.pyplot as plt"
   ]
  },
  {
   "cell_type": "code",
   "execution_count": 74,
   "metadata": {},
   "outputs": [
    {
     "data": {
      "text/html": [
       "<div>\n",
       "<style scoped>\n",
       "    .dataframe tbody tr th:only-of-type {\n",
       "        vertical-align: middle;\n",
       "    }\n",
       "\n",
       "    .dataframe tbody tr th {\n",
       "        vertical-align: top;\n",
       "    }\n",
       "\n",
       "    .dataframe thead th {\n",
       "        text-align: right;\n",
       "    }\n",
       "</style>\n",
       "<table border=\"1\" class=\"dataframe\">\n",
       "  <thead>\n",
       "    <tr style=\"text-align: right;\">\n",
       "      <th></th>\n",
       "      <th>id</th>\n",
       "      <th>gender</th>\n",
       "      <th>age</th>\n",
       "      <th>number_of_kids</th>\n",
       "    </tr>\n",
       "  </thead>\n",
       "  <tbody>\n",
       "    <tr>\n",
       "      <th>0</th>\n",
       "      <td>979863</td>\n",
       "      <td>MALE</td>\n",
       "      <td>26</td>\n",
       "      <td>2</td>\n",
       "    </tr>\n",
       "    <tr>\n",
       "      <th>1</th>\n",
       "      <td>780123</td>\n",
       "      <td>MALE</td>\n",
       "      <td>60</td>\n",
       "      <td>2</td>\n",
       "    </tr>\n",
       "    <tr>\n",
       "      <th>2</th>\n",
       "      <td>614848</td>\n",
       "      <td>MALE</td>\n",
       "      <td>45</td>\n",
       "      <td>4</td>\n",
       "    </tr>\n",
       "    <tr>\n",
       "      <th>3</th>\n",
       "      <td>775046</td>\n",
       "      <td>MALE</td>\n",
       "      <td>62</td>\n",
       "      <td>3</td>\n",
       "    </tr>\n",
       "    <tr>\n",
       "      <th>4</th>\n",
       "      <td>991601</td>\n",
       "      <td>MALE</td>\n",
       "      <td>23</td>\n",
       "      <td>0</td>\n",
       "    </tr>\n",
       "    <tr>\n",
       "      <th>...</th>\n",
       "      <td>...</td>\n",
       "      <td>...</td>\n",
       "      <td>...</td>\n",
       "      <td>...</td>\n",
       "    </tr>\n",
       "    <tr>\n",
       "      <th>2495</th>\n",
       "      <td>208889</td>\n",
       "      <td>FEMALE</td>\n",
       "      <td>18</td>\n",
       "      <td>0</td>\n",
       "    </tr>\n",
       "    <tr>\n",
       "      <th>2496</th>\n",
       "      <td>385802</td>\n",
       "      <td>FEMALE</td>\n",
       "      <td>25</td>\n",
       "      <td>0</td>\n",
       "    </tr>\n",
       "    <tr>\n",
       "      <th>2497</th>\n",
       "      <td>990291</td>\n",
       "      <td>MALE</td>\n",
       "      <td>71</td>\n",
       "      <td>0</td>\n",
       "    </tr>\n",
       "    <tr>\n",
       "      <th>2498</th>\n",
       "      <td>285058</td>\n",
       "      <td>MALE</td>\n",
       "      <td>28</td>\n",
       "      <td>4</td>\n",
       "    </tr>\n",
       "    <tr>\n",
       "      <th>2499</th>\n",
       "      <td>165666</td>\n",
       "      <td>MALE</td>\n",
       "      <td>35</td>\n",
       "      <td>1</td>\n",
       "    </tr>\n",
       "  </tbody>\n",
       "</table>\n",
       "<p>2500 rows × 4 columns</p>\n",
       "</div>"
      ],
      "text/plain": [
       "          id  gender  age  number_of_kids\n",
       "0     979863    MALE   26               2\n",
       "1     780123    MALE   60               2\n",
       "2     614848    MALE   45               4\n",
       "3     775046    MALE   62               3\n",
       "4     991601    MALE   23               0\n",
       "...      ...     ...  ...             ...\n",
       "2495  208889  FEMALE   18               0\n",
       "2496  385802  FEMALE   25               0\n",
       "2497  990291    MALE   71               0\n",
       "2498  285058    MALE   28               4\n",
       "2499  165666    MALE   35               1\n",
       "\n",
       "[2500 rows x 4 columns]"
      ]
     },
     "execution_count": 74,
     "metadata": {},
     "output_type": "execute_result"
    }
   ],
   "source": [
    "customers = pd.read_csv(r'/Users/nadiiapoliakovska/Documents/Springboard/Users_active_time_prediction/data/raw/archive/customers.csv')\n",
    "customers"
   ]
  },
  {
   "cell_type": "code",
   "execution_count": 75,
   "metadata": {},
   "outputs": [
    {
     "name": "stdout",
     "output_type": "stream",
     "text": [
      "<class 'pandas.core.frame.DataFrame'>\n",
      "RangeIndex: 2500 entries, 0 to 2499\n",
      "Data columns (total 4 columns):\n",
      " #   Column          Non-Null Count  Dtype \n",
      "---  ------          --------------  ----- \n",
      " 0   id              2500 non-null   int64 \n",
      " 1   gender          2500 non-null   object\n",
      " 2   age             2500 non-null   int64 \n",
      " 3   number_of_kids  2500 non-null   int64 \n",
      "dtypes: int64(3), object(1)\n",
      "memory usage: 78.2+ KB\n"
     ]
    }
   ],
   "source": [
    "customers.info()"
   ]
  },
  {
   "cell_type": "code",
   "execution_count": 76,
   "metadata": {},
   "outputs": [
    {
     "data": {
      "text/plain": [
       "MALE      1894\n",
       "FEMALE     606\n",
       "Name: gender, dtype: int64"
      ]
     },
     "execution_count": 76,
     "metadata": {},
     "output_type": "execute_result"
    }
   ],
   "source": [
    "customers.gender.value_counts()"
   ]
  },
  {
   "cell_type": "code",
   "execution_count": 77,
   "metadata": {},
   "outputs": [
    {
     "data": {
      "text/plain": [
       "count    2500.000000\n",
       "mean       35.922400\n",
       "std        14.171207\n",
       "min        18.000000\n",
       "25%        25.000000\n",
       "50%        31.000000\n",
       "75%        45.000000\n",
       "max        75.000000\n",
       "Name: age, dtype: float64"
      ]
     },
     "execution_count": 77,
     "metadata": {},
     "output_type": "execute_result"
    }
   ],
   "source": [
    "customers.age.describe()"
   ]
  },
  {
   "cell_type": "code",
   "execution_count": 78,
   "metadata": {},
   "outputs": [
    {
     "data": {
      "text/plain": [
       "<AxesSubplot: >"
      ]
     },
     "execution_count": 78,
     "metadata": {},
     "output_type": "execute_result"
    },
    {
     "data": {
      "image/png": "[encoded data removed]",
      "text/plain": [
       "<Figure size 576x396 with 1 Axes>"
      ]
     },
     "metadata": {},
     "output_type": "display_data"
    }
   ],
   "source": [
    "customers.age.hist(bins = 25)"
   ]
  },
  {
   "cell_type": "code",
   "execution_count": 79,
   "metadata": {},
   "outputs": [
    {
     "data": {
      "text/plain": [
       "0    1112\n",
       "3     357\n",
       "4     355\n",
       "1     355\n",
       "2     321\n",
       "Name: number_of_kids, dtype: int64"
      ]
     },
     "execution_count": 79,
     "metadata": {},
     "output_type": "execute_result"
    }
   ],
   "source": [
    "customers.number_of_kids.value_counts()"
   ]
  },
  {
   "cell_type": "code",
   "execution_count": 80,
   "metadata": {},
   "outputs": [
    {
     "data": {
      "text/html": [
       "<div>\n",
       "<style scoped>\n",
       "    .dataframe tbody tr th:only-of-type {\n",
       "        vertical-align: middle;\n",
       "    }\n",
       "\n",
       "    .dataframe tbody tr th {\n",
       "        vertical-align: top;\n",
       "    }\n",
       "\n",
       "    .dataframe thead th {\n",
       "        text-align: right;\n",
       "    }\n",
       "</style>\n",
       "<table border=\"1\" class=\"dataframe\">\n",
       "  <thead>\n",
       "    <tr style=\"text-align: right;\">\n",
       "      <th></th>\n",
       "      <th>id</th>\n",
       "      <th>timestamp</th>\n",
       "    </tr>\n",
       "  </thead>\n",
       "  <tbody>\n",
       "    <tr>\n",
       "      <th>0</th>\n",
       "      <td>899313</td>\n",
       "      <td>1496278800</td>\n",
       "    </tr>\n",
       "    <tr>\n",
       "      <th>1</th>\n",
       "      <td>373017</td>\n",
       "      <td>1496278800</td>\n",
       "    </tr>\n",
       "    <tr>\n",
       "      <th>2</th>\n",
       "      <td>798984</td>\n",
       "      <td>1496278800</td>\n",
       "    </tr>\n",
       "    <tr>\n",
       "      <th>3</th>\n",
       "      <td>245966</td>\n",
       "      <td>1496278800</td>\n",
       "    </tr>\n",
       "    <tr>\n",
       "      <th>4</th>\n",
       "      <td>689783</td>\n",
       "      <td>1496278800</td>\n",
       "    </tr>\n",
       "    <tr>\n",
       "      <th>...</th>\n",
       "      <td>...</td>\n",
       "      <td>...</td>\n",
       "    </tr>\n",
       "    <tr>\n",
       "      <th>50528696</th>\n",
       "      <td>282579</td>\n",
       "      <td>1498100130</td>\n",
       "    </tr>\n",
       "    <tr>\n",
       "      <th>50528697</th>\n",
       "      <td>282579</td>\n",
       "      <td>1498100145</td>\n",
       "    </tr>\n",
       "    <tr>\n",
       "      <th>50528698</th>\n",
       "      <td>282579</td>\n",
       "      <td>1498100160</td>\n",
       "    </tr>\n",
       "    <tr>\n",
       "      <th>50528699</th>\n",
       "      <td>282579</td>\n",
       "      <td>1498100190</td>\n",
       "    </tr>\n",
       "    <tr>\n",
       "      <th>50528700</th>\n",
       "      <td>282579</td>\n",
       "      <td>1498100220</td>\n",
       "    </tr>\n",
       "  </tbody>\n",
       "</table>\n",
       "<p>50528701 rows × 2 columns</p>\n",
       "</div>"
      ],
      "text/plain": [
       "              id   timestamp\n",
       "0         899313  1496278800\n",
       "1         373017  1496278800\n",
       "2         798984  1496278800\n",
       "3         245966  1496278800\n",
       "4         689783  1496278800\n",
       "...          ...         ...\n",
       "50528696  282579  1498100130\n",
       "50528697  282579  1498100145\n",
       "50528698  282579  1498100160\n",
       "50528699  282579  1498100190\n",
       "50528700  282579  1498100220\n",
       "\n",
       "[50528701 rows x 2 columns]"
      ]
     },
     "execution_count": 80,
     "metadata": {},
     "output_type": "execute_result"
    }
   ],
   "source": [
    "pings = pd.read_csv(r'/Users/nadiiapoliakovska/Documents/Springboard/Users_active_time_prediction/data/raw/archive/pings.csv')\n",
    "pings"
   ]
  },
  {
   "cell_type": "code",
   "execution_count": 81,
   "metadata": {},
   "outputs": [
    {
     "name": "stdout",
     "output_type": "stream",
     "text": [
      "<class 'pandas.core.frame.DataFrame'>\n",
      "RangeIndex: 50528701 entries, 0 to 50528700\n",
      "Data columns (total 2 columns):\n",
      " #   Column     Dtype\n",
      "---  ------     -----\n",
      " 0   id         int64\n",
      " 1   timestamp  int64\n",
      "dtypes: int64(2)\n",
      "memory usage: 771.0 MB\n"
     ]
    }
   ],
   "source": [
    "pings.info()"
   ]
  },
  {
   "cell_type": "code",
   "execution_count": 82,
   "metadata": {},
   "outputs": [],
   "source": [
    "def to_date(x):\n",
    "    f = datetime.datetime.fromtimestamp(x)\n",
    "    return f"
   ]
  },
  {
   "cell_type": "code",
   "execution_count": 83,
   "metadata": {},
   "outputs": [],
   "source": [
    "pings['timestamp_to_datetime'] = pings.timestamp.apply(to_date)"
   ]
  },
  {
   "cell_type": "code",
   "execution_count": 84,
   "metadata": {},
   "outputs": [
    {
     "data": {
      "text/plain": [
       "Timestamp('2017-05-31 18:00:00')"
      ]
     },
     "execution_count": 84,
     "metadata": {},
     "output_type": "execute_result"
    }
   ],
   "source": [
    "pings['timestamp_to_datetime'][0]"
   ]
  },
  {
   "cell_type": "code",
   "execution_count": 85,
   "metadata": {},
   "outputs": [
    {
     "data": {
      "text/html": [
       "<div>\n",
       "<style scoped>\n",
       "    .dataframe tbody tr th:only-of-type {\n",
       "        vertical-align: middle;\n",
       "    }\n",
       "\n",
       "    .dataframe tbody tr th {\n",
       "        vertical-align: top;\n",
       "    }\n",
       "\n",
       "    .dataframe thead th {\n",
       "        text-align: right;\n",
       "    }\n",
       "</style>\n",
       "<table border=\"1\" class=\"dataframe\">\n",
       "  <thead>\n",
       "    <tr style=\"text-align: right;\">\n",
       "      <th></th>\n",
       "      <th>id</th>\n",
       "      <th>timestamp</th>\n",
       "      <th>timestamp_to_datetime</th>\n",
       "    </tr>\n",
       "  </thead>\n",
       "  <tbody>\n",
       "    <tr>\n",
       "      <th>0</th>\n",
       "      <td>899313</td>\n",
       "      <td>1496278800</td>\n",
       "      <td>2017-05-31 18:00:00</td>\n",
       "    </tr>\n",
       "    <tr>\n",
       "      <th>1</th>\n",
       "      <td>373017</td>\n",
       "      <td>1496278800</td>\n",
       "      <td>2017-05-31 18:00:00</td>\n",
       "    </tr>\n",
       "    <tr>\n",
       "      <th>2</th>\n",
       "      <td>798984</td>\n",
       "      <td>1496278800</td>\n",
       "      <td>2017-05-31 18:00:00</td>\n",
       "    </tr>\n",
       "    <tr>\n",
       "      <th>3</th>\n",
       "      <td>245966</td>\n",
       "      <td>1496278800</td>\n",
       "      <td>2017-05-31 18:00:00</td>\n",
       "    </tr>\n",
       "    <tr>\n",
       "      <th>4</th>\n",
       "      <td>689783</td>\n",
       "      <td>1496278800</td>\n",
       "      <td>2017-05-31 18:00:00</td>\n",
       "    </tr>\n",
       "  </tbody>\n",
       "</table>\n",
       "</div>"
      ],
      "text/plain": [
       "       id   timestamp timestamp_to_datetime\n",
       "0  899313  1496278800   2017-05-31 18:00:00\n",
       "1  373017  1496278800   2017-05-31 18:00:00\n",
       "2  798984  1496278800   2017-05-31 18:00:00\n",
       "3  245966  1496278800   2017-05-31 18:00:00\n",
       "4  689783  1496278800   2017-05-31 18:00:00"
      ]
     },
     "execution_count": 85,
     "metadata": {},
     "output_type": "execute_result"
    }
   ],
   "source": [
    "pings.head()"
   ]
  },
  {
   "cell_type": "code",
   "execution_count": 86,
   "metadata": {},
   "outputs": [
    {
     "data": {
      "text/html": [
       "<div>\n",
       "<style scoped>\n",
       "    .dataframe tbody tr th:only-of-type {\n",
       "        vertical-align: middle;\n",
       "    }\n",
       "\n",
       "    .dataframe tbody tr th {\n",
       "        vertical-align: top;\n",
       "    }\n",
       "\n",
       "    .dataframe thead th {\n",
       "        text-align: right;\n",
       "    }\n",
       "</style>\n",
       "<table border=\"1\" class=\"dataframe\">\n",
       "  <thead>\n",
       "    <tr style=\"text-align: right;\">\n",
       "      <th></th>\n",
       "      <th>id</th>\n",
       "      <th>timestamp</th>\n",
       "      <th>timestamp_to_datetime</th>\n",
       "    </tr>\n",
       "  </thead>\n",
       "  <tbody>\n",
       "    <tr>\n",
       "      <th>50528696</th>\n",
       "      <td>282579</td>\n",
       "      <td>1498100130</td>\n",
       "      <td>2017-06-21 19:55:30</td>\n",
       "    </tr>\n",
       "    <tr>\n",
       "      <th>50528697</th>\n",
       "      <td>282579</td>\n",
       "      <td>1498100145</td>\n",
       "      <td>2017-06-21 19:55:45</td>\n",
       "    </tr>\n",
       "    <tr>\n",
       "      <th>50528698</th>\n",
       "      <td>282579</td>\n",
       "      <td>1498100160</td>\n",
       "      <td>2017-06-21 19:56:00</td>\n",
       "    </tr>\n",
       "    <tr>\n",
       "      <th>50528699</th>\n",
       "      <td>282579</td>\n",
       "      <td>1498100190</td>\n",
       "      <td>2017-06-21 19:56:30</td>\n",
       "    </tr>\n",
       "    <tr>\n",
       "      <th>50528700</th>\n",
       "      <td>282579</td>\n",
       "      <td>1498100220</td>\n",
       "      <td>2017-06-21 19:57:00</td>\n",
       "    </tr>\n",
       "  </tbody>\n",
       "</table>\n",
       "</div>"
      ],
      "text/plain": [
       "              id   timestamp timestamp_to_datetime\n",
       "50528696  282579  1498100130   2017-06-21 19:55:30\n",
       "50528697  282579  1498100145   2017-06-21 19:55:45\n",
       "50528698  282579  1498100160   2017-06-21 19:56:00\n",
       "50528699  282579  1498100190   2017-06-21 19:56:30\n",
       "50528700  282579  1498100220   2017-06-21 19:57:00"
      ]
     },
     "execution_count": 86,
     "metadata": {},
     "output_type": "execute_result"
    }
   ],
   "source": [
    "pings.tail()"
   ]
  },
  {
   "cell_type": "code",
   "execution_count": 87,
   "metadata": {},
   "outputs": [],
   "source": [
    "pings.drop_duplicates(inplace = True)"
   ]
  },
  {
   "cell_type": "code",
   "execution_count": 88,
   "metadata": {},
   "outputs": [
    {
     "data": {
      "text/plain": [
       "50489158"
      ]
     },
     "execution_count": 88,
     "metadata": {},
     "output_type": "execute_result"
    }
   ],
   "source": [
    "len(pings)"
   ]
  },
  {
   "cell_type": "code",
   "execution_count": 89,
   "metadata": {},
   "outputs": [],
   "source": [
    "pings.sort_values(by='timestamp_to_datetime', ascending=True, inplace = True)"
   ]
  },
  {
   "cell_type": "code",
   "execution_count": 90,
   "metadata": {},
   "outputs": [],
   "source": [
    "pings['date'] = pings['timestamp_to_datetime'].dt.date"
   ]
  },
  {
   "cell_type": "code",
   "execution_count": 91,
   "metadata": {},
   "outputs": [],
   "source": [
    "pings['online_hours'] = pings.groupby(by=['id','date'])['timestamp'].diff()/3600"
   ]
  },
  {
   "cell_type": "code",
   "execution_count": 92,
   "metadata": {},
   "outputs": [],
   "source": [
    "pings['online_hours']  =  pings['online_hours'].apply(lambda x: x if x< (2/60) else (2/60))"
   ]
  },
  {
   "cell_type": "code",
   "execution_count": 93,
   "metadata": {},
   "outputs": [
    {
     "data": {
      "text/html": [
       "<div>\n",
       "<style scoped>\n",
       "    .dataframe tbody tr th:only-of-type {\n",
       "        vertical-align: middle;\n",
       "    }\n",
       "\n",
       "    .dataframe tbody tr th {\n",
       "        vertical-align: top;\n",
       "    }\n",
       "\n",
       "    .dataframe thead th {\n",
       "        text-align: right;\n",
       "    }\n",
       "</style>\n",
       "<table border=\"1\" class=\"dataframe\">\n",
       "  <thead>\n",
       "    <tr style=\"text-align: right;\">\n",
       "      <th></th>\n",
       "      <th>id</th>\n",
       "      <th>timestamp</th>\n",
       "      <th>timestamp_to_datetime</th>\n",
       "      <th>date</th>\n",
       "      <th>online_hours</th>\n",
       "    </tr>\n",
       "  </thead>\n",
       "  <tbody>\n",
       "    <tr>\n",
       "      <th>0</th>\n",
       "      <td>899313</td>\n",
       "      <td>1496278800</td>\n",
       "      <td>2017-05-31 18:00:00</td>\n",
       "      <td>2017-05-31</td>\n",
       "      <td>0.033333</td>\n",
       "    </tr>\n",
       "    <tr>\n",
       "      <th>1</th>\n",
       "      <td>373017</td>\n",
       "      <td>1496278800</td>\n",
       "      <td>2017-05-31 18:00:00</td>\n",
       "      <td>2017-05-31</td>\n",
       "      <td>0.033333</td>\n",
       "    </tr>\n",
       "    <tr>\n",
       "      <th>2</th>\n",
       "      <td>798984</td>\n",
       "      <td>1496278800</td>\n",
       "      <td>2017-05-31 18:00:00</td>\n",
       "      <td>2017-05-31</td>\n",
       "      <td>0.033333</td>\n",
       "    </tr>\n",
       "    <tr>\n",
       "      <th>3</th>\n",
       "      <td>245966</td>\n",
       "      <td>1496278800</td>\n",
       "      <td>2017-05-31 18:00:00</td>\n",
       "      <td>2017-05-31</td>\n",
       "      <td>0.033333</td>\n",
       "    </tr>\n",
       "    <tr>\n",
       "      <th>4</th>\n",
       "      <td>689783</td>\n",
       "      <td>1496278800</td>\n",
       "      <td>2017-05-31 18:00:00</td>\n",
       "      <td>2017-05-31</td>\n",
       "      <td>0.033333</td>\n",
       "    </tr>\n",
       "    <tr>\n",
       "      <th>...</th>\n",
       "      <td>...</td>\n",
       "      <td>...</td>\n",
       "      <td>...</td>\n",
       "      <td>...</td>\n",
       "      <td>...</td>\n",
       "    </tr>\n",
       "    <tr>\n",
       "      <th>50528696</th>\n",
       "      <td>282579</td>\n",
       "      <td>1498100130</td>\n",
       "      <td>2017-06-21 19:55:30</td>\n",
       "      <td>2017-06-21</td>\n",
       "      <td>0.004167</td>\n",
       "    </tr>\n",
       "    <tr>\n",
       "      <th>50528697</th>\n",
       "      <td>282579</td>\n",
       "      <td>1498100145</td>\n",
       "      <td>2017-06-21 19:55:45</td>\n",
       "      <td>2017-06-21</td>\n",
       "      <td>0.004167</td>\n",
       "    </tr>\n",
       "    <tr>\n",
       "      <th>50528698</th>\n",
       "      <td>282579</td>\n",
       "      <td>1498100160</td>\n",
       "      <td>2017-06-21 19:56:00</td>\n",
       "      <td>2017-06-21</td>\n",
       "      <td>0.004167</td>\n",
       "    </tr>\n",
       "    <tr>\n",
       "      <th>50528699</th>\n",
       "      <td>282579</td>\n",
       "      <td>1498100190</td>\n",
       "      <td>2017-06-21 19:56:30</td>\n",
       "      <td>2017-06-21</td>\n",
       "      <td>0.008333</td>\n",
       "    </tr>\n",
       "    <tr>\n",
       "      <th>50528700</th>\n",
       "      <td>282579</td>\n",
       "      <td>1498100220</td>\n",
       "      <td>2017-06-21 19:57:00</td>\n",
       "      <td>2017-06-21</td>\n",
       "      <td>0.008333</td>\n",
       "    </tr>\n",
       "  </tbody>\n",
       "</table>\n",
       "<p>50489158 rows × 5 columns</p>\n",
       "</div>"
      ],
      "text/plain": [
       "              id   timestamp timestamp_to_datetime        date  online_hours\n",
       "0         899313  1496278800   2017-05-31 18:00:00  2017-05-31      0.033333\n",
       "1         373017  1496278800   2017-05-31 18:00:00  2017-05-31      0.033333\n",
       "2         798984  1496278800   2017-05-31 18:00:00  2017-05-31      0.033333\n",
       "3         245966  1496278800   2017-05-31 18:00:00  2017-05-31      0.033333\n",
       "4         689783  1496278800   2017-05-31 18:00:00  2017-05-31      0.033333\n",
       "...          ...         ...                   ...         ...           ...\n",
       "50528696  282579  1498100130   2017-06-21 19:55:30  2017-06-21      0.004167\n",
       "50528697  282579  1498100145   2017-06-21 19:55:45  2017-06-21      0.004167\n",
       "50528698  282579  1498100160   2017-06-21 19:56:00  2017-06-21      0.004167\n",
       "50528699  282579  1498100190   2017-06-21 19:56:30  2017-06-21      0.008333\n",
       "50528700  282579  1498100220   2017-06-21 19:57:00  2017-06-21      0.008333\n",
       "\n",
       "[50489158 rows x 5 columns]"
      ]
     },
     "execution_count": 93,
     "metadata": {},
     "output_type": "execute_result"
    }
   ],
   "source": [
    "pings"
   ]
  },
  {
   "cell_type": "code",
   "execution_count": 94,
   "metadata": {},
   "outputs": [],
   "source": [
    "pings.fillna(0,inplace = True)"
   ]
  },
  {
   "cell_type": "code",
   "execution_count": 95,
   "metadata": {},
   "outputs": [
    {
     "data": {
      "text/html": [
       "<div>\n",
       "<style scoped>\n",
       "    .dataframe tbody tr th:only-of-type {\n",
       "        vertical-align: middle;\n",
       "    }\n",
       "\n",
       "    .dataframe tbody tr th {\n",
       "        vertical-align: top;\n",
       "    }\n",
       "\n",
       "    .dataframe thead th {\n",
       "        text-align: right;\n",
       "    }\n",
       "</style>\n",
       "<table border=\"1\" class=\"dataframe\">\n",
       "  <thead>\n",
       "    <tr style=\"text-align: right;\">\n",
       "      <th></th>\n",
       "      <th>id</th>\n",
       "      <th>timestamp</th>\n",
       "      <th>timestamp_to_datetime</th>\n",
       "      <th>date</th>\n",
       "      <th>online_hours</th>\n",
       "    </tr>\n",
       "  </thead>\n",
       "  <tbody>\n",
       "    <tr>\n",
       "      <th>0</th>\n",
       "      <td>899313</td>\n",
       "      <td>1496278800</td>\n",
       "      <td>2017-05-31 18:00:00</td>\n",
       "      <td>2017-05-31</td>\n",
       "      <td>0.033333</td>\n",
       "    </tr>\n",
       "    <tr>\n",
       "      <th>1</th>\n",
       "      <td>373017</td>\n",
       "      <td>1496278800</td>\n",
       "      <td>2017-05-31 18:00:00</td>\n",
       "      <td>2017-05-31</td>\n",
       "      <td>0.033333</td>\n",
       "    </tr>\n",
       "    <tr>\n",
       "      <th>2</th>\n",
       "      <td>798984</td>\n",
       "      <td>1496278800</td>\n",
       "      <td>2017-05-31 18:00:00</td>\n",
       "      <td>2017-05-31</td>\n",
       "      <td>0.033333</td>\n",
       "    </tr>\n",
       "    <tr>\n",
       "      <th>3</th>\n",
       "      <td>245966</td>\n",
       "      <td>1496278800</td>\n",
       "      <td>2017-05-31 18:00:00</td>\n",
       "      <td>2017-05-31</td>\n",
       "      <td>0.033333</td>\n",
       "    </tr>\n",
       "    <tr>\n",
       "      <th>4</th>\n",
       "      <td>689783</td>\n",
       "      <td>1496278800</td>\n",
       "      <td>2017-05-31 18:00:00</td>\n",
       "      <td>2017-05-31</td>\n",
       "      <td>0.033333</td>\n",
       "    </tr>\n",
       "    <tr>\n",
       "      <th>...</th>\n",
       "      <td>...</td>\n",
       "      <td>...</td>\n",
       "      <td>...</td>\n",
       "      <td>...</td>\n",
       "      <td>...</td>\n",
       "    </tr>\n",
       "    <tr>\n",
       "      <th>50528696</th>\n",
       "      <td>282579</td>\n",
       "      <td>1498100130</td>\n",
       "      <td>2017-06-21 19:55:30</td>\n",
       "      <td>2017-06-21</td>\n",
       "      <td>0.004167</td>\n",
       "    </tr>\n",
       "    <tr>\n",
       "      <th>50528697</th>\n",
       "      <td>282579</td>\n",
       "      <td>1498100145</td>\n",
       "      <td>2017-06-21 19:55:45</td>\n",
       "      <td>2017-06-21</td>\n",
       "      <td>0.004167</td>\n",
       "    </tr>\n",
       "    <tr>\n",
       "      <th>50528698</th>\n",
       "      <td>282579</td>\n",
       "      <td>1498100160</td>\n",
       "      <td>2017-06-21 19:56:00</td>\n",
       "      <td>2017-06-21</td>\n",
       "      <td>0.004167</td>\n",
       "    </tr>\n",
       "    <tr>\n",
       "      <th>50528699</th>\n",
       "      <td>282579</td>\n",
       "      <td>1498100190</td>\n",
       "      <td>2017-06-21 19:56:30</td>\n",
       "      <td>2017-06-21</td>\n",
       "      <td>0.008333</td>\n",
       "    </tr>\n",
       "    <tr>\n",
       "      <th>50528700</th>\n",
       "      <td>282579</td>\n",
       "      <td>1498100220</td>\n",
       "      <td>2017-06-21 19:57:00</td>\n",
       "      <td>2017-06-21</td>\n",
       "      <td>0.008333</td>\n",
       "    </tr>\n",
       "  </tbody>\n",
       "</table>\n",
       "<p>50489158 rows × 5 columns</p>\n",
       "</div>"
      ],
      "text/plain": [
       "              id   timestamp timestamp_to_datetime        date  online_hours\n",
       "0         899313  1496278800   2017-05-31 18:00:00  2017-05-31      0.033333\n",
       "1         373017  1496278800   2017-05-31 18:00:00  2017-05-31      0.033333\n",
       "2         798984  1496278800   2017-05-31 18:00:00  2017-05-31      0.033333\n",
       "3         245966  1496278800   2017-05-31 18:00:00  2017-05-31      0.033333\n",
       "4         689783  1496278800   2017-05-31 18:00:00  2017-05-31      0.033333\n",
       "...          ...         ...                   ...         ...           ...\n",
       "50528696  282579  1498100130   2017-06-21 19:55:30  2017-06-21      0.004167\n",
       "50528697  282579  1498100145   2017-06-21 19:55:45  2017-06-21      0.004167\n",
       "50528698  282579  1498100160   2017-06-21 19:56:00  2017-06-21      0.004167\n",
       "50528699  282579  1498100190   2017-06-21 19:56:30  2017-06-21      0.008333\n",
       "50528700  282579  1498100220   2017-06-21 19:57:00  2017-06-21      0.008333\n",
       "\n",
       "[50489158 rows x 5 columns]"
      ]
     },
     "execution_count": 95,
     "metadata": {},
     "output_type": "execute_result"
    }
   ],
   "source": [
    "pings"
   ]
  },
  {
   "cell_type": "code",
   "execution_count": 96,
   "metadata": {},
   "outputs": [],
   "source": [
    "train = (pings.groupby(by = ['id','date'])['online_hours'].sum()).reset_index()"
   ]
  },
  {
   "cell_type": "code",
   "execution_count": 97,
   "metadata": {},
   "outputs": [],
   "source": [
    "train['online_hours'] = round(train['online_hours'],1)"
   ]
  },
  {
   "cell_type": "code",
   "execution_count": 98,
   "metadata": {},
   "outputs": [
    {
     "data": {
      "text/html": [
       "<div>\n",
       "<style scoped>\n",
       "    .dataframe tbody tr th:only-of-type {\n",
       "        vertical-align: middle;\n",
       "    }\n",
       "\n",
       "    .dataframe tbody tr th {\n",
       "        vertical-align: top;\n",
       "    }\n",
       "\n",
       "    .dataframe thead th {\n",
       "        text-align: right;\n",
       "    }\n",
       "</style>\n",
       "<table border=\"1\" class=\"dataframe\">\n",
       "  <thead>\n",
       "    <tr style=\"text-align: right;\">\n",
       "      <th></th>\n",
       "      <th>id</th>\n",
       "      <th>date</th>\n",
       "      <th>online_hours</th>\n",
       "    </tr>\n",
       "  </thead>\n",
       "  <tbody>\n",
       "    <tr>\n",
       "      <th>0</th>\n",
       "      <td>111556</td>\n",
       "      <td>2017-05-31</td>\n",
       "      <td>2.2</td>\n",
       "    </tr>\n",
       "    <tr>\n",
       "      <th>1</th>\n",
       "      <td>111556</td>\n",
       "      <td>2017-06-01</td>\n",
       "      <td>2.5</td>\n",
       "    </tr>\n",
       "    <tr>\n",
       "      <th>2</th>\n",
       "      <td>111556</td>\n",
       "      <td>2017-06-04</td>\n",
       "      <td>4.7</td>\n",
       "    </tr>\n",
       "    <tr>\n",
       "      <th>3</th>\n",
       "      <td>111556</td>\n",
       "      <td>2017-06-05</td>\n",
       "      <td>3.2</td>\n",
       "    </tr>\n",
       "    <tr>\n",
       "      <th>4</th>\n",
       "      <td>111556</td>\n",
       "      <td>2017-06-06</td>\n",
       "      <td>2.7</td>\n",
       "    </tr>\n",
       "    <tr>\n",
       "      <th>...</th>\n",
       "      <td>...</td>\n",
       "      <td>...</td>\n",
       "      <td>...</td>\n",
       "    </tr>\n",
       "    <tr>\n",
       "      <th>44467</th>\n",
       "      <td>998229</td>\n",
       "      <td>2017-06-16</td>\n",
       "      <td>7.6</td>\n",
       "    </tr>\n",
       "    <tr>\n",
       "      <th>44468</th>\n",
       "      <td>998229</td>\n",
       "      <td>2017-06-17</td>\n",
       "      <td>4.9</td>\n",
       "    </tr>\n",
       "    <tr>\n",
       "      <th>44469</th>\n",
       "      <td>998229</td>\n",
       "      <td>2017-06-18</td>\n",
       "      <td>6.5</td>\n",
       "    </tr>\n",
       "    <tr>\n",
       "      <th>44470</th>\n",
       "      <td>998229</td>\n",
       "      <td>2017-06-19</td>\n",
       "      <td>9.2</td>\n",
       "    </tr>\n",
       "    <tr>\n",
       "      <th>44471</th>\n",
       "      <td>998229</td>\n",
       "      <td>2017-06-21</td>\n",
       "      <td>9.0</td>\n",
       "    </tr>\n",
       "  </tbody>\n",
       "</table>\n",
       "<p>44472 rows × 3 columns</p>\n",
       "</div>"
      ],
      "text/plain": [
       "           id        date  online_hours\n",
       "0      111556  2017-05-31           2.2\n",
       "1      111556  2017-06-01           2.5\n",
       "2      111556  2017-06-04           4.7\n",
       "3      111556  2017-06-05           3.2\n",
       "4      111556  2017-06-06           2.7\n",
       "...       ...         ...           ...\n",
       "44467  998229  2017-06-16           7.6\n",
       "44468  998229  2017-06-17           4.9\n",
       "44469  998229  2017-06-18           6.5\n",
       "44470  998229  2017-06-19           9.2\n",
       "44471  998229  2017-06-21           9.0\n",
       "\n",
       "[44472 rows x 3 columns]"
      ]
     },
     "execution_count": 98,
     "metadata": {},
     "output_type": "execute_result"
    }
   ],
   "source": [
    "train"
   ]
  },
  {
   "cell_type": "code",
   "execution_count": 99,
   "metadata": {},
   "outputs": [
    {
     "data": {
      "text/html": [
       "<div>\n",
       "<style scoped>\n",
       "    .dataframe tbody tr th:only-of-type {\n",
       "        vertical-align: middle;\n",
       "    }\n",
       "\n",
       "    .dataframe tbody tr th {\n",
       "        vertical-align: top;\n",
       "    }\n",
       "\n",
       "    .dataframe thead th {\n",
       "        text-align: right;\n",
       "    }\n",
       "</style>\n",
       "<table border=\"1\" class=\"dataframe\">\n",
       "  <thead>\n",
       "    <tr style=\"text-align: right;\">\n",
       "      <th></th>\n",
       "      <th>id</th>\n",
       "      <th>date</th>\n",
       "      <th>online_hours</th>\n",
       "    </tr>\n",
       "  </thead>\n",
       "  <tbody>\n",
       "    <tr>\n",
       "      <th>0</th>\n",
       "      <td>979863</td>\n",
       "      <td>28/06/17</td>\n",
       "      <td>7</td>\n",
       "    </tr>\n",
       "    <tr>\n",
       "      <th>1</th>\n",
       "      <td>979863</td>\n",
       "      <td>27/06/17</td>\n",
       "      <td>9</td>\n",
       "    </tr>\n",
       "    <tr>\n",
       "      <th>2</th>\n",
       "      <td>979863</td>\n",
       "      <td>26/06/17</td>\n",
       "      <td>9</td>\n",
       "    </tr>\n",
       "    <tr>\n",
       "      <th>3</th>\n",
       "      <td>979863</td>\n",
       "      <td>25/06/17</td>\n",
       "      <td>10</td>\n",
       "    </tr>\n",
       "    <tr>\n",
       "      <th>4</th>\n",
       "      <td>979863</td>\n",
       "      <td>24/06/17</td>\n",
       "      <td>9</td>\n",
       "    </tr>\n",
       "    <tr>\n",
       "      <th>...</th>\n",
       "      <td>...</td>\n",
       "      <td>...</td>\n",
       "      <td>...</td>\n",
       "    </tr>\n",
       "    <tr>\n",
       "      <th>17495</th>\n",
       "      <td>165666</td>\n",
       "      <td>26/06/17</td>\n",
       "      <td>7</td>\n",
       "    </tr>\n",
       "    <tr>\n",
       "      <th>17496</th>\n",
       "      <td>165666</td>\n",
       "      <td>25/06/17</td>\n",
       "      <td>7</td>\n",
       "    </tr>\n",
       "    <tr>\n",
       "      <th>17497</th>\n",
       "      <td>165666</td>\n",
       "      <td>24/06/17</td>\n",
       "      <td>10</td>\n",
       "    </tr>\n",
       "    <tr>\n",
       "      <th>17498</th>\n",
       "      <td>165666</td>\n",
       "      <td>23/06/17</td>\n",
       "      <td>6</td>\n",
       "    </tr>\n",
       "    <tr>\n",
       "      <th>17499</th>\n",
       "      <td>165666</td>\n",
       "      <td>22/06/17</td>\n",
       "      <td>10</td>\n",
       "    </tr>\n",
       "  </tbody>\n",
       "</table>\n",
       "<p>17500 rows × 3 columns</p>\n",
       "</div>"
      ],
      "text/plain": [
       "           id      date  online_hours\n",
       "0      979863  28/06/17             7\n",
       "1      979863  27/06/17             9\n",
       "2      979863  26/06/17             9\n",
       "3      979863  25/06/17            10\n",
       "4      979863  24/06/17             9\n",
       "...       ...       ...           ...\n",
       "17495  165666  26/06/17             7\n",
       "17496  165666  25/06/17             7\n",
       "17497  165666  24/06/17            10\n",
       "17498  165666  23/06/17             6\n",
       "17499  165666  22/06/17            10\n",
       "\n",
       "[17500 rows x 3 columns]"
      ]
     },
     "execution_count": 99,
     "metadata": {},
     "output_type": "execute_result"
    }
   ],
   "source": [
    "test = pd.read_csv(r'/Users/nadiiapoliakovska/Documents/Springboard/Users_active_time_prediction/data/raw/archive/test.csv')\n",
    "test"
   ]
  },
  {
   "cell_type": "code",
   "execution_count": 100,
   "metadata": {},
   "outputs": [
    {
     "name": "stdout",
     "output_type": "stream",
     "text": [
      "<class 'pandas.core.frame.DataFrame'>\n",
      "RangeIndex: 17500 entries, 0 to 17499\n",
      "Data columns (total 3 columns):\n",
      " #   Column        Non-Null Count  Dtype \n",
      "---  ------        --------------  ----- \n",
      " 0   id            17500 non-null  int64 \n",
      " 1   date          17500 non-null  object\n",
      " 2   online_hours  17500 non-null  int64 \n",
      "dtypes: int64(2), object(1)\n",
      "memory usage: 410.3+ KB\n"
     ]
    }
   ],
   "source": [
    "test.info()"
   ]
  },
  {
   "cell_type": "code",
   "execution_count": 101,
   "metadata": {},
   "outputs": [
    {
     "data": {
      "text/plain": [
       "str"
      ]
     },
     "execution_count": 101,
     "metadata": {},
     "output_type": "execute_result"
    }
   ],
   "source": [
    "type(test.date[0])"
   ]
  },
  {
   "cell_type": "code",
   "execution_count": 102,
   "metadata": {},
   "outputs": [
    {
     "data": {
      "text/html": [
       "<div>\n",
       "<style scoped>\n",
       "    .dataframe tbody tr th:only-of-type {\n",
       "        vertical-align: middle;\n",
       "    }\n",
       "\n",
       "    .dataframe tbody tr th {\n",
       "        vertical-align: top;\n",
       "    }\n",
       "\n",
       "    .dataframe thead th {\n",
       "        text-align: right;\n",
       "    }\n",
       "</style>\n",
       "<table border=\"1\" class=\"dataframe\">\n",
       "  <thead>\n",
       "    <tr style=\"text-align: right;\">\n",
       "      <th></th>\n",
       "      <th>id</th>\n",
       "      <th>date</th>\n",
       "      <th>online_hours</th>\n",
       "    </tr>\n",
       "  </thead>\n",
       "  <tbody>\n",
       "    <tr>\n",
       "      <th>0</th>\n",
       "      <td>979863</td>\n",
       "      <td>2017-06-28</td>\n",
       "      <td>7</td>\n",
       "    </tr>\n",
       "    <tr>\n",
       "      <th>1</th>\n",
       "      <td>979863</td>\n",
       "      <td>2017-06-27</td>\n",
       "      <td>9</td>\n",
       "    </tr>\n",
       "    <tr>\n",
       "      <th>2</th>\n",
       "      <td>979863</td>\n",
       "      <td>2017-06-26</td>\n",
       "      <td>9</td>\n",
       "    </tr>\n",
       "    <tr>\n",
       "      <th>3</th>\n",
       "      <td>979863</td>\n",
       "      <td>2017-06-25</td>\n",
       "      <td>10</td>\n",
       "    </tr>\n",
       "    <tr>\n",
       "      <th>4</th>\n",
       "      <td>979863</td>\n",
       "      <td>2017-06-24</td>\n",
       "      <td>9</td>\n",
       "    </tr>\n",
       "    <tr>\n",
       "      <th>...</th>\n",
       "      <td>...</td>\n",
       "      <td>...</td>\n",
       "      <td>...</td>\n",
       "    </tr>\n",
       "    <tr>\n",
       "      <th>17495</th>\n",
       "      <td>165666</td>\n",
       "      <td>2017-06-26</td>\n",
       "      <td>7</td>\n",
       "    </tr>\n",
       "    <tr>\n",
       "      <th>17496</th>\n",
       "      <td>165666</td>\n",
       "      <td>2017-06-25</td>\n",
       "      <td>7</td>\n",
       "    </tr>\n",
       "    <tr>\n",
       "      <th>17497</th>\n",
       "      <td>165666</td>\n",
       "      <td>2017-06-24</td>\n",
       "      <td>10</td>\n",
       "    </tr>\n",
       "    <tr>\n",
       "      <th>17498</th>\n",
       "      <td>165666</td>\n",
       "      <td>2017-06-23</td>\n",
       "      <td>6</td>\n",
       "    </tr>\n",
       "    <tr>\n",
       "      <th>17499</th>\n",
       "      <td>165666</td>\n",
       "      <td>2017-06-22</td>\n",
       "      <td>10</td>\n",
       "    </tr>\n",
       "  </tbody>\n",
       "</table>\n",
       "<p>17500 rows × 3 columns</p>\n",
       "</div>"
      ],
      "text/plain": [
       "           id       date  online_hours\n",
       "0      979863 2017-06-28             7\n",
       "1      979863 2017-06-27             9\n",
       "2      979863 2017-06-26             9\n",
       "3      979863 2017-06-25            10\n",
       "4      979863 2017-06-24             9\n",
       "...       ...        ...           ...\n",
       "17495  165666 2017-06-26             7\n",
       "17496  165666 2017-06-25             7\n",
       "17497  165666 2017-06-24            10\n",
       "17498  165666 2017-06-23             6\n",
       "17499  165666 2017-06-22            10\n",
       "\n",
       "[17500 rows x 3 columns]"
      ]
     },
     "execution_count": 102,
     "metadata": {},
     "output_type": "execute_result"
    }
   ],
   "source": [
    "test['date'] = pd.to_datetime(test['date'])\n",
    "test"
   ]
  },
  {
   "cell_type": "code",
   "execution_count": 103,
   "metadata": {},
   "outputs": [
    {
     "data": {
      "image/png": "[encoded data removed]",
      "text/plain": [
       "<Figure size 1152x720 with 1 Axes>"
      ]
     },
     "metadata": {},
     "output_type": "display_data"
    }
   ],
   "source": [
    "plt.figure(figsize = (16,10))\n",
    "plt.hist(train['online_hours'], bins = 24)\n",
    "plt.xticks(np.arange(0,25))\n",
    "plt.grid()"
   ]
  },
  {
   "cell_type": "code",
   "execution_count": 104,
   "metadata": {},
   "outputs": [
    {
     "data": {
      "image/png": "[encoded data removed]",
      "text/plain": [
       "<Figure size 1152x720 with 1 Axes>"
      ]
     },
     "metadata": {},
     "output_type": "display_data"
    }
   ],
   "source": [
    "plt.figure(figsize = (16,10))\n",
    "plt.hist(test['online_hours'], bins = 24)\n",
    "plt.xticks(np.arange(0,25))\n",
    "plt.grid()"
   ]
  },
  {
   "cell_type": "code",
   "execution_count": 105,
   "metadata": {},
   "outputs": [
    {
     "data": {
      "text/plain": [
       "date\n",
       "2017-05-31     5565.7\n",
       "2017-06-01    12161.7\n",
       "2017-06-02    10404.1\n",
       "2017-06-03     8635.5\n",
       "2017-06-04    10218.8\n",
       "2017-06-05    12139.7\n",
       "2017-06-06    12158.7\n",
       "2017-06-07    12263.4\n",
       "2017-06-08    12222.2\n",
       "2017-06-09    10509.6\n",
       "2017-06-10     8658.6\n",
       "2017-06-11    10527.9\n",
       "2017-06-12    12238.8\n",
       "2017-06-13    12171.0\n",
       "2017-06-14    12020.3\n",
       "2017-06-15    12261.9\n",
       "2017-06-16    10595.4\n",
       "2017-06-17     8868.6\n",
       "2017-06-18    10457.8\n",
       "2017-06-19    12175.9\n",
       "2017-06-20    12146.0\n",
       "2017-06-21     6724.8\n",
       "Name: online_hours, dtype: float64"
      ]
     },
     "execution_count": 105,
     "metadata": {},
     "output_type": "execute_result"
    }
   ],
   "source": [
    "train_hours_by_day = train.groupby(by = [\"date\"])['online_hours'].sum()\n",
    "train_hours_by_day"
   ]
  },
  {
   "cell_type": "code",
   "execution_count": 106,
   "metadata": {},
   "outputs": [
    {
     "data": {
      "image/png": "[encoded data removed]",
      "text/plain": [
       "<Figure size 1152x720 with 1 Axes>"
      ]
     },
     "metadata": {},
     "output_type": "display_data"
    }
   ],
   "source": [
    "plt.figure(figsize = (16,10))\n",
    "plt.bar(train_hours_by_day.index, train_hours_by_day.values)\n",
    "plt.xticks(train_hours_by_day.index, rotation = 90)\n",
    "plt.grid()"
   ]
  },
  {
   "cell_type": "code",
   "execution_count": 107,
   "metadata": {},
   "outputs": [
    {
     "data": {
      "text/plain": [
       "date\n",
       "2017-06-22    12088\n",
       "2017-06-23    12088\n",
       "2017-06-24     8664\n",
       "2017-06-25     8705\n",
       "2017-06-26    12111\n",
       "2017-06-27    12075\n",
       "2017-06-28    12036\n",
       "Name: online_hours, dtype: int64"
      ]
     },
     "execution_count": 107,
     "metadata": {},
     "output_type": "execute_result"
    }
   ],
   "source": [
    "test_hours_by_day = test.groupby(by = [\"date\"])['online_hours'].sum()\n",
    "test_hours_by_day"
   ]
  },
  {
   "cell_type": "code",
   "execution_count": 108,
   "metadata": {},
   "outputs": [
    {
     "data": {
      "image/png": "[encoded data removed]",
      "text/plain": [
       "<Figure size 1152x720 with 1 Axes>"
      ]
     },
     "metadata": {},
     "output_type": "display_data"
    }
   ],
   "source": [
    "plt.figure(figsize = (16,10))\n",
    "plt.bar(test_hours_by_day.index, test_hours_by_day.values)\n",
    "plt.xticks(test_hours_by_day.index, rotation = 90)\n",
    "plt.grid()"
   ]
  },
  {
   "cell_type": "code",
   "execution_count": 110,
   "metadata": {},
   "outputs": [
    {
     "data": {
      "image/png": "[encoded data removed]",
      "text/plain": [
       "<Figure size 1152x720 with 1 Axes>"
      ]
     },
     "metadata": {},
     "output_type": "display_data"
    }
   ],
   "source": [
    "plt.figure(figsize = (16,10))\n",
    "train.id.value_counts().plot.kde()\n",
    "plt.grid()"
   ]
  },
  {
   "cell_type": "code",
   "execution_count": 111,
   "metadata": {},
   "outputs": [
    {
     "data": {
      "image/png": "[encoded data removed]",
      "text/plain": [
       "<Figure size 1152x720 with 1 Axes>"
      ]
     },
     "metadata": {},
     "output_type": "display_data"
    }
   ],
   "source": [
    "plt.figure(figsize = (16,10))\n",
    "test.id.value_counts().plot.kde()\n",
    "plt.grid()"
   ]
  },
  {
   "cell_type": "code",
   "execution_count": 112,
   "metadata": {},
   "outputs": [
    {
     "data": {
      "text/plain": [
       "[Text(0, 0, '2017-05-31'),\n",
       " Text(1, 0, '2017-06-01'),\n",
       " Text(2, 0, '2017-06-02'),\n",
       " Text(3, 0, '2017-06-03'),\n",
       " Text(4, 0, '2017-06-04'),\n",
       " Text(5, 0, '2017-06-05'),\n",
       " Text(6, 0, '2017-06-06'),\n",
       " Text(7, 0, '2017-06-07'),\n",
       " Text(8, 0, '2017-06-08'),\n",
       " Text(9, 0, '2017-06-09'),\n",
       " Text(10, 0, '2017-06-10'),\n",
       " Text(11, 0, '2017-06-11'),\n",
       " Text(12, 0, '2017-06-12'),\n",
       " Text(13, 0, '2017-06-13'),\n",
       " Text(14, 0, '2017-06-14'),\n",
       " Text(15, 0, '2017-06-15'),\n",
       " Text(16, 0, '2017-06-16'),\n",
       " Text(17, 0, '2017-06-17'),\n",
       " Text(18, 0, '2017-06-18'),\n",
       " Text(19, 0, '2017-06-19'),\n",
       " Text(20, 0, '2017-06-20'),\n",
       " Text(21, 0, '2017-06-21')]"
      ]
     },
     "execution_count": 112,
     "metadata": {},
     "output_type": "execute_result"
    },
    {
     "data": {
      "image/png": "[encoded data removed]",
      "text/plain": [
       "<Figure size 576x396 with 1 Axes>"
      ]
     },
     "metadata": {},
     "output_type": "display_data"
    }
   ],
   "source": [
    "import seaborn as sns\n",
    "g = sns.countplot(x=train['date'], order = train.date.sort_values().unique().tolist())\n",
    "g.set_xticklabels(g.get_xticklabels(), rotation=90)"
   ]
  },
  {
   "cell_type": "code",
   "execution_count": 113,
   "metadata": {},
   "outputs": [
    {
     "data": {
      "text/plain": [
       "[Text(0, 0, '1498089600000000000'),\n",
       " Text(1, 0, '1498176000000000000'),\n",
       " Text(2, 0, '1498262400000000000'),\n",
       " Text(3, 0, '1498348800000000000'),\n",
       " Text(4, 0, '1498435200000000000'),\n",
       " Text(5, 0, '1498521600000000000'),\n",
       " Text(6, 0, '1498608000000000000')]"
      ]
     },
     "execution_count": 113,
     "metadata": {},
     "output_type": "execute_result"
    },
    {
     "data": {
      "image/png": "[encoded data removed]",
      "text/plain": [
       "<Figure size 576x396 with 1 Axes>"
      ]
     },
     "metadata": {},
     "output_type": "display_data"
    }
   ],
   "source": [
    "g = sns.countplot(x=test['date'], order = test.date.sort_values().unique().tolist())\n",
    "g.set_xticklabels(g.get_xticklabels(), rotation=90)"
   ]
  },
  {
   "cell_type": "code",
   "execution_count": 114,
   "metadata": {},
   "outputs": [
    {
     "data": {
      "text/html": [
       "<div>\n",
       "<style scoped>\n",
       "    .dataframe tbody tr th:only-of-type {\n",
       "        vertical-align: middle;\n",
       "    }\n",
       "\n",
       "    .dataframe tbody tr th {\n",
       "        vertical-align: top;\n",
       "    }\n",
       "\n",
       "    .dataframe thead th {\n",
       "        text-align: right;\n",
       "    }\n",
       "</style>\n",
       "<table border=\"1\" class=\"dataframe\">\n",
       "  <thead>\n",
       "    <tr style=\"text-align: right;\">\n",
       "      <th></th>\n",
       "      <th>id</th>\n",
       "      <th>date</th>\n",
       "      <th>online_hours</th>\n",
       "    </tr>\n",
       "  </thead>\n",
       "  <tbody>\n",
       "    <tr>\n",
       "      <th>0</th>\n",
       "      <td>111556</td>\n",
       "      <td>2017-05-31</td>\n",
       "      <td>2.2</td>\n",
       "    </tr>\n",
       "    <tr>\n",
       "      <th>1</th>\n",
       "      <td>111556</td>\n",
       "      <td>2017-06-01</td>\n",
       "      <td>2.5</td>\n",
       "    </tr>\n",
       "    <tr>\n",
       "      <th>2</th>\n",
       "      <td>111556</td>\n",
       "      <td>2017-06-04</td>\n",
       "      <td>4.7</td>\n",
       "    </tr>\n",
       "    <tr>\n",
       "      <th>3</th>\n",
       "      <td>111556</td>\n",
       "      <td>2017-06-05</td>\n",
       "      <td>3.2</td>\n",
       "    </tr>\n",
       "    <tr>\n",
       "      <th>4</th>\n",
       "      <td>111556</td>\n",
       "      <td>2017-06-06</td>\n",
       "      <td>2.7</td>\n",
       "    </tr>\n",
       "    <tr>\n",
       "      <th>...</th>\n",
       "      <td>...</td>\n",
       "      <td>...</td>\n",
       "      <td>...</td>\n",
       "    </tr>\n",
       "    <tr>\n",
       "      <th>44467</th>\n",
       "      <td>998229</td>\n",
       "      <td>2017-06-16</td>\n",
       "      <td>7.6</td>\n",
       "    </tr>\n",
       "    <tr>\n",
       "      <th>44468</th>\n",
       "      <td>998229</td>\n",
       "      <td>2017-06-17</td>\n",
       "      <td>4.9</td>\n",
       "    </tr>\n",
       "    <tr>\n",
       "      <th>44469</th>\n",
       "      <td>998229</td>\n",
       "      <td>2017-06-18</td>\n",
       "      <td>6.5</td>\n",
       "    </tr>\n",
       "    <tr>\n",
       "      <th>44470</th>\n",
       "      <td>998229</td>\n",
       "      <td>2017-06-19</td>\n",
       "      <td>9.2</td>\n",
       "    </tr>\n",
       "    <tr>\n",
       "      <th>44471</th>\n",
       "      <td>998229</td>\n",
       "      <td>2017-06-21</td>\n",
       "      <td>9.0</td>\n",
       "    </tr>\n",
       "  </tbody>\n",
       "</table>\n",
       "<p>44472 rows × 3 columns</p>\n",
       "</div>"
      ],
      "text/plain": [
       "           id        date  online_hours\n",
       "0      111556  2017-05-31           2.2\n",
       "1      111556  2017-06-01           2.5\n",
       "2      111556  2017-06-04           4.7\n",
       "3      111556  2017-06-05           3.2\n",
       "4      111556  2017-06-06           2.7\n",
       "...       ...         ...           ...\n",
       "44467  998229  2017-06-16           7.6\n",
       "44468  998229  2017-06-17           4.9\n",
       "44469  998229  2017-06-18           6.5\n",
       "44470  998229  2017-06-19           9.2\n",
       "44471  998229  2017-06-21           9.0\n",
       "\n",
       "[44472 rows x 3 columns]"
      ]
     },
     "execution_count": 114,
     "metadata": {},
     "output_type": "execute_result"
    }
   ],
   "source": [
    "train"
   ]
  },
  {
   "cell_type": "code",
   "execution_count": 115,
   "metadata": {},
   "outputs": [
    {
     "data": {
      "text/html": [
       "<div>\n",
       "<style scoped>\n",
       "    .dataframe tbody tr th:only-of-type {\n",
       "        vertical-align: middle;\n",
       "    }\n",
       "\n",
       "    .dataframe tbody tr th {\n",
       "        vertical-align: top;\n",
       "    }\n",
       "\n",
       "    .dataframe thead th {\n",
       "        text-align: right;\n",
       "    }\n",
       "</style>\n",
       "<table border=\"1\" class=\"dataframe\">\n",
       "  <thead>\n",
       "    <tr style=\"text-align: right;\">\n",
       "      <th></th>\n",
       "      <th>id</th>\n",
       "      <th>date</th>\n",
       "      <th>online_hours</th>\n",
       "    </tr>\n",
       "  </thead>\n",
       "  <tbody>\n",
       "    <tr>\n",
       "      <th>0</th>\n",
       "      <td>979863</td>\n",
       "      <td>2017-06-28</td>\n",
       "      <td>7</td>\n",
       "    </tr>\n",
       "    <tr>\n",
       "      <th>1</th>\n",
       "      <td>979863</td>\n",
       "      <td>2017-06-27</td>\n",
       "      <td>9</td>\n",
       "    </tr>\n",
       "    <tr>\n",
       "      <th>2</th>\n",
       "      <td>979863</td>\n",
       "      <td>2017-06-26</td>\n",
       "      <td>9</td>\n",
       "    </tr>\n",
       "    <tr>\n",
       "      <th>3</th>\n",
       "      <td>979863</td>\n",
       "      <td>2017-06-25</td>\n",
       "      <td>10</td>\n",
       "    </tr>\n",
       "    <tr>\n",
       "      <th>4</th>\n",
       "      <td>979863</td>\n",
       "      <td>2017-06-24</td>\n",
       "      <td>9</td>\n",
       "    </tr>\n",
       "    <tr>\n",
       "      <th>...</th>\n",
       "      <td>...</td>\n",
       "      <td>...</td>\n",
       "      <td>...</td>\n",
       "    </tr>\n",
       "    <tr>\n",
       "      <th>17495</th>\n",
       "      <td>165666</td>\n",
       "      <td>2017-06-26</td>\n",
       "      <td>7</td>\n",
       "    </tr>\n",
       "    <tr>\n",
       "      <th>17496</th>\n",
       "      <td>165666</td>\n",
       "      <td>2017-06-25</td>\n",
       "      <td>7</td>\n",
       "    </tr>\n",
       "    <tr>\n",
       "      <th>17497</th>\n",
       "      <td>165666</td>\n",
       "      <td>2017-06-24</td>\n",
       "      <td>10</td>\n",
       "    </tr>\n",
       "    <tr>\n",
       "      <th>17498</th>\n",
       "      <td>165666</td>\n",
       "      <td>2017-06-23</td>\n",
       "      <td>6</td>\n",
       "    </tr>\n",
       "    <tr>\n",
       "      <th>17499</th>\n",
       "      <td>165666</td>\n",
       "      <td>2017-06-22</td>\n",
       "      <td>10</td>\n",
       "    </tr>\n",
       "  </tbody>\n",
       "</table>\n",
       "<p>17500 rows × 3 columns</p>\n",
       "</div>"
      ],
      "text/plain": [
       "           id       date  online_hours\n",
       "0      979863 2017-06-28             7\n",
       "1      979863 2017-06-27             9\n",
       "2      979863 2017-06-26             9\n",
       "3      979863 2017-06-25            10\n",
       "4      979863 2017-06-24             9\n",
       "...       ...        ...           ...\n",
       "17495  165666 2017-06-26             7\n",
       "17496  165666 2017-06-25             7\n",
       "17497  165666 2017-06-24            10\n",
       "17498  165666 2017-06-23             6\n",
       "17499  165666 2017-06-22            10\n",
       "\n",
       "[17500 rows x 3 columns]"
      ]
     },
     "execution_count": 115,
     "metadata": {},
     "output_type": "execute_result"
    }
   ],
   "source": [
    "test"
   ]
  },
  {
   "cell_type": "code",
   "execution_count": 116,
   "metadata": {},
   "outputs": [
    {
     "data": {
      "text/html": [
       "<div>\n",
       "<style scoped>\n",
       "    .dataframe tbody tr th:only-of-type {\n",
       "        vertical-align: middle;\n",
       "    }\n",
       "\n",
       "    .dataframe tbody tr th {\n",
       "        vertical-align: top;\n",
       "    }\n",
       "\n",
       "    .dataframe thead th {\n",
       "        text-align: right;\n",
       "    }\n",
       "</style>\n",
       "<table border=\"1\" class=\"dataframe\">\n",
       "  <thead>\n",
       "    <tr style=\"text-align: right;\">\n",
       "      <th></th>\n",
       "      <th>id</th>\n",
       "      <th>date</th>\n",
       "      <th>online_hours</th>\n",
       "    </tr>\n",
       "  </thead>\n",
       "  <tbody>\n",
       "    <tr>\n",
       "      <th>181</th>\n",
       "      <td>111556</td>\n",
       "      <td>2017-06-22</td>\n",
       "      <td>2</td>\n",
       "    </tr>\n",
       "    <tr>\n",
       "      <th>180</th>\n",
       "      <td>111556</td>\n",
       "      <td>2017-06-23</td>\n",
       "      <td>5</td>\n",
       "    </tr>\n",
       "    <tr>\n",
       "      <th>179</th>\n",
       "      <td>111556</td>\n",
       "      <td>2017-06-24</td>\n",
       "      <td>0</td>\n",
       "    </tr>\n",
       "    <tr>\n",
       "      <th>178</th>\n",
       "      <td>111556</td>\n",
       "      <td>2017-06-25</td>\n",
       "      <td>0</td>\n",
       "    </tr>\n",
       "    <tr>\n",
       "      <th>177</th>\n",
       "      <td>111556</td>\n",
       "      <td>2017-06-26</td>\n",
       "      <td>0</td>\n",
       "    </tr>\n",
       "    <tr>\n",
       "      <th>...</th>\n",
       "      <td>...</td>\n",
       "      <td>...</td>\n",
       "      <td>...</td>\n",
       "    </tr>\n",
       "    <tr>\n",
       "      <th>12387</th>\n",
       "      <td>998740</td>\n",
       "      <td>2017-06-24</td>\n",
       "      <td>0</td>\n",
       "    </tr>\n",
       "    <tr>\n",
       "      <th>12386</th>\n",
       "      <td>998740</td>\n",
       "      <td>2017-06-25</td>\n",
       "      <td>0</td>\n",
       "    </tr>\n",
       "    <tr>\n",
       "      <th>12385</th>\n",
       "      <td>998740</td>\n",
       "      <td>2017-06-26</td>\n",
       "      <td>0</td>\n",
       "    </tr>\n",
       "    <tr>\n",
       "      <th>12384</th>\n",
       "      <td>998740</td>\n",
       "      <td>2017-06-27</td>\n",
       "      <td>0</td>\n",
       "    </tr>\n",
       "    <tr>\n",
       "      <th>12383</th>\n",
       "      <td>998740</td>\n",
       "      <td>2017-06-28</td>\n",
       "      <td>0</td>\n",
       "    </tr>\n",
       "  </tbody>\n",
       "</table>\n",
       "<p>17500 rows × 3 columns</p>\n",
       "</div>"
      ],
      "text/plain": [
       "           id       date  online_hours\n",
       "181    111556 2017-06-22             2\n",
       "180    111556 2017-06-23             5\n",
       "179    111556 2017-06-24             0\n",
       "178    111556 2017-06-25             0\n",
       "177    111556 2017-06-26             0\n",
       "...       ...        ...           ...\n",
       "12387  998740 2017-06-24             0\n",
       "12386  998740 2017-06-25             0\n",
       "12385  998740 2017-06-26             0\n",
       "12384  998740 2017-06-27             0\n",
       "12383  998740 2017-06-28             0\n",
       "\n",
       "[17500 rows x 3 columns]"
      ]
     },
     "execution_count": 116,
     "metadata": {},
     "output_type": "execute_result"
    }
   ],
   "source": [
    "test.sort_values(['id', 'date'], ascending=[True, True])"
   ]
  },
  {
   "cell_type": "code",
   "execution_count": 117,
   "metadata": {},
   "outputs": [
    {
     "name": "stdout",
     "output_type": "stream",
     "text": [
      "           id        date  online_hours\n",
      "0      111556  2017-05-31           2.2\n",
      "1      111556  2017-06-01           2.5\n",
      "2      111556  2017-06-04           4.7\n",
      "3      111556  2017-06-05           3.2\n",
      "4      111556  2017-06-06           2.7\n",
      "...       ...         ...           ...\n",
      "54555  998215  2017-06-11           0.0\n",
      "54556  998215  2017-06-17           0.0\n",
      "54557  998215  2017-06-18           0.0\n",
      "54558  998229  2017-05-31           0.0\n",
      "54559  998229  2017-06-20           0.0\n",
      "\n",
      "[54560 rows x 3 columns]\n"
     ]
    }
   ],
   "source": [
    "import pandas as pd\n",
    "from datetime import datetime\n",
    "\n",
    "datelist = pd.date_range(train['date'][0], train['date'].iloc[-1]).tolist()\n",
    "for i in train['id'].unique():\n",
    "    user_dates = train[train['id'] == i]['date']\n",
    "    for j in datelist:\n",
    "        if str(pd.to_datetime(j).date()) not in str(user_dates):\n",
    "            train.loc[len(train.index)] = [i, pd.to_datetime(j).date(), 0]  \n",
    "print(train)    "
   ]
  },
  {
   "cell_type": "code",
   "execution_count": 118,
   "metadata": {},
   "outputs": [
    {
     "data": {
      "text/html": [
       "<div>\n",
       "<style scoped>\n",
       "    .dataframe tbody tr th:only-of-type {\n",
       "        vertical-align: middle;\n",
       "    }\n",
       "\n",
       "    .dataframe tbody tr th {\n",
       "        vertical-align: top;\n",
       "    }\n",
       "\n",
       "    .dataframe thead th {\n",
       "        text-align: right;\n",
       "    }\n",
       "</style>\n",
       "<table border=\"1\" class=\"dataframe\">\n",
       "  <thead>\n",
       "    <tr style=\"text-align: right;\">\n",
       "      <th></th>\n",
       "      <th>id</th>\n",
       "      <th>date</th>\n",
       "      <th>online_hours</th>\n",
       "    </tr>\n",
       "  </thead>\n",
       "  <tbody>\n",
       "    <tr>\n",
       "      <th>0</th>\n",
       "      <td>111556</td>\n",
       "      <td>2017-05-31</td>\n",
       "      <td>2.2</td>\n",
       "    </tr>\n",
       "    <tr>\n",
       "      <th>1</th>\n",
       "      <td>111556</td>\n",
       "      <td>2017-06-01</td>\n",
       "      <td>2.5</td>\n",
       "    </tr>\n",
       "    <tr>\n",
       "      <th>2</th>\n",
       "      <td>111556</td>\n",
       "      <td>2017-06-02</td>\n",
       "      <td>0.0</td>\n",
       "    </tr>\n",
       "    <tr>\n",
       "      <th>3</th>\n",
       "      <td>111556</td>\n",
       "      <td>2017-06-03</td>\n",
       "      <td>0.0</td>\n",
       "    </tr>\n",
       "    <tr>\n",
       "      <th>4</th>\n",
       "      <td>111556</td>\n",
       "      <td>2017-06-04</td>\n",
       "      <td>4.7</td>\n",
       "    </tr>\n",
       "    <tr>\n",
       "      <th>...</th>\n",
       "      <td>...</td>\n",
       "      <td>...</td>\n",
       "      <td>...</td>\n",
       "    </tr>\n",
       "    <tr>\n",
       "      <th>54555</th>\n",
       "      <td>998229</td>\n",
       "      <td>2017-06-17</td>\n",
       "      <td>4.9</td>\n",
       "    </tr>\n",
       "    <tr>\n",
       "      <th>54556</th>\n",
       "      <td>998229</td>\n",
       "      <td>2017-06-18</td>\n",
       "      <td>6.5</td>\n",
       "    </tr>\n",
       "    <tr>\n",
       "      <th>54557</th>\n",
       "      <td>998229</td>\n",
       "      <td>2017-06-19</td>\n",
       "      <td>9.2</td>\n",
       "    </tr>\n",
       "    <tr>\n",
       "      <th>54558</th>\n",
       "      <td>998229</td>\n",
       "      <td>2017-06-20</td>\n",
       "      <td>0.0</td>\n",
       "    </tr>\n",
       "    <tr>\n",
       "      <th>54559</th>\n",
       "      <td>998229</td>\n",
       "      <td>2017-06-21</td>\n",
       "      <td>9.0</td>\n",
       "    </tr>\n",
       "  </tbody>\n",
       "</table>\n",
       "<p>54560 rows × 3 columns</p>\n",
       "</div>"
      ],
      "text/plain": [
       "           id        date  online_hours\n",
       "0      111556  2017-05-31           2.2\n",
       "1      111556  2017-06-01           2.5\n",
       "2      111556  2017-06-02           0.0\n",
       "3      111556  2017-06-03           0.0\n",
       "4      111556  2017-06-04           4.7\n",
       "...       ...         ...           ...\n",
       "54555  998229  2017-06-17           4.9\n",
       "54556  998229  2017-06-18           6.5\n",
       "54557  998229  2017-06-19           9.2\n",
       "54558  998229  2017-06-20           0.0\n",
       "54559  998229  2017-06-21           9.0\n",
       "\n",
       "[54560 rows x 3 columns]"
      ]
     },
     "execution_count": 118,
     "metadata": {},
     "output_type": "execute_result"
    }
   ],
   "source": [
    "train.sort_values(['id', 'date'], ascending=[True, True], ignore_index = True, inplace = True)\n",
    "train"
   ]
  },
  {
   "cell_type": "code",
   "execution_count": 119,
   "metadata": {},
   "outputs": [
    {
     "data": {
      "image/png": "[encoded data removed]",
      "text/plain": [
       "<Figure size 1152x720 with 1 Axes>"
      ]
     },
     "metadata": {},
     "output_type": "display_data"
    }
   ],
   "source": [
    "plt.figure(figsize = (16,10))\n",
    "plt.hist(train['online_hours'], bins = 24)\n",
    "plt.xticks(np.arange(0,25))\n",
    "plt.grid()"
   ]
  },
  {
   "cell_type": "code",
   "execution_count": 120,
   "metadata": {},
   "outputs": [
    {
     "data": {
      "text/plain": [
       "[Text(0, 0, '2017-05-31'),\n",
       " Text(1, 0, '2017-06-01'),\n",
       " Text(2, 0, '2017-06-02'),\n",
       " Text(3, 0, '2017-06-03'),\n",
       " Text(4, 0, '2017-06-04'),\n",
       " Text(5, 0, '2017-06-05'),\n",
       " Text(6, 0, '2017-06-06'),\n",
       " Text(7, 0, '2017-06-07'),\n",
       " Text(8, 0, '2017-06-08'),\n",
       " Text(9, 0, '2017-06-09'),\n",
       " Text(10, 0, '2017-06-10'),\n",
       " Text(11, 0, '2017-06-11'),\n",
       " Text(12, 0, '2017-06-12'),\n",
       " Text(13, 0, '2017-06-13'),\n",
       " Text(14, 0, '2017-06-14'),\n",
       " Text(15, 0, '2017-06-15'),\n",
       " Text(16, 0, '2017-06-16'),\n",
       " Text(17, 0, '2017-06-17'),\n",
       " Text(18, 0, '2017-06-18'),\n",
       " Text(19, 0, '2017-06-19'),\n",
       " Text(20, 0, '2017-06-20'),\n",
       " Text(21, 0, '2017-06-21')]"
      ]
     },
     "execution_count": 120,
     "metadata": {},
     "output_type": "execute_result"
    },
    {
     "data": {
      "image/png": "[encoded data removed]",
      "text/plain": [
       "<Figure size 576x396 with 1 Axes>"
      ]
     },
     "metadata": {},
     "output_type": "display_data"
    }
   ],
   "source": [
    "g = sns.countplot(x=train['date'], order = train.date.sort_values().unique().tolist())\n",
    "g.set_xticklabels(g.get_xticklabels(), rotation=90)"
   ]
  },
  {
   "cell_type": "code",
   "execution_count": 122,
   "metadata": {},
   "outputs": [],
   "source": [
    "from ydata_profiling import ProfileReport\n",
    "profile = ProfileReport(customers)"
   ]
  },
  {
   "cell_type": "code",
   "execution_count": 123,
   "metadata": {},
   "outputs": [
    {
     "data": {
      "application/vnd.jupyter.widget-view+json": {
       "model_id": "b1fc32df15274b95af02ee4c4714ec0d",
       "version_major": 2,
       "version_minor": 0
      },
      "text/plain": [
       "HBox(children=(HTML(value='Summarize dataset'), FloatProgress(value=0.0, max=5.0), HTML(value='')))"
      ]
     },
     "metadata": {},
     "output_type": "display_data"
    },
    {
     "name": "stdout",
     "output_type": "stream",
     "text": [
      "\n"
     ]
    },
    {
     "data": {
      "application/vnd.jupyter.widget-view+json": {
       "model_id": "7f2e32f1bf914128b9cbc0553e560013",
       "version_major": 2,
       "version_minor": 0
      },
      "text/plain": [
       "HBox(children=(HTML(value='Generate report structure'), FloatProgress(value=0.0, max=1.0), HTML(value='')))"
      ]
     },
     "metadata": {},
     "output_type": "display_data"
    },
    {
     "name": "stdout",
     "output_type": "stream",
     "text": [
      "\n"
     ]
    },
    {
     "data": {
      "application/vnd.jupyter.widget-view+json": {
       "model_id": "",
       "version_major": 2,
       "version_minor": 0
      },
      "text/plain": [
       "HBox(children=(HTML(value='Render widgets'), FloatProgress(value=0.0, max=1.0), HTML(value='')))"
      ]
     },
     "metadata": {},
     "output_type": "display_data"
    },
    {
     "data": {
      "application/vnd.jupyter.widget-view+json": {
       "model_id": "09a4127f6f7b4551971e6f72dbb68689",
       "version_major": 2,
       "version_minor": 0
      },
      "text/plain": [
       "VBox(children=(Tab(children=(Tab(children=(GridBox(children=(VBox(children=(GridspecLayout(children=(HTML(valu…"
      ]
     },
     "metadata": {},
     "output_type": "display_data"
    }
   ],
   "source": [
    "profile.to_widgets()"
   ]
  },
  {
   "cell_type": "code",
   "execution_count": 125,
   "metadata": {},
   "outputs": [],
   "source": [
    "train.to_csv('/Users/nadiiapoliakovska/Documents/Springboard/Users_active_time_prediction/data/processed/train.csv',\n",
    "            index=False)"
   ]
  },
  {
   "cell_type": "code",
   "execution_count": 126,
   "metadata": {},
   "outputs": [],
   "source": [
    "test.to_csv('/Users/nadiiapoliakovska/Documents/Springboard/Users_active_time_prediction/data/processed/test.csv',\n",
    "            index=False)"
   ]
  }
 ],
 "metadata": {
  "kernelspec": {
   "display_name": "Python 3",
   "language": "python",
   "name": "python3"
  },
  "language_info": {
   "codemirror_mode": {
    "name": "ipython",
    "version": 3
   },
   "file_extension": ".py",
   "mimetype": "text/x-python",
   "name": "python",
   "nbconvert_exporter": "python",
   "pygments_lexer": "ipython3",
   "version": "3.8.5"
  }
 },
 "nbformat": 4,
 "nbformat_minor": 4
}
