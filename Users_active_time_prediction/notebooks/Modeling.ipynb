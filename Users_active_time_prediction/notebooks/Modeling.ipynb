{
 "cells": [
  {
   "cell_type": "code",
   "execution_count": 48,
   "metadata": {},
   "outputs": [],
   "source": [
    "import pandas as pd\n",
    "import numpy as np\n",
    "from sklearn.metrics import mean_squared_error\n",
    "from lightgbm import LGBMRegressor\n",
    "import matplotlib.pyplot as plt\n",
    "import optuna\n",
    "import json"
   ]
  },
  {
   "cell_type": "code",
   "execution_count": 49,
   "metadata": {},
   "outputs": [
    {
     "data": {
      "text/html": [
       "<div>\n",
       "<style scoped>\n",
       "    .dataframe tbody tr th:only-of-type {\n",
       "        vertical-align: middle;\n",
       "    }\n",
       "\n",
       "    .dataframe tbody tr th {\n",
       "        vertical-align: top;\n",
       "    }\n",
       "\n",
       "    .dataframe thead th {\n",
       "        text-align: right;\n",
       "    }\n",
       "</style>\n",
       "<table border=\"1\" class=\"dataframe\">\n",
       "  <thead>\n",
       "    <tr style=\"text-align: right;\">\n",
       "      <th></th>\n",
       "      <th>last_day_oh7</th>\n",
       "      <th>last_day_oh</th>\n",
       "      <th>last_day_oh14</th>\n",
       "      <th>last_day_oh6</th>\n",
       "      <th>day_of_week</th>\n",
       "      <th>last_day_diff</th>\n",
       "      <th>onlinehours_roll_mean_6</th>\n",
       "      <th>last_day_oh1</th>\n",
       "      <th>onlinehours_roll_mean_7</th>\n",
       "      <th>last_day_oh13</th>\n",
       "      <th>...</th>\n",
       "      <th>last_day_diff5</th>\n",
       "      <th>onlinehours_roll_mean_17</th>\n",
       "      <th>onlinehours_roll_mean_14</th>\n",
       "      <th>onlinehours_roll_mean_16</th>\n",
       "      <th>onlinehours_roll_mean_9</th>\n",
       "      <th>last_day_diff9</th>\n",
       "      <th>last_day_oh4</th>\n",
       "      <th>last-1_day_oh</th>\n",
       "      <th>onlinehours_roll_mean_8</th>\n",
       "      <th>last_day_diff10</th>\n",
       "    </tr>\n",
       "  </thead>\n",
       "  <tbody>\n",
       "    <tr>\n",
       "      <th>0</th>\n",
       "      <td>NaN</td>\n",
       "      <td>2.2</td>\n",
       "      <td>NaN</td>\n",
       "      <td>NaN</td>\n",
       "      <td>4</td>\n",
       "      <td>NaN</td>\n",
       "      <td>NaN</td>\n",
       "      <td>NaN</td>\n",
       "      <td>NaN</td>\n",
       "      <td>NaN</td>\n",
       "      <td>...</td>\n",
       "      <td>NaN</td>\n",
       "      <td>NaN</td>\n",
       "      <td>NaN</td>\n",
       "      <td>NaN</td>\n",
       "      <td>NaN</td>\n",
       "      <td>NaN</td>\n",
       "      <td>NaN</td>\n",
       "      <td>NaN</td>\n",
       "      <td>NaN</td>\n",
       "      <td>NaN</td>\n",
       "    </tr>\n",
       "    <tr>\n",
       "      <th>1</th>\n",
       "      <td>NaN</td>\n",
       "      <td>2.5</td>\n",
       "      <td>NaN</td>\n",
       "      <td>NaN</td>\n",
       "      <td>5</td>\n",
       "      <td>0.3</td>\n",
       "      <td>NaN</td>\n",
       "      <td>2.5</td>\n",
       "      <td>NaN</td>\n",
       "      <td>NaN</td>\n",
       "      <td>...</td>\n",
       "      <td>NaN</td>\n",
       "      <td>NaN</td>\n",
       "      <td>NaN</td>\n",
       "      <td>NaN</td>\n",
       "      <td>NaN</td>\n",
       "      <td>NaN</td>\n",
       "      <td>NaN</td>\n",
       "      <td>NaN</td>\n",
       "      <td>NaN</td>\n",
       "      <td>NaN</td>\n",
       "    </tr>\n",
       "    <tr>\n",
       "      <th>2</th>\n",
       "      <td>NaN</td>\n",
       "      <td>0.0</td>\n",
       "      <td>NaN</td>\n",
       "      <td>NaN</td>\n",
       "      <td>6</td>\n",
       "      <td>-2.5</td>\n",
       "      <td>NaN</td>\n",
       "      <td>0.0</td>\n",
       "      <td>NaN</td>\n",
       "      <td>NaN</td>\n",
       "      <td>...</td>\n",
       "      <td>NaN</td>\n",
       "      <td>NaN</td>\n",
       "      <td>NaN</td>\n",
       "      <td>NaN</td>\n",
       "      <td>NaN</td>\n",
       "      <td>NaN</td>\n",
       "      <td>NaN</td>\n",
       "      <td>2.5</td>\n",
       "      <td>NaN</td>\n",
       "      <td>NaN</td>\n",
       "    </tr>\n",
       "    <tr>\n",
       "      <th>3</th>\n",
       "      <td>NaN</td>\n",
       "      <td>0.0</td>\n",
       "      <td>NaN</td>\n",
       "      <td>NaN</td>\n",
       "      <td>7</td>\n",
       "      <td>0.0</td>\n",
       "      <td>NaN</td>\n",
       "      <td>0.0</td>\n",
       "      <td>NaN</td>\n",
       "      <td>NaN</td>\n",
       "      <td>...</td>\n",
       "      <td>NaN</td>\n",
       "      <td>NaN</td>\n",
       "      <td>NaN</td>\n",
       "      <td>NaN</td>\n",
       "      <td>NaN</td>\n",
       "      <td>NaN</td>\n",
       "      <td>NaN</td>\n",
       "      <td>0.0</td>\n",
       "      <td>NaN</td>\n",
       "      <td>NaN</td>\n",
       "    </tr>\n",
       "    <tr>\n",
       "      <th>4</th>\n",
       "      <td>NaN</td>\n",
       "      <td>4.7</td>\n",
       "      <td>NaN</td>\n",
       "      <td>NaN</td>\n",
       "      <td>1</td>\n",
       "      <td>4.7</td>\n",
       "      <td>NaN</td>\n",
       "      <td>4.7</td>\n",
       "      <td>NaN</td>\n",
       "      <td>NaN</td>\n",
       "      <td>...</td>\n",
       "      <td>NaN</td>\n",
       "      <td>NaN</td>\n",
       "      <td>NaN</td>\n",
       "      <td>NaN</td>\n",
       "      <td>NaN</td>\n",
       "      <td>NaN</td>\n",
       "      <td>2.5</td>\n",
       "      <td>0.0</td>\n",
       "      <td>NaN</td>\n",
       "      <td>NaN</td>\n",
       "    </tr>\n",
       "    <tr>\n",
       "      <th>...</th>\n",
       "      <td>...</td>\n",
       "      <td>...</td>\n",
       "      <td>...</td>\n",
       "      <td>...</td>\n",
       "      <td>...</td>\n",
       "      <td>...</td>\n",
       "      <td>...</td>\n",
       "      <td>...</td>\n",
       "      <td>...</td>\n",
       "      <td>...</td>\n",
       "      <td>...</td>\n",
       "      <td>...</td>\n",
       "      <td>...</td>\n",
       "      <td>...</td>\n",
       "      <td>...</td>\n",
       "      <td>...</td>\n",
       "      <td>...</td>\n",
       "      <td>...</td>\n",
       "      <td>...</td>\n",
       "      <td>...</td>\n",
       "      <td>...</td>\n",
       "    </tr>\n",
       "    <tr>\n",
       "      <th>52075</th>\n",
       "      <td>8.5</td>\n",
       "      <td>7.6</td>\n",
       "      <td>4.7</td>\n",
       "      <td>7.0</td>\n",
       "      <td>6</td>\n",
       "      <td>2.1</td>\n",
       "      <td>NaN</td>\n",
       "      <td>7.6</td>\n",
       "      <td>NaN</td>\n",
       "      <td>6.2</td>\n",
       "      <td>...</td>\n",
       "      <td>-1.9</td>\n",
       "      <td>NaN</td>\n",
       "      <td>NaN</td>\n",
       "      <td>NaN</td>\n",
       "      <td>NaN</td>\n",
       "      <td>-1.3</td>\n",
       "      <td>6.6</td>\n",
       "      <td>5.5</td>\n",
       "      <td>NaN</td>\n",
       "      <td>-0.9</td>\n",
       "    </tr>\n",
       "    <tr>\n",
       "      <th>52076</th>\n",
       "      <td>7.0</td>\n",
       "      <td>4.9</td>\n",
       "      <td>6.2</td>\n",
       "      <td>5.1</td>\n",
       "      <td>7</td>\n",
       "      <td>-2.7</td>\n",
       "      <td>NaN</td>\n",
       "      <td>4.9</td>\n",
       "      <td>NaN</td>\n",
       "      <td>8.5</td>\n",
       "      <td>...</td>\n",
       "      <td>1.5</td>\n",
       "      <td>NaN</td>\n",
       "      <td>NaN</td>\n",
       "      <td>NaN</td>\n",
       "      <td>NaN</td>\n",
       "      <td>0.6</td>\n",
       "      <td>9.2</td>\n",
       "      <td>7.6</td>\n",
       "      <td>NaN</td>\n",
       "      <td>-1.3</td>\n",
       "    </tr>\n",
       "    <tr>\n",
       "      <th>52077</th>\n",
       "      <td>5.1</td>\n",
       "      <td>6.5</td>\n",
       "      <td>8.5</td>\n",
       "      <td>6.6</td>\n",
       "      <td>1</td>\n",
       "      <td>1.6</td>\n",
       "      <td>NaN</td>\n",
       "      <td>6.5</td>\n",
       "      <td>NaN</td>\n",
       "      <td>9.8</td>\n",
       "      <td>...</td>\n",
       "      <td>2.6</td>\n",
       "      <td>NaN</td>\n",
       "      <td>NaN</td>\n",
       "      <td>NaN</td>\n",
       "      <td>NaN</td>\n",
       "      <td>0.3</td>\n",
       "      <td>5.5</td>\n",
       "      <td>4.9</td>\n",
       "      <td>NaN</td>\n",
       "      <td>0.6</td>\n",
       "    </tr>\n",
       "    <tr>\n",
       "      <th>52078</th>\n",
       "      <td>6.6</td>\n",
       "      <td>9.2</td>\n",
       "      <td>9.8</td>\n",
       "      <td>9.2</td>\n",
       "      <td>2</td>\n",
       "      <td>2.7</td>\n",
       "      <td>NaN</td>\n",
       "      <td>9.2</td>\n",
       "      <td>NaN</td>\n",
       "      <td>8.9</td>\n",
       "      <td>...</td>\n",
       "      <td>-3.7</td>\n",
       "      <td>NaN</td>\n",
       "      <td>NaN</td>\n",
       "      <td>NaN</td>\n",
       "      <td>NaN</td>\n",
       "      <td>-1.5</td>\n",
       "      <td>7.6</td>\n",
       "      <td>6.5</td>\n",
       "      <td>NaN</td>\n",
       "      <td>0.3</td>\n",
       "    </tr>\n",
       "    <tr>\n",
       "      <th>52079</th>\n",
       "      <td>9.2</td>\n",
       "      <td>0.0</td>\n",
       "      <td>8.9</td>\n",
       "      <td>5.5</td>\n",
       "      <td>3</td>\n",
       "      <td>-9.2</td>\n",
       "      <td>NaN</td>\n",
       "      <td>0.0</td>\n",
       "      <td>NaN</td>\n",
       "      <td>7.6</td>\n",
       "      <td>...</td>\n",
       "      <td>2.1</td>\n",
       "      <td>NaN</td>\n",
       "      <td>NaN</td>\n",
       "      <td>NaN</td>\n",
       "      <td>NaN</td>\n",
       "      <td>-1.9</td>\n",
       "      <td>4.9</td>\n",
       "      <td>9.2</td>\n",
       "      <td>NaN</td>\n",
       "      <td>-1.5</td>\n",
       "    </tr>\n",
       "  </tbody>\n",
       "</table>\n",
       "<p>52080 rows × 40 columns</p>\n",
       "</div>"
      ],
      "text/plain": [
       "       last_day_oh7  last_day_oh  last_day_oh14  last_day_oh6  day_of_week  \\\n",
       "0               NaN          2.2            NaN           NaN            4   \n",
       "1               NaN          2.5            NaN           NaN            5   \n",
       "2               NaN          0.0            NaN           NaN            6   \n",
       "3               NaN          0.0            NaN           NaN            7   \n",
       "4               NaN          4.7            NaN           NaN            1   \n",
       "...             ...          ...            ...           ...          ...   \n",
       "52075           8.5          7.6            4.7           7.0            6   \n",
       "52076           7.0          4.9            6.2           5.1            7   \n",
       "52077           5.1          6.5            8.5           6.6            1   \n",
       "52078           6.6          9.2            9.8           9.2            2   \n",
       "52079           9.2          0.0            8.9           5.5            3   \n",
       "\n",
       "       last_day_diff  onlinehours_roll_mean_6  last_day_oh1  \\\n",
       "0                NaN                      NaN           NaN   \n",
       "1                0.3                      NaN           2.5   \n",
       "2               -2.5                      NaN           0.0   \n",
       "3                0.0                      NaN           0.0   \n",
       "4                4.7                      NaN           4.7   \n",
       "...              ...                      ...           ...   \n",
       "52075            2.1                      NaN           7.6   \n",
       "52076           -2.7                      NaN           4.9   \n",
       "52077            1.6                      NaN           6.5   \n",
       "52078            2.7                      NaN           9.2   \n",
       "52079           -9.2                      NaN           0.0   \n",
       "\n",
       "       onlinehours_roll_mean_7  last_day_oh13  ...  last_day_diff5  \\\n",
       "0                          NaN            NaN  ...             NaN   \n",
       "1                          NaN            NaN  ...             NaN   \n",
       "2                          NaN            NaN  ...             NaN   \n",
       "3                          NaN            NaN  ...             NaN   \n",
       "4                          NaN            NaN  ...             NaN   \n",
       "...                        ...            ...  ...             ...   \n",
       "52075                      NaN            6.2  ...            -1.9   \n",
       "52076                      NaN            8.5  ...             1.5   \n",
       "52077                      NaN            9.8  ...             2.6   \n",
       "52078                      NaN            8.9  ...            -3.7   \n",
       "52079                      NaN            7.6  ...             2.1   \n",
       "\n",
       "       onlinehours_roll_mean_17  onlinehours_roll_mean_14  \\\n",
       "0                           NaN                       NaN   \n",
       "1                           NaN                       NaN   \n",
       "2                           NaN                       NaN   \n",
       "3                           NaN                       NaN   \n",
       "4                           NaN                       NaN   \n",
       "...                         ...                       ...   \n",
       "52075                       NaN                       NaN   \n",
       "52076                       NaN                       NaN   \n",
       "52077                       NaN                       NaN   \n",
       "52078                       NaN                       NaN   \n",
       "52079                       NaN                       NaN   \n",
       "\n",
       "       onlinehours_roll_mean_16  onlinehours_roll_mean_9  last_day_diff9  \\\n",
       "0                           NaN                      NaN             NaN   \n",
       "1                           NaN                      NaN             NaN   \n",
       "2                           NaN                      NaN             NaN   \n",
       "3                           NaN                      NaN             NaN   \n",
       "4                           NaN                      NaN             NaN   \n",
       "...                         ...                      ...             ...   \n",
       "52075                       NaN                      NaN            -1.3   \n",
       "52076                       NaN                      NaN             0.6   \n",
       "52077                       NaN                      NaN             0.3   \n",
       "52078                       NaN                      NaN            -1.5   \n",
       "52079                       NaN                      NaN            -1.9   \n",
       "\n",
       "       last_day_oh4  last-1_day_oh  onlinehours_roll_mean_8  last_day_diff10  \n",
       "0               NaN            NaN                      NaN              NaN  \n",
       "1               NaN            NaN                      NaN              NaN  \n",
       "2               NaN            2.5                      NaN              NaN  \n",
       "3               NaN            0.0                      NaN              NaN  \n",
       "4               2.5            0.0                      NaN              NaN  \n",
       "...             ...            ...                      ...              ...  \n",
       "52075           6.6            5.5                      NaN             -0.9  \n",
       "52076           9.2            7.6                      NaN             -1.3  \n",
       "52077           5.5            4.9                      NaN              0.6  \n",
       "52078           7.6            6.5                      NaN              0.3  \n",
       "52079           4.9            9.2                      NaN             -1.5  \n",
       "\n",
       "[52080 rows x 40 columns]"
      ]
     },
     "execution_count": 49,
     "metadata": {},
     "output_type": "execute_result"
    }
   ],
   "source": [
    "xtrain = pd.read_csv(r'/Users/nadiiapoliakovska/Documents/Springboard/Users_active_time_prediction/data/interim/xtrain.csv')\n",
    "xtrain"
   ]
  },
  {
   "cell_type": "code",
   "execution_count": 50,
   "metadata": {},
   "outputs": [
    {
     "data": {
      "text/html": [
       "<div>\n",
       "<style scoped>\n",
       "    .dataframe tbody tr th:only-of-type {\n",
       "        vertical-align: middle;\n",
       "    }\n",
       "\n",
       "    .dataframe tbody tr th {\n",
       "        vertical-align: top;\n",
       "    }\n",
       "\n",
       "    .dataframe thead th {\n",
       "        text-align: right;\n",
       "    }\n",
       "</style>\n",
       "<table border=\"1\" class=\"dataframe\">\n",
       "  <thead>\n",
       "    <tr style=\"text-align: right;\">\n",
       "      <th></th>\n",
       "      <th>last_day_oh7</th>\n",
       "      <th>last_day_oh</th>\n",
       "      <th>last_day_oh14</th>\n",
       "      <th>last_day_oh6</th>\n",
       "      <th>day_of_week</th>\n",
       "      <th>last_day_diff</th>\n",
       "      <th>onlinehours_roll_mean_6</th>\n",
       "      <th>last_day_oh1</th>\n",
       "      <th>onlinehours_roll_mean_7</th>\n",
       "      <th>last_day_oh13</th>\n",
       "      <th>...</th>\n",
       "      <th>last_day_diff5</th>\n",
       "      <th>onlinehours_roll_mean_17</th>\n",
       "      <th>onlinehours_roll_mean_14</th>\n",
       "      <th>onlinehours_roll_mean_16</th>\n",
       "      <th>onlinehours_roll_mean_9</th>\n",
       "      <th>last_day_diff9</th>\n",
       "      <th>last_day_oh4</th>\n",
       "      <th>last-1_day_oh</th>\n",
       "      <th>onlinehours_roll_mean_8</th>\n",
       "      <th>last_day_diff10</th>\n",
       "    </tr>\n",
       "  </thead>\n",
       "  <tbody>\n",
       "    <tr>\n",
       "      <th>0</th>\n",
       "      <td>0.0</td>\n",
       "      <td>NaN</td>\n",
       "      <td>4.5</td>\n",
       "      <td>0.0</td>\n",
       "      <td>4</td>\n",
       "      <td>NaN</td>\n",
       "      <td>NaN</td>\n",
       "      <td>0.0</td>\n",
       "      <td>NaN</td>\n",
       "      <td>0.0</td>\n",
       "      <td>...</td>\n",
       "      <td>0.0</td>\n",
       "      <td>NaN</td>\n",
       "      <td>NaN</td>\n",
       "      <td>NaN</td>\n",
       "      <td>NaN</td>\n",
       "      <td>-2.4</td>\n",
       "      <td>0.6</td>\n",
       "      <td>NaN</td>\n",
       "      <td>NaN</td>\n",
       "      <td>0.6</td>\n",
       "    </tr>\n",
       "    <tr>\n",
       "      <th>1</th>\n",
       "      <td>0.0</td>\n",
       "      <td>NaN</td>\n",
       "      <td>0.0</td>\n",
       "      <td>0.0</td>\n",
       "      <td>5</td>\n",
       "      <td>NaN</td>\n",
       "      <td>NaN</td>\n",
       "      <td>NaN</td>\n",
       "      <td>NaN</td>\n",
       "      <td>0.0</td>\n",
       "      <td>...</td>\n",
       "      <td>0.6</td>\n",
       "      <td>NaN</td>\n",
       "      <td>NaN</td>\n",
       "      <td>NaN</td>\n",
       "      <td>NaN</td>\n",
       "      <td>-0.9</td>\n",
       "      <td>2.2</td>\n",
       "      <td>NaN</td>\n",
       "      <td>NaN</td>\n",
       "      <td>-2.4</td>\n",
       "    </tr>\n",
       "    <tr>\n",
       "      <th>2</th>\n",
       "      <td>0.0</td>\n",
       "      <td>NaN</td>\n",
       "      <td>0.0</td>\n",
       "      <td>0.6</td>\n",
       "      <td>6</td>\n",
       "      <td>NaN</td>\n",
       "      <td>NaN</td>\n",
       "      <td>NaN</td>\n",
       "      <td>NaN</td>\n",
       "      <td>3.8</td>\n",
       "      <td>...</td>\n",
       "      <td>1.6</td>\n",
       "      <td>NaN</td>\n",
       "      <td>NaN</td>\n",
       "      <td>NaN</td>\n",
       "      <td>NaN</td>\n",
       "      <td>-1.1</td>\n",
       "      <td>3.1</td>\n",
       "      <td>NaN</td>\n",
       "      <td>NaN</td>\n",
       "      <td>-0.9</td>\n",
       "    </tr>\n",
       "    <tr>\n",
       "      <th>3</th>\n",
       "      <td>0.6</td>\n",
       "      <td>NaN</td>\n",
       "      <td>3.8</td>\n",
       "      <td>2.2</td>\n",
       "      <td>7</td>\n",
       "      <td>NaN</td>\n",
       "      <td>NaN</td>\n",
       "      <td>NaN</td>\n",
       "      <td>NaN</td>\n",
       "      <td>4.4</td>\n",
       "      <td>...</td>\n",
       "      <td>0.9</td>\n",
       "      <td>NaN</td>\n",
       "      <td>NaN</td>\n",
       "      <td>NaN</td>\n",
       "      <td>NaN</td>\n",
       "      <td>0.0</td>\n",
       "      <td>0.0</td>\n",
       "      <td>NaN</td>\n",
       "      <td>NaN</td>\n",
       "      <td>-1.1</td>\n",
       "    </tr>\n",
       "    <tr>\n",
       "      <th>4</th>\n",
       "      <td>2.2</td>\n",
       "      <td>NaN</td>\n",
       "      <td>4.4</td>\n",
       "      <td>3.1</td>\n",
       "      <td>1</td>\n",
       "      <td>NaN</td>\n",
       "      <td>NaN</td>\n",
       "      <td>NaN</td>\n",
       "      <td>NaN</td>\n",
       "      <td>2.0</td>\n",
       "      <td>...</td>\n",
       "      <td>-3.1</td>\n",
       "      <td>NaN</td>\n",
       "      <td>NaN</td>\n",
       "      <td>NaN</td>\n",
       "      <td>NaN</td>\n",
       "      <td>0.0</td>\n",
       "      <td>NaN</td>\n",
       "      <td>NaN</td>\n",
       "      <td>NaN</td>\n",
       "      <td>0.0</td>\n",
       "    </tr>\n",
       "    <tr>\n",
       "      <th>...</th>\n",
       "      <td>...</td>\n",
       "      <td>...</td>\n",
       "      <td>...</td>\n",
       "      <td>...</td>\n",
       "      <td>...</td>\n",
       "      <td>...</td>\n",
       "      <td>...</td>\n",
       "      <td>...</td>\n",
       "      <td>...</td>\n",
       "      <td>...</td>\n",
       "      <td>...</td>\n",
       "      <td>...</td>\n",
       "      <td>...</td>\n",
       "      <td>...</td>\n",
       "      <td>...</td>\n",
       "      <td>...</td>\n",
       "      <td>...</td>\n",
       "      <td>...</td>\n",
       "      <td>...</td>\n",
       "      <td>...</td>\n",
       "      <td>...</td>\n",
       "    </tr>\n",
       "    <tr>\n",
       "      <th>17495</th>\n",
       "      <td>NaN</td>\n",
       "      <td>NaN</td>\n",
       "      <td>NaN</td>\n",
       "      <td>NaN</td>\n",
       "      <td>6</td>\n",
       "      <td>NaN</td>\n",
       "      <td>NaN</td>\n",
       "      <td>NaN</td>\n",
       "      <td>NaN</td>\n",
       "      <td>NaN</td>\n",
       "      <td>...</td>\n",
       "      <td>NaN</td>\n",
       "      <td>NaN</td>\n",
       "      <td>NaN</td>\n",
       "      <td>NaN</td>\n",
       "      <td>NaN</td>\n",
       "      <td>NaN</td>\n",
       "      <td>NaN</td>\n",
       "      <td>NaN</td>\n",
       "      <td>NaN</td>\n",
       "      <td>NaN</td>\n",
       "    </tr>\n",
       "    <tr>\n",
       "      <th>17496</th>\n",
       "      <td>NaN</td>\n",
       "      <td>NaN</td>\n",
       "      <td>NaN</td>\n",
       "      <td>NaN</td>\n",
       "      <td>7</td>\n",
       "      <td>NaN</td>\n",
       "      <td>NaN</td>\n",
       "      <td>NaN</td>\n",
       "      <td>NaN</td>\n",
       "      <td>NaN</td>\n",
       "      <td>...</td>\n",
       "      <td>NaN</td>\n",
       "      <td>NaN</td>\n",
       "      <td>NaN</td>\n",
       "      <td>NaN</td>\n",
       "      <td>NaN</td>\n",
       "      <td>NaN</td>\n",
       "      <td>NaN</td>\n",
       "      <td>NaN</td>\n",
       "      <td>NaN</td>\n",
       "      <td>NaN</td>\n",
       "    </tr>\n",
       "    <tr>\n",
       "      <th>17497</th>\n",
       "      <td>NaN</td>\n",
       "      <td>NaN</td>\n",
       "      <td>NaN</td>\n",
       "      <td>NaN</td>\n",
       "      <td>1</td>\n",
       "      <td>NaN</td>\n",
       "      <td>NaN</td>\n",
       "      <td>NaN</td>\n",
       "      <td>NaN</td>\n",
       "      <td>NaN</td>\n",
       "      <td>...</td>\n",
       "      <td>NaN</td>\n",
       "      <td>NaN</td>\n",
       "      <td>NaN</td>\n",
       "      <td>NaN</td>\n",
       "      <td>NaN</td>\n",
       "      <td>NaN</td>\n",
       "      <td>NaN</td>\n",
       "      <td>NaN</td>\n",
       "      <td>NaN</td>\n",
       "      <td>NaN</td>\n",
       "    </tr>\n",
       "    <tr>\n",
       "      <th>17498</th>\n",
       "      <td>NaN</td>\n",
       "      <td>NaN</td>\n",
       "      <td>NaN</td>\n",
       "      <td>NaN</td>\n",
       "      <td>2</td>\n",
       "      <td>NaN</td>\n",
       "      <td>NaN</td>\n",
       "      <td>NaN</td>\n",
       "      <td>NaN</td>\n",
       "      <td>NaN</td>\n",
       "      <td>...</td>\n",
       "      <td>NaN</td>\n",
       "      <td>NaN</td>\n",
       "      <td>NaN</td>\n",
       "      <td>NaN</td>\n",
       "      <td>NaN</td>\n",
       "      <td>NaN</td>\n",
       "      <td>NaN</td>\n",
       "      <td>NaN</td>\n",
       "      <td>NaN</td>\n",
       "      <td>NaN</td>\n",
       "    </tr>\n",
       "    <tr>\n",
       "      <th>17499</th>\n",
       "      <td>NaN</td>\n",
       "      <td>NaN</td>\n",
       "      <td>NaN</td>\n",
       "      <td>NaN</td>\n",
       "      <td>3</td>\n",
       "      <td>NaN</td>\n",
       "      <td>NaN</td>\n",
       "      <td>NaN</td>\n",
       "      <td>NaN</td>\n",
       "      <td>NaN</td>\n",
       "      <td>...</td>\n",
       "      <td>NaN</td>\n",
       "      <td>NaN</td>\n",
       "      <td>NaN</td>\n",
       "      <td>NaN</td>\n",
       "      <td>NaN</td>\n",
       "      <td>NaN</td>\n",
       "      <td>NaN</td>\n",
       "      <td>NaN</td>\n",
       "      <td>NaN</td>\n",
       "      <td>NaN</td>\n",
       "    </tr>\n",
       "  </tbody>\n",
       "</table>\n",
       "<p>17500 rows × 40 columns</p>\n",
       "</div>"
      ],
      "text/plain": [
       "       last_day_oh7  last_day_oh  last_day_oh14  last_day_oh6  day_of_week  \\\n",
       "0               0.0          NaN            4.5           0.0            4   \n",
       "1               0.0          NaN            0.0           0.0            5   \n",
       "2               0.0          NaN            0.0           0.6            6   \n",
       "3               0.6          NaN            3.8           2.2            7   \n",
       "4               2.2          NaN            4.4           3.1            1   \n",
       "...             ...          ...            ...           ...          ...   \n",
       "17495           NaN          NaN            NaN           NaN            6   \n",
       "17496           NaN          NaN            NaN           NaN            7   \n",
       "17497           NaN          NaN            NaN           NaN            1   \n",
       "17498           NaN          NaN            NaN           NaN            2   \n",
       "17499           NaN          NaN            NaN           NaN            3   \n",
       "\n",
       "       last_day_diff  onlinehours_roll_mean_6  last_day_oh1  \\\n",
       "0                NaN                      NaN           0.0   \n",
       "1                NaN                      NaN           NaN   \n",
       "2                NaN                      NaN           NaN   \n",
       "3                NaN                      NaN           NaN   \n",
       "4                NaN                      NaN           NaN   \n",
       "...              ...                      ...           ...   \n",
       "17495            NaN                      NaN           NaN   \n",
       "17496            NaN                      NaN           NaN   \n",
       "17497            NaN                      NaN           NaN   \n",
       "17498            NaN                      NaN           NaN   \n",
       "17499            NaN                      NaN           NaN   \n",
       "\n",
       "       onlinehours_roll_mean_7  last_day_oh13  ...  last_day_diff5  \\\n",
       "0                          NaN            0.0  ...             0.0   \n",
       "1                          NaN            0.0  ...             0.6   \n",
       "2                          NaN            3.8  ...             1.6   \n",
       "3                          NaN            4.4  ...             0.9   \n",
       "4                          NaN            2.0  ...            -3.1   \n",
       "...                        ...            ...  ...             ...   \n",
       "17495                      NaN            NaN  ...             NaN   \n",
       "17496                      NaN            NaN  ...             NaN   \n",
       "17497                      NaN            NaN  ...             NaN   \n",
       "17498                      NaN            NaN  ...             NaN   \n",
       "17499                      NaN            NaN  ...             NaN   \n",
       "\n",
       "       onlinehours_roll_mean_17  onlinehours_roll_mean_14  \\\n",
       "0                           NaN                       NaN   \n",
       "1                           NaN                       NaN   \n",
       "2                           NaN                       NaN   \n",
       "3                           NaN                       NaN   \n",
       "4                           NaN                       NaN   \n",
       "...                         ...                       ...   \n",
       "17495                       NaN                       NaN   \n",
       "17496                       NaN                       NaN   \n",
       "17497                       NaN                       NaN   \n",
       "17498                       NaN                       NaN   \n",
       "17499                       NaN                       NaN   \n",
       "\n",
       "       onlinehours_roll_mean_16  onlinehours_roll_mean_9  last_day_diff9  \\\n",
       "0                           NaN                      NaN            -2.4   \n",
       "1                           NaN                      NaN            -0.9   \n",
       "2                           NaN                      NaN            -1.1   \n",
       "3                           NaN                      NaN             0.0   \n",
       "4                           NaN                      NaN             0.0   \n",
       "...                         ...                      ...             ...   \n",
       "17495                       NaN                      NaN             NaN   \n",
       "17496                       NaN                      NaN             NaN   \n",
       "17497                       NaN                      NaN             NaN   \n",
       "17498                       NaN                      NaN             NaN   \n",
       "17499                       NaN                      NaN             NaN   \n",
       "\n",
       "       last_day_oh4  last-1_day_oh  onlinehours_roll_mean_8  last_day_diff10  \n",
       "0               0.6            NaN                      NaN              0.6  \n",
       "1               2.2            NaN                      NaN             -2.4  \n",
       "2               3.1            NaN                      NaN             -0.9  \n",
       "3               0.0            NaN                      NaN             -1.1  \n",
       "4               NaN            NaN                      NaN              0.0  \n",
       "...             ...            ...                      ...              ...  \n",
       "17495           NaN            NaN                      NaN              NaN  \n",
       "17496           NaN            NaN                      NaN              NaN  \n",
       "17497           NaN            NaN                      NaN              NaN  \n",
       "17498           NaN            NaN                      NaN              NaN  \n",
       "17499           NaN            NaN                      NaN              NaN  \n",
       "\n",
       "[17500 rows x 40 columns]"
      ]
     },
     "execution_count": 50,
     "metadata": {},
     "output_type": "execute_result"
    }
   ],
   "source": [
    "xtest = pd.read_csv(r'/Users/nadiiapoliakovska/Documents/Springboard/Users_active_time_prediction/data/interim/xtest.csv')\n",
    "xtest"
   ]
  },
  {
   "cell_type": "code",
   "execution_count": 51,
   "metadata": {},
   "outputs": [],
   "source": [
    "ytrain = np.load('/Users/nadiiapoliakovska/Documents/Springboard/Users_active_time_prediction/data/interim/ytrain.npy')"
   ]
  },
  {
   "cell_type": "code",
   "execution_count": 52,
   "metadata": {},
   "outputs": [],
   "source": [
    "ytest = np.load('/Users/nadiiapoliakovska/Documents/Springboard/Users_active_time_prediction/data/interim/ytest.npy')"
   ]
  },
  {
   "cell_type": "code",
   "execution_count": 54,
   "metadata": {},
   "outputs": [
    {
     "data": {
      "text/html": [
       "<div>\n",
       "<style scoped>\n",
       "    .dataframe tbody tr th:only-of-type {\n",
       "        vertical-align: middle;\n",
       "    }\n",
       "\n",
       "    .dataframe tbody tr th {\n",
       "        vertical-align: top;\n",
       "    }\n",
       "\n",
       "    .dataframe thead th {\n",
       "        text-align: right;\n",
       "    }\n",
       "</style>\n",
       "<table border=\"1\" class=\"dataframe\">\n",
       "  <thead>\n",
       "    <tr style=\"text-align: right;\">\n",
       "      <th></th>\n",
       "      <th>id</th>\n",
       "      <th>date</th>\n",
       "      <th>online_hours</th>\n",
       "    </tr>\n",
       "  </thead>\n",
       "  <tbody>\n",
       "    <tr>\n",
       "      <th>0</th>\n",
       "      <td>111556</td>\n",
       "      <td>2017-06-22</td>\n",
       "      <td>2</td>\n",
       "    </tr>\n",
       "    <tr>\n",
       "      <th>1</th>\n",
       "      <td>111556</td>\n",
       "      <td>2017-06-23</td>\n",
       "      <td>5</td>\n",
       "    </tr>\n",
       "    <tr>\n",
       "      <th>2</th>\n",
       "      <td>111556</td>\n",
       "      <td>2017-06-24</td>\n",
       "      <td>0</td>\n",
       "    </tr>\n",
       "    <tr>\n",
       "      <th>3</th>\n",
       "      <td>111556</td>\n",
       "      <td>2017-06-25</td>\n",
       "      <td>0</td>\n",
       "    </tr>\n",
       "    <tr>\n",
       "      <th>4</th>\n",
       "      <td>111556</td>\n",
       "      <td>2017-06-26</td>\n",
       "      <td>0</td>\n",
       "    </tr>\n",
       "    <tr>\n",
       "      <th>...</th>\n",
       "      <td>...</td>\n",
       "      <td>...</td>\n",
       "      <td>...</td>\n",
       "    </tr>\n",
       "    <tr>\n",
       "      <th>17495</th>\n",
       "      <td>998740</td>\n",
       "      <td>2017-06-24</td>\n",
       "      <td>0</td>\n",
       "    </tr>\n",
       "    <tr>\n",
       "      <th>17496</th>\n",
       "      <td>998740</td>\n",
       "      <td>2017-06-25</td>\n",
       "      <td>0</td>\n",
       "    </tr>\n",
       "    <tr>\n",
       "      <th>17497</th>\n",
       "      <td>998740</td>\n",
       "      <td>2017-06-26</td>\n",
       "      <td>0</td>\n",
       "    </tr>\n",
       "    <tr>\n",
       "      <th>17498</th>\n",
       "      <td>998740</td>\n",
       "      <td>2017-06-27</td>\n",
       "      <td>0</td>\n",
       "    </tr>\n",
       "    <tr>\n",
       "      <th>17499</th>\n",
       "      <td>998740</td>\n",
       "      <td>2017-06-28</td>\n",
       "      <td>0</td>\n",
       "    </tr>\n",
       "  </tbody>\n",
       "</table>\n",
       "<p>17500 rows × 3 columns</p>\n",
       "</div>"
      ],
      "text/plain": [
       "           id        date  online_hours\n",
       "0      111556  2017-06-22             2\n",
       "1      111556  2017-06-23             5\n",
       "2      111556  2017-06-24             0\n",
       "3      111556  2017-06-25             0\n",
       "4      111556  2017-06-26             0\n",
       "...       ...         ...           ...\n",
       "17495  998740  2017-06-24             0\n",
       "17496  998740  2017-06-25             0\n",
       "17497  998740  2017-06-26             0\n",
       "17498  998740  2017-06-27             0\n",
       "17499  998740  2017-06-28             0\n",
       "\n",
       "[17500 rows x 3 columns]"
      ]
     },
     "execution_count": 54,
     "metadata": {},
     "output_type": "execute_result"
    }
   ],
   "source": [
    "test_df = pd.read_csv(r'/Users/nadiiapoliakovska/Documents/Springboard/Users_active_time_prediction/data/interim/test_df.csv')\n",
    "test_df"
   ]
  },
  {
   "cell_type": "code",
   "execution_count": 55,
   "metadata": {},
   "outputs": [
    {
     "data": {
      "text/html": [
       "<div>\n",
       "<style scoped>\n",
       "    .dataframe tbody tr th:only-of-type {\n",
       "        vertical-align: middle;\n",
       "    }\n",
       "\n",
       "    .dataframe tbody tr th {\n",
       "        vertical-align: top;\n",
       "    }\n",
       "\n",
       "    .dataframe thead th {\n",
       "        text-align: right;\n",
       "    }\n",
       "</style>\n",
       "<table border=\"1\" class=\"dataframe\">\n",
       "  <thead>\n",
       "    <tr style=\"text-align: right;\">\n",
       "      <th></th>\n",
       "      <th>id</th>\n",
       "      <th>date</th>\n",
       "      <th>online_hours</th>\n",
       "      <th>day</th>\n",
       "      <th>last_day_oh</th>\n",
       "      <th>last_day_diff</th>\n",
       "      <th>last-1_day_oh</th>\n",
       "      <th>last-1_day_diff</th>\n",
       "      <th>month</th>\n",
       "      <th>day_of_month</th>\n",
       "      <th>...</th>\n",
       "      <th>last_day_oh17</th>\n",
       "      <th>last_day_diff17</th>\n",
       "      <th>last_day_oh18</th>\n",
       "      <th>last_day_diff18</th>\n",
       "      <th>last_day_oh19</th>\n",
       "      <th>last_day_diff19</th>\n",
       "      <th>last_day_oh20</th>\n",
       "      <th>last_day_diff20</th>\n",
       "      <th>last_day_oh21</th>\n",
       "      <th>last_day_diff21</th>\n",
       "    </tr>\n",
       "  </thead>\n",
       "  <tbody>\n",
       "    <tr>\n",
       "      <th>0</th>\n",
       "      <td>111556</td>\n",
       "      <td>2017-06-01</td>\n",
       "      <td>2.5</td>\n",
       "      <td>1.0</td>\n",
       "      <td>2.2</td>\n",
       "      <td>NaN</td>\n",
       "      <td>NaN</td>\n",
       "      <td>NaN</td>\n",
       "      <td>6</td>\n",
       "      <td>1</td>\n",
       "      <td>...</td>\n",
       "      <td>NaN</td>\n",
       "      <td>NaN</td>\n",
       "      <td>NaN</td>\n",
       "      <td>NaN</td>\n",
       "      <td>NaN</td>\n",
       "      <td>NaN</td>\n",
       "      <td>NaN</td>\n",
       "      <td>NaN</td>\n",
       "      <td>NaN</td>\n",
       "      <td>NaN</td>\n",
       "    </tr>\n",
       "    <tr>\n",
       "      <th>1</th>\n",
       "      <td>111556</td>\n",
       "      <td>2017-06-02</td>\n",
       "      <td>0.0</td>\n",
       "      <td>2.0</td>\n",
       "      <td>2.5</td>\n",
       "      <td>0.3</td>\n",
       "      <td>NaN</td>\n",
       "      <td>NaN</td>\n",
       "      <td>6</td>\n",
       "      <td>2</td>\n",
       "      <td>...</td>\n",
       "      <td>NaN</td>\n",
       "      <td>NaN</td>\n",
       "      <td>NaN</td>\n",
       "      <td>NaN</td>\n",
       "      <td>NaN</td>\n",
       "      <td>NaN</td>\n",
       "      <td>NaN</td>\n",
       "      <td>NaN</td>\n",
       "      <td>NaN</td>\n",
       "      <td>NaN</td>\n",
       "    </tr>\n",
       "    <tr>\n",
       "      <th>2</th>\n",
       "      <td>111556</td>\n",
       "      <td>2017-06-03</td>\n",
       "      <td>0.0</td>\n",
       "      <td>3.0</td>\n",
       "      <td>0.0</td>\n",
       "      <td>-2.5</td>\n",
       "      <td>2.5</td>\n",
       "      <td>NaN</td>\n",
       "      <td>6</td>\n",
       "      <td>3</td>\n",
       "      <td>...</td>\n",
       "      <td>NaN</td>\n",
       "      <td>NaN</td>\n",
       "      <td>NaN</td>\n",
       "      <td>NaN</td>\n",
       "      <td>NaN</td>\n",
       "      <td>NaN</td>\n",
       "      <td>NaN</td>\n",
       "      <td>NaN</td>\n",
       "      <td>NaN</td>\n",
       "      <td>NaN</td>\n",
       "    </tr>\n",
       "    <tr>\n",
       "      <th>3</th>\n",
       "      <td>111556</td>\n",
       "      <td>2017-06-04</td>\n",
       "      <td>4.7</td>\n",
       "      <td>4.0</td>\n",
       "      <td>0.0</td>\n",
       "      <td>0.0</td>\n",
       "      <td>0.0</td>\n",
       "      <td>-2.5</td>\n",
       "      <td>6</td>\n",
       "      <td>4</td>\n",
       "      <td>...</td>\n",
       "      <td>NaN</td>\n",
       "      <td>NaN</td>\n",
       "      <td>NaN</td>\n",
       "      <td>NaN</td>\n",
       "      <td>NaN</td>\n",
       "      <td>NaN</td>\n",
       "      <td>NaN</td>\n",
       "      <td>NaN</td>\n",
       "      <td>NaN</td>\n",
       "      <td>NaN</td>\n",
       "    </tr>\n",
       "    <tr>\n",
       "      <th>4</th>\n",
       "      <td>111556</td>\n",
       "      <td>2017-06-05</td>\n",
       "      <td>3.2</td>\n",
       "      <td>5.0</td>\n",
       "      <td>4.7</td>\n",
       "      <td>4.7</td>\n",
       "      <td>0.0</td>\n",
       "      <td>0.0</td>\n",
       "      <td>6</td>\n",
       "      <td>5</td>\n",
       "      <td>...</td>\n",
       "      <td>NaN</td>\n",
       "      <td>NaN</td>\n",
       "      <td>NaN</td>\n",
       "      <td>NaN</td>\n",
       "      <td>NaN</td>\n",
       "      <td>NaN</td>\n",
       "      <td>NaN</td>\n",
       "      <td>NaN</td>\n",
       "      <td>NaN</td>\n",
       "      <td>NaN</td>\n",
       "    </tr>\n",
       "    <tr>\n",
       "      <th>...</th>\n",
       "      <td>...</td>\n",
       "      <td>...</td>\n",
       "      <td>...</td>\n",
       "      <td>...</td>\n",
       "      <td>...</td>\n",
       "      <td>...</td>\n",
       "      <td>...</td>\n",
       "      <td>...</td>\n",
       "      <td>...</td>\n",
       "      <td>...</td>\n",
       "      <td>...</td>\n",
       "      <td>...</td>\n",
       "      <td>...</td>\n",
       "      <td>...</td>\n",
       "      <td>...</td>\n",
       "      <td>...</td>\n",
       "      <td>...</td>\n",
       "      <td>...</td>\n",
       "      <td>...</td>\n",
       "      <td>...</td>\n",
       "      <td>...</td>\n",
       "    </tr>\n",
       "    <tr>\n",
       "      <th>69575</th>\n",
       "      <td>998740</td>\n",
       "      <td>2017-06-24</td>\n",
       "      <td>NaN</td>\n",
       "      <td>NaN</td>\n",
       "      <td>NaN</td>\n",
       "      <td>NaN</td>\n",
       "      <td>NaN</td>\n",
       "      <td>NaN</td>\n",
       "      <td>6</td>\n",
       "      <td>24</td>\n",
       "      <td>...</td>\n",
       "      <td>NaN</td>\n",
       "      <td>NaN</td>\n",
       "      <td>NaN</td>\n",
       "      <td>NaN</td>\n",
       "      <td>NaN</td>\n",
       "      <td>NaN</td>\n",
       "      <td>NaN</td>\n",
       "      <td>NaN</td>\n",
       "      <td>NaN</td>\n",
       "      <td>NaN</td>\n",
       "    </tr>\n",
       "    <tr>\n",
       "      <th>69576</th>\n",
       "      <td>998740</td>\n",
       "      <td>2017-06-25</td>\n",
       "      <td>NaN</td>\n",
       "      <td>NaN</td>\n",
       "      <td>NaN</td>\n",
       "      <td>NaN</td>\n",
       "      <td>NaN</td>\n",
       "      <td>NaN</td>\n",
       "      <td>6</td>\n",
       "      <td>25</td>\n",
       "      <td>...</td>\n",
       "      <td>NaN</td>\n",
       "      <td>NaN</td>\n",
       "      <td>NaN</td>\n",
       "      <td>NaN</td>\n",
       "      <td>NaN</td>\n",
       "      <td>NaN</td>\n",
       "      <td>NaN</td>\n",
       "      <td>NaN</td>\n",
       "      <td>NaN</td>\n",
       "      <td>NaN</td>\n",
       "    </tr>\n",
       "    <tr>\n",
       "      <th>69577</th>\n",
       "      <td>998740</td>\n",
       "      <td>2017-06-26</td>\n",
       "      <td>NaN</td>\n",
       "      <td>NaN</td>\n",
       "      <td>NaN</td>\n",
       "      <td>NaN</td>\n",
       "      <td>NaN</td>\n",
       "      <td>NaN</td>\n",
       "      <td>6</td>\n",
       "      <td>26</td>\n",
       "      <td>...</td>\n",
       "      <td>NaN</td>\n",
       "      <td>NaN</td>\n",
       "      <td>NaN</td>\n",
       "      <td>NaN</td>\n",
       "      <td>NaN</td>\n",
       "      <td>NaN</td>\n",
       "      <td>NaN</td>\n",
       "      <td>NaN</td>\n",
       "      <td>NaN</td>\n",
       "      <td>NaN</td>\n",
       "    </tr>\n",
       "    <tr>\n",
       "      <th>69578</th>\n",
       "      <td>998740</td>\n",
       "      <td>2017-06-27</td>\n",
       "      <td>NaN</td>\n",
       "      <td>NaN</td>\n",
       "      <td>NaN</td>\n",
       "      <td>NaN</td>\n",
       "      <td>NaN</td>\n",
       "      <td>NaN</td>\n",
       "      <td>6</td>\n",
       "      <td>27</td>\n",
       "      <td>...</td>\n",
       "      <td>NaN</td>\n",
       "      <td>NaN</td>\n",
       "      <td>NaN</td>\n",
       "      <td>NaN</td>\n",
       "      <td>NaN</td>\n",
       "      <td>NaN</td>\n",
       "      <td>NaN</td>\n",
       "      <td>NaN</td>\n",
       "      <td>NaN</td>\n",
       "      <td>NaN</td>\n",
       "    </tr>\n",
       "    <tr>\n",
       "      <th>69579</th>\n",
       "      <td>998740</td>\n",
       "      <td>2017-06-28</td>\n",
       "      <td>NaN</td>\n",
       "      <td>NaN</td>\n",
       "      <td>NaN</td>\n",
       "      <td>NaN</td>\n",
       "      <td>NaN</td>\n",
       "      <td>NaN</td>\n",
       "      <td>6</td>\n",
       "      <td>28</td>\n",
       "      <td>...</td>\n",
       "      <td>NaN</td>\n",
       "      <td>NaN</td>\n",
       "      <td>NaN</td>\n",
       "      <td>NaN</td>\n",
       "      <td>NaN</td>\n",
       "      <td>NaN</td>\n",
       "      <td>NaN</td>\n",
       "      <td>NaN</td>\n",
       "      <td>NaN</td>\n",
       "      <td>NaN</td>\n",
       "    </tr>\n",
       "  </tbody>\n",
       "</table>\n",
       "<p>69580 rows × 85 columns</p>\n",
       "</div>"
      ],
      "text/plain": [
       "           id        date  online_hours  day  last_day_oh  last_day_diff  \\\n",
       "0      111556  2017-06-01           2.5  1.0          2.2            NaN   \n",
       "1      111556  2017-06-02           0.0  2.0          2.5            0.3   \n",
       "2      111556  2017-06-03           0.0  3.0          0.0           -2.5   \n",
       "3      111556  2017-06-04           4.7  4.0          0.0            0.0   \n",
       "4      111556  2017-06-05           3.2  5.0          4.7            4.7   \n",
       "...       ...         ...           ...  ...          ...            ...   \n",
       "69575  998740  2017-06-24           NaN  NaN          NaN            NaN   \n",
       "69576  998740  2017-06-25           NaN  NaN          NaN            NaN   \n",
       "69577  998740  2017-06-26           NaN  NaN          NaN            NaN   \n",
       "69578  998740  2017-06-27           NaN  NaN          NaN            NaN   \n",
       "69579  998740  2017-06-28           NaN  NaN          NaN            NaN   \n",
       "\n",
       "       last-1_day_oh  last-1_day_diff  month  day_of_month  ...  \\\n",
       "0                NaN              NaN      6             1  ...   \n",
       "1                NaN              NaN      6             2  ...   \n",
       "2                2.5              NaN      6             3  ...   \n",
       "3                0.0             -2.5      6             4  ...   \n",
       "4                0.0              0.0      6             5  ...   \n",
       "...              ...              ...    ...           ...  ...   \n",
       "69575            NaN              NaN      6            24  ...   \n",
       "69576            NaN              NaN      6            25  ...   \n",
       "69577            NaN              NaN      6            26  ...   \n",
       "69578            NaN              NaN      6            27  ...   \n",
       "69579            NaN              NaN      6            28  ...   \n",
       "\n",
       "       last_day_oh17  last_day_diff17  last_day_oh18  last_day_diff18  \\\n",
       "0                NaN              NaN            NaN              NaN   \n",
       "1                NaN              NaN            NaN              NaN   \n",
       "2                NaN              NaN            NaN              NaN   \n",
       "3                NaN              NaN            NaN              NaN   \n",
       "4                NaN              NaN            NaN              NaN   \n",
       "...              ...              ...            ...              ...   \n",
       "69575            NaN              NaN            NaN              NaN   \n",
       "69576            NaN              NaN            NaN              NaN   \n",
       "69577            NaN              NaN            NaN              NaN   \n",
       "69578            NaN              NaN            NaN              NaN   \n",
       "69579            NaN              NaN            NaN              NaN   \n",
       "\n",
       "       last_day_oh19  last_day_diff19  last_day_oh20  last_day_diff20  \\\n",
       "0                NaN              NaN            NaN              NaN   \n",
       "1                NaN              NaN            NaN              NaN   \n",
       "2                NaN              NaN            NaN              NaN   \n",
       "3                NaN              NaN            NaN              NaN   \n",
       "4                NaN              NaN            NaN              NaN   \n",
       "...              ...              ...            ...              ...   \n",
       "69575            NaN              NaN            NaN              NaN   \n",
       "69576            NaN              NaN            NaN              NaN   \n",
       "69577            NaN              NaN            NaN              NaN   \n",
       "69578            NaN              NaN            NaN              NaN   \n",
       "69579            NaN              NaN            NaN              NaN   \n",
       "\n",
       "       last_day_oh21  last_day_diff21  \n",
       "0                NaN              NaN  \n",
       "1                NaN              NaN  \n",
       "2                NaN              NaN  \n",
       "3                NaN              NaN  \n",
       "4                NaN              NaN  \n",
       "...              ...              ...  \n",
       "69575            NaN              NaN  \n",
       "69576            NaN              NaN  \n",
       "69577            NaN              NaN  \n",
       "69578            NaN              NaN  \n",
       "69579            NaN              NaN  \n",
       "\n",
       "[69580 rows x 85 columns]"
      ]
     },
     "execution_count": 55,
     "metadata": {},
     "output_type": "execute_result"
    }
   ],
   "source": [
    "df_copy = pd.read_csv(r'/Users/nadiiapoliakovska/Documents/Springboard/Users_active_time_prediction/data/interim/df_copy.csv')\n",
    "df_copy"
   ]
  },
  {
   "cell_type": "code",
   "execution_count": 56,
   "metadata": {},
   "outputs": [],
   "source": [
    "with open('/Users/nadiiapoliakovska/Documents/Springboard/Users_active_time_prediction/data/interim/feature_import.csv', \"r\") as fp:\n",
    "     feature_import = json.load(fp)"
   ]
  },
  {
   "cell_type": "code",
   "execution_count": 57,
   "metadata": {},
   "outputs": [],
   "source": [
    "## root mean squre error\n",
    "def rmse(ytrue, ypred):\n",
    "    return np.sqrt(mean_squared_error(ytrue,ypred))"
   ]
  },
  {
   "cell_type": "code",
   "execution_count": 58,
   "metadata": {},
   "outputs": [
    {
     "name": "stderr",
     "output_type": "stream",
     "text": [
      "\u001b[32m[I 2023-06-11 18:12:48,252]\u001b[0m A new study created in memory with name: no-name-215bfc21-71d0-425e-9623-1ed7603cd0f5\u001b[0m\n",
      "/Users/nadiiapoliakovska/opt/anaconda3/lib/python3.8/site-packages/optuna/distributions.py:716: UserWarning:\n",
      "\n",
      "The distribution is specified by [3, 12] and step=2, but the range is not divisible by `step`. It will be replaced by [3, 11].\n",
      "\n",
      "\u001b[32m[I 2023-06-11 18:13:20,103]\u001b[0m Trial 0 finished with value: 2.59645557654072 and parameters: {'n_estimators': 4600, 'learning_rate': 0.0031214515338209804, 'max_depth': 11, 'num_leaves': 30, 'subsample_for_bin': 296000, 'min_child_weight': 0.000703705935074343, 'min_child_samples': 30}. Best is trial 0 with value: 2.59645557654072.\u001b[0m\n",
      "/Users/nadiiapoliakovska/opt/anaconda3/lib/python3.8/site-packages/optuna/distributions.py:716: UserWarning:\n",
      "\n",
      "The distribution is specified by [3, 12] and step=2, but the range is not divisible by `step`. It will be replaced by [3, 11].\n",
      "\n",
      "\u001b[32m[I 2023-06-11 18:14:00,564]\u001b[0m Trial 1 finished with value: 2.6630611270992666 and parameters: {'n_estimators': 6600, 'learning_rate': 0.02418912340598098, 'max_depth': 11, 'num_leaves': 40, 'subsample_for_bin': 19000, 'min_child_weight': 0.00020049626814678645, 'min_child_samples': 60}. Best is trial 0 with value: 2.59645557654072.\u001b[0m\n",
      "/Users/nadiiapoliakovska/opt/anaconda3/lib/python3.8/site-packages/optuna/distributions.py:716: UserWarning:\n",
      "\n",
      "The distribution is specified by [3, 12] and step=2, but the range is not divisible by `step`. It will be replaced by [3, 11].\n",
      "\n",
      "\u001b[32m[I 2023-06-11 18:15:36,239]\u001b[0m Trial 2 finished with value: 3.3541829433655344 and parameters: {'n_estimators': 7600, 'learning_rate': 5.554598032835919e-06, 'max_depth': 9, 'num_leaves': 55, 'subsample_for_bin': 475000, 'min_child_weight': 0.004479313494442037, 'min_child_samples': 90}. Best is trial 0 with value: 2.59645557654072.\u001b[0m\n",
      "/Users/nadiiapoliakovska/opt/anaconda3/lib/python3.8/site-packages/optuna/distributions.py:716: UserWarning:\n",
      "\n",
      "The distribution is specified by [3, 12] and step=2, but the range is not divisible by `step`. It will be replaced by [3, 11].\n",
      "\n",
      "\u001b[32m[I 2023-06-11 18:15:43,848]\u001b[0m Trial 3 finished with value: 3.3823912779549024 and parameters: {'n_estimators': 1200, 'learning_rate': 3.928696677907259e-07, 'max_depth': 5, 'num_leaves': 100, 'subsample_for_bin': 94000, 'min_child_weight': 8.945910177583795e-05, 'min_child_samples': 80}. Best is trial 0 with value: 2.59645557654072.\u001b[0m\n",
      "/Users/nadiiapoliakovska/opt/anaconda3/lib/python3.8/site-packages/optuna/distributions.py:716: UserWarning:\n",
      "\n",
      "The distribution is specified by [3, 12] and step=2, but the range is not divisible by `step`. It will be replaced by [3, 11].\n",
      "\n",
      "\u001b[32m[I 2023-06-11 18:16:41,033]\u001b[0m Trial 4 finished with value: 2.7743942750077686 and parameters: {'n_estimators': 9600, 'learning_rate': 0.036204579977153456, 'max_depth': 9, 'num_leaves': 45, 'subsample_for_bin': 25000, 'min_child_weight': 0.054842724812869066, 'min_child_samples': 60}. Best is trial 0 with value: 2.59645557654072.\u001b[0m\n",
      "/Users/nadiiapoliakovska/opt/anaconda3/lib/python3.8/site-packages/optuna/distributions.py:716: UserWarning:\n",
      "\n",
      "The distribution is specified by [3, 12] and step=2, but the range is not divisible by `step`. It will be replaced by [3, 11].\n",
      "\n",
      "\u001b[32m[I 2023-06-11 18:16:51,868]\u001b[0m Trial 5 finished with value: 3.3745352902463353 and parameters: {'n_estimators': 3400, 'learning_rate': 6.703512228644125e-06, 'max_depth': 3, 'num_leaves': 55, 'subsample_for_bin': 96000, 'min_child_weight': 0.10119951646642553, 'min_child_samples': 30}. Best is trial 0 with value: 2.59645557654072.\u001b[0m\n",
      "/Users/nadiiapoliakovska/opt/anaconda3/lib/python3.8/site-packages/optuna/distributions.py:716: UserWarning:\n",
      "\n",
      "The distribution is specified by [3, 12] and step=2, but the range is not divisible by `step`. It will be replaced by [3, 11].\n",
      "\n",
      "\u001b[32m[I 2023-06-11 18:17:02,057]\u001b[0m Trial 6 finished with value: 3.379314206485647 and parameters: {'n_estimators': 3200, 'learning_rate': 2.582075829298993e-06, 'max_depth': 3, 'num_leaves': 45, 'subsample_for_bin': 164000, 'min_child_weight': 0.03294777561965682, 'min_child_samples': 40}. Best is trial 0 with value: 2.59645557654072.\u001b[0m\n",
      "/Users/nadiiapoliakovska/opt/anaconda3/lib/python3.8/site-packages/optuna/distributions.py:716: UserWarning:\n",
      "\n",
      "The distribution is specified by [3, 12] and step=2, but the range is not divisible by `step`. It will be replaced by [3, 11].\n",
      "\n",
      "\u001b[32m[I 2023-06-11 18:17:15,392]\u001b[0m Trial 7 finished with value: 2.6807547456654355 and parameters: {'n_estimators': 2200, 'learning_rate': 0.0019663952276335493, 'max_depth': 5, 'num_leaves': 65, 'subsample_for_bin': 338000, 'min_child_weight': 0.002558164679940457, 'min_child_samples': 10}. Best is trial 0 with value: 2.59645557654072.\u001b[0m\n",
      "/Users/nadiiapoliakovska/opt/anaconda3/lib/python3.8/site-packages/optuna/distributions.py:716: UserWarning:\n",
      "\n",
      "The distribution is specified by [3, 12] and step=2, but the range is not divisible by `step`. It will be replaced by [3, 11].\n",
      "\n",
      "\u001b[32m[I 2023-06-11 18:17:26,437]\u001b[0m Trial 8 finished with value: 3.3811946670250466 and parameters: {'n_estimators': 1200, 'learning_rate': 1.8926330972350485e-06, 'max_depth': 7, 'num_leaves': 35, 'subsample_for_bin': 298000, 'min_child_weight': 0.00011635184021578867, 'min_child_samples': 30}. Best is trial 0 with value: 2.59645557654072.\u001b[0m\n",
      "/Users/nadiiapoliakovska/opt/anaconda3/lib/python3.8/site-packages/optuna/distributions.py:716: UserWarning:\n",
      "\n",
      "The distribution is specified by [3, 12] and step=2, but the range is not divisible by `step`. It will be replaced by [3, 11].\n",
      "\n",
      "\u001b[32m[I 2023-06-11 18:17:50,982]\u001b[0m Trial 9 finished with value: 2.879469939985189 and parameters: {'n_estimators': 5400, 'learning_rate': 0.06916503577696796, 'max_depth': 5, 'num_leaves': 100, 'subsample_for_bin': 91000, 'min_child_weight': 0.0007255789678819984, 'min_child_samples': 10}. Best is trial 0 with value: 2.59645557654072.\u001b[0m\n",
      "/Users/nadiiapoliakovska/opt/anaconda3/lib/python3.8/site-packages/optuna/distributions.py:716: UserWarning:\n",
      "\n",
      "The distribution is specified by [3, 12] and step=2, but the range is not divisible by `step`. It will be replaced by [3, 11].\n",
      "\n",
      "\u001b[32m[I 2023-06-11 18:18:23,226]\u001b[0m Trial 10 finished with value: 2.9852709573704046 and parameters: {'n_estimators': 4800, 'learning_rate': 0.0002097346920082997, 'max_depth': 11, 'num_leaves': 20, 'subsample_for_bin': 406000, 'min_child_weight': 1.7681622158668682e-05, 'min_child_samples': 40}. Best is trial 0 with value: 2.59645557654072.\u001b[0m\n",
      "/Users/nadiiapoliakovska/opt/anaconda3/lib/python3.8/site-packages/optuna/distributions.py:716: UserWarning:\n",
      "\n",
      "The distribution is specified by [3, 12] and step=2, but the range is not divisible by `step`. It will be replaced by [3, 11].\n",
      "\n",
      "\u001b[32m[I 2023-06-11 18:19:01,978]\u001b[0m Trial 11 finished with value: 2.5937872624505234 and parameters: {'n_estimators': 7000, 'learning_rate': 0.005502601493330598, 'max_depth': 11, 'num_leaves': 25, 'subsample_for_bin': 200000, 'min_child_weight': 0.0005186256631923759, 'min_child_samples': 60}. Best is trial 11 with value: 2.5937872624505234.\u001b[0m\n",
      "/Users/nadiiapoliakovska/opt/anaconda3/lib/python3.8/site-packages/optuna/distributions.py:716: UserWarning:\n",
      "\n",
      "The distribution is specified by [3, 12] and step=2, but the range is not divisible by `step`. It will be replaced by [3, 11].\n",
      "\n",
      "\u001b[32m[I 2023-06-11 18:19:43,920]\u001b[0m Trial 12 finished with value: 2.6790986135408676 and parameters: {'n_estimators': 8000, 'learning_rate': 0.0020834021457700486, 'max_depth': 11, 'num_leaves': 20, 'subsample_for_bin': 212000, 'min_child_weight': 0.000932515144571861, 'min_child_samples': 70}. Best is trial 11 with value: 2.5937872624505234.\u001b[0m\n",
      "/Users/nadiiapoliakovska/opt/anaconda3/lib/python3.8/site-packages/optuna/distributions.py:716: UserWarning:\n",
      "\n",
      "The distribution is specified by [3, 12] and step=2, but the range is not divisible by `step`. It will be replaced by [3, 11].\n",
      "\n",
      "\u001b[32m[I 2023-06-11 18:20:03,648]\u001b[0m Trial 13 finished with value: 2.9342205434429696 and parameters: {'n_estimators': 4200, 'learning_rate': 0.2137040448679987, 'max_depth': 9, 'num_leaves': 30, 'subsample_for_bin': 256000, 'min_child_weight': 0.007376810300093844, 'min_child_samples': 50}. Best is trial 11 with value: 2.5937872624505234.\u001b[0m\n"
     ]
    },
    {
     "name": "stderr",
     "output_type": "stream",
     "text": [
      "/Users/nadiiapoliakovska/opt/anaconda3/lib/python3.8/site-packages/optuna/distributions.py:716: UserWarning:\n",
      "\n",
      "The distribution is specified by [3, 12] and step=2, but the range is not divisible by `step`. It will be replaced by [3, 11].\n",
      "\n",
      "\u001b[32m[I 2023-06-11 18:20:58,605]\u001b[0m Trial 14 finished with value: 2.563996888629851 and parameters: {'n_estimators': 6400, 'learning_rate': 0.004048945226721525, 'max_depth': 11, 'num_leaves': 75, 'subsample_for_bin': 356000, 'min_child_weight': 0.0006676714893758326, 'min_child_samples': 100}. Best is trial 14 with value: 2.563996888629851.\u001b[0m\n",
      "/Users/nadiiapoliakovska/opt/anaconda3/lib/python3.8/site-packages/optuna/distributions.py:716: UserWarning:\n",
      "\n",
      "The distribution is specified by [3, 12] and step=2, but the range is not divisible by `step`. It will be replaced by [3, 11].\n",
      "\n",
      "\u001b[32m[I 2023-06-11 18:22:32,745]\u001b[0m Trial 15 finished with value: 2.829810114569376 and parameters: {'n_estimators': 6600, 'learning_rate': 0.00014064526048128637, 'max_depth': 9, 'num_leaves': 80, 'subsample_for_bin': 377000, 'min_child_weight': 0.013751187207971418, 'min_child_samples': 100}. Best is trial 14 with value: 2.563996888629851.\u001b[0m\n",
      "/Users/nadiiapoliakovska/opt/anaconda3/lib/python3.8/site-packages/optuna/distributions.py:716: UserWarning:\n",
      "\n",
      "The distribution is specified by [3, 12] and step=2, but the range is not divisible by `step`. It will be replaced by [3, 11].\n",
      "\n",
      "\u001b[32m[I 2023-06-11 18:23:20,875]\u001b[0m Trial 16 finished with value: 2.6596781716838294 and parameters: {'n_estimators': 9400, 'learning_rate': 0.01073160736188985, 'max_depth': 7, 'num_leaves': 75, 'subsample_for_bin': 187000, 'min_child_weight': 0.21729503361306798, 'min_child_samples': 100}. Best is trial 14 with value: 2.563996888629851.\u001b[0m\n",
      "/Users/nadiiapoliakovska/opt/anaconda3/lib/python3.8/site-packages/optuna/distributions.py:716: UserWarning:\n",
      "\n",
      "The distribution is specified by [3, 12] and step=2, but the range is not divisible by `step`. It will be replaced by [3, 11].\n",
      "\n",
      "\u001b[32m[I 2023-06-11 18:24:14,482]\u001b[0m Trial 17 finished with value: 2.8144144693905275 and parameters: {'n_estimators': 6600, 'learning_rate': 0.20044777273663272, 'max_depth': 11, 'num_leaves': 85, 'subsample_for_bin': 485000, 'min_child_weight': 0.0019034646057831059, 'min_child_samples': 80}. Best is trial 14 with value: 2.563996888629851.\u001b[0m\n",
      "/Users/nadiiapoliakovska/opt/anaconda3/lib/python3.8/site-packages/optuna/distributions.py:716: UserWarning:\n",
      "\n",
      "The distribution is specified by [3, 12] and step=2, but the range is not divisible by `step`. It will be replaced by [3, 11].\n",
      "\n",
      "\u001b[32m[I 2023-06-11 18:25:59,646]\u001b[0m Trial 18 finished with value: 2.550623342155287 and parameters: {'n_estimators': 8200, 'learning_rate': 0.00042315991529177644, 'max_depth': 9, 'num_leaves': 65, 'subsample_for_bin': 414000, 'min_child_weight': 0.0003365950598124985, 'min_child_samples': 80}. Best is trial 18 with value: 2.550623342155287.\u001b[0m\n",
      "/Users/nadiiapoliakovska/opt/anaconda3/lib/python3.8/site-packages/optuna/distributions.py:716: UserWarning:\n",
      "\n",
      "The distribution is specified by [3, 12] and step=2, but the range is not divisible by `step`. It will be replaced by [3, 11].\n",
      "\n",
      "\u001b[32m[I 2023-06-11 18:27:55,341]\u001b[0m Trial 19 finished with value: 2.638181818946121 and parameters: {'n_estimators': 8600, 'learning_rate': 0.00021657322634527912, 'max_depth': 9, 'num_leaves': 70, 'subsample_for_bin': 416000, 'min_child_weight': 3.630064209009882e-05, 'min_child_samples': 90}. Best is trial 18 with value: 2.550623342155287.\u001b[0m\n",
      "/Users/nadiiapoliakovska/opt/anaconda3/lib/python3.8/site-packages/optuna/distributions.py:716: UserWarning:\n",
      "\n",
      "The distribution is specified by [3, 12] and step=2, but the range is not divisible by `step`. It will be replaced by [3, 11].\n",
      "\n",
      "\u001b[32m[I 2023-06-11 18:29:17,058]\u001b[0m Trial 20 finished with value: 2.5567069794834367 and parameters: {'n_estimators': 8600, 'learning_rate': 0.0006420988267559974, 'max_depth': 7, 'num_leaves': 85, 'subsample_for_bin': 437000, 'min_child_weight': 0.00027006217794315273, 'min_child_samples': 80}. Best is trial 18 with value: 2.550623342155287.\u001b[0m\n",
      "/Users/nadiiapoliakovska/opt/anaconda3/lib/python3.8/site-packages/optuna/distributions.py:716: UserWarning:\n",
      "\n",
      "The distribution is specified by [3, 12] and step=2, but the range is not divisible by `step`. It will be replaced by [3, 11].\n",
      "\n",
      "\u001b[32m[I 2023-06-11 18:30:33,400]\u001b[0m Trial 21 finished with value: 2.560504392009435 and parameters: {'n_estimators': 8400, 'learning_rate': 0.0007589374833934664, 'max_depth': 7, 'num_leaves': 85, 'subsample_for_bin': 439000, 'min_child_weight': 0.00020990438357420816, 'min_child_samples': 80}. Best is trial 18 with value: 2.550623342155287.\u001b[0m\n",
      "/Users/nadiiapoliakovska/opt/anaconda3/lib/python3.8/site-packages/optuna/distributions.py:716: UserWarning:\n",
      "\n",
      "The distribution is specified by [3, 12] and step=2, but the range is not divisible by `step`. It will be replaced by [3, 11].\n",
      "\n",
      "\u001b[32m[I 2023-06-11 18:32:12,777]\u001b[0m Trial 22 finished with value: 2.5522433068981876 and parameters: {'n_estimators': 8800, 'learning_rate': 0.0004265262403196649, 'max_depth': 7, 'num_leaves': 90, 'subsample_for_bin': 442000, 'min_child_weight': 0.0002370352403852098, 'min_child_samples': 80}. Best is trial 18 with value: 2.550623342155287.\u001b[0m\n",
      "/Users/nadiiapoliakovska/opt/anaconda3/lib/python3.8/site-packages/optuna/distributions.py:716: UserWarning:\n",
      "\n",
      "The distribution is specified by [3, 12] and step=2, but the range is not divisible by `step`. It will be replaced by [3, 11].\n",
      "\n",
      "\u001b[32m[I 2023-06-11 18:34:23,604]\u001b[0m Trial 23 finished with value: 2.924938495197522 and parameters: {'n_estimators': 10000, 'learning_rate': 5.390651188728941e-05, 'max_depth': 7, 'num_leaves': 90, 'subsample_for_bin': 448000, 'min_child_weight': 0.000292535166410331, 'min_child_samples': 70}. Best is trial 18 with value: 2.550623342155287.\u001b[0m\n",
      "/Users/nadiiapoliakovska/opt/anaconda3/lib/python3.8/site-packages/optuna/distributions.py:716: UserWarning:\n",
      "\n",
      "The distribution is specified by [3, 12] and step=2, but the range is not divisible by `step`. It will be replaced by [3, 11].\n",
      "\n",
      "\u001b[32m[I 2023-06-11 18:35:13,346]\u001b[0m Trial 24 finished with value: 2.686538529554838 and parameters: {'n_estimators': 9000, 'learning_rate': 0.0005936841347137109, 'max_depth': 5, 'num_leaves': 90, 'subsample_for_bin': 393000, 'min_child_weight': 6.527545758715288e-05, 'min_child_samples': 70}. Best is trial 18 with value: 2.550623342155287.\u001b[0m\n",
      "/Users/nadiiapoliakovska/opt/anaconda3/lib/python3.8/site-packages/optuna/distributions.py:716: UserWarning:\n",
      "\n",
      "The distribution is specified by [3, 12] and step=2, but the range is not divisible by `step`. It will be replaced by [3, 11].\n",
      "\n",
      "\u001b[32m[I 2023-06-11 18:36:36,331]\u001b[0m Trial 25 finished with value: 3.167091800884203 and parameters: {'n_estimators': 7600, 'learning_rate': 2.961825544835194e-05, 'max_depth': 7, 'num_leaves': 60, 'subsample_for_bin': 493000, 'min_child_weight': 0.0002728414844028878, 'min_child_samples': 90}. Best is trial 18 with value: 2.550623342155287.\u001b[0m\n",
      "/Users/nadiiapoliakovska/opt/anaconda3/lib/python3.8/site-packages/optuna/distributions.py:716: UserWarning:\n",
      "\n",
      "The distribution is specified by [3, 12] and step=2, but the range is not divisible by `step`. It will be replaced by [3, 11].\n",
      "\n",
      "\u001b[32m[I 2023-06-11 18:38:28,077]\u001b[0m Trial 26 finished with value: 2.606882708581388 and parameters: {'n_estimators': 8800, 'learning_rate': 0.0006694678299008725, 'max_depth': 9, 'num_leaves': 95, 'subsample_for_bin': 334000, 'min_child_weight': 3.9137588567965925e-05, 'min_child_samples': 80}. Best is trial 18 with value: 2.550623342155287.\u001b[0m\n",
      "/Users/nadiiapoliakovska/opt/anaconda3/lib/python3.8/site-packages/optuna/distributions.py:716: UserWarning:\n",
      "\n",
      "The distribution is specified by [3, 12] and step=2, but the range is not divisible by `step`. It will be replaced by [3, 11].\n",
      "\n",
      "\u001b[32m[I 2023-06-11 18:40:29,879]\u001b[0m Trial 27 finished with value: 2.9233898044360696 and parameters: {'n_estimators': 10000, 'learning_rate': 5.440612603159184e-05, 'max_depth': 7, 'num_leaves': 70, 'subsample_for_bin': 451000, 'min_child_weight': 0.0013049602507720036, 'min_child_samples': 70}. Best is trial 18 with value: 2.550623342155287.\u001b[0m\n"
     ]
    },
    {
     "name": "stderr",
     "output_type": "stream",
     "text": [
      "/Users/nadiiapoliakovska/opt/anaconda3/lib/python3.8/site-packages/optuna/distributions.py:716: UserWarning:\n",
      "\n",
      "The distribution is specified by [3, 12] and step=2, but the range is not divisible by `step`. It will be replaced by [3, 11].\n",
      "\n",
      "\u001b[32m[I 2023-06-11 18:41:33,695]\u001b[0m Trial 28 finished with value: 2.577638613232862 and parameters: {'n_estimators': 7600, 'learning_rate': 0.000974792693367421, 'max_depth': 7, 'num_leaves': 80, 'subsample_for_bin': 423000, 'min_child_weight': 1.0218264719519935e-05, 'min_child_samples': 90}. Best is trial 18 with value: 2.550623342155287.\u001b[0m\n",
      "/Users/nadiiapoliakovska/opt/anaconda3/lib/python3.8/site-packages/optuna/distributions.py:716: UserWarning:\n",
      "\n",
      "The distribution is specified by [3, 12] and step=2, but the range is not divisible by `step`. It will be replaced by [3, 11].\n",
      "\n",
      "\u001b[32m[I 2023-06-11 18:41:57,262]\u001b[0m Trial 29 finished with value: 2.7028809922802006 and parameters: {'n_estimators': 5600, 'learning_rate': 0.007838789313002649, 'max_depth': 5, 'num_leaves': 90, 'subsample_for_bin': 296000, 'min_child_weight': 0.0005107143641688112, 'min_child_samples': 50}. Best is trial 18 with value: 2.550623342155287.\u001b[0m\n",
      "/Users/nadiiapoliakovska/opt/anaconda3/lib/python3.8/site-packages/optuna/distributions.py:716: UserWarning:\n",
      "\n",
      "The distribution is specified by [3, 12] and step=2, but the range is not divisible by `step`. It will be replaced by [3, 11].\n",
      "\n",
      "\u001b[32m[I 2023-06-11 18:43:01,131]\u001b[0m Trial 30 finished with value: 2.565808664755652 and parameters: {'n_estimators': 8000, 'learning_rate': 0.00267988341250172, 'max_depth': 9, 'num_leaves': 65, 'subsample_for_bin': 371000, 'min_child_weight': 0.0001666138009810102, 'min_child_samples': 80}. Best is trial 18 with value: 2.550623342155287.\u001b[0m\n",
      "/Users/nadiiapoliakovska/opt/anaconda3/lib/python3.8/site-packages/optuna/distributions.py:716: UserWarning:\n",
      "\n",
      "The distribution is specified by [3, 12] and step=2, but the range is not divisible by `step`. It will be replaced by [3, 11].\n",
      "\n",
      "\u001b[32m[I 2023-06-11 18:44:34,732]\u001b[0m Trial 31 finished with value: 2.5579905503525944 and parameters: {'n_estimators': 8400, 'learning_rate': 0.0004449837282462761, 'max_depth': 7, 'num_leaves': 85, 'subsample_for_bin': 446000, 'min_child_weight': 0.00032705131440788094, 'min_child_samples': 80}. Best is trial 18 with value: 2.550623342155287.\u001b[0m\n",
      "/Users/nadiiapoliakovska/opt/anaconda3/lib/python3.8/site-packages/optuna/distributions.py:716: UserWarning:\n",
      "\n",
      "The distribution is specified by [3, 12] and step=2, but the range is not divisible by `step`. It will be replaced by [3, 11].\n",
      "\n",
      "\u001b[32m[I 2023-06-11 18:46:39,821]\u001b[0m Trial 32 finished with value: 2.596456919049188 and parameters: {'n_estimators': 9200, 'learning_rate': 0.0002902400601745295, 'max_depth': 7, 'num_leaves': 95, 'subsample_for_bin': 461000, 'min_child_weight': 0.00035421675629508583, 'min_child_samples': 70}. Best is trial 18 with value: 2.550623342155287.\u001b[0m\n",
      "/Users/nadiiapoliakovska/opt/anaconda3/lib/python3.8/site-packages/optuna/distributions.py:716: UserWarning:\n",
      "\n",
      "The distribution is specified by [3, 12] and step=2, but the range is not divisible by `step`. It will be replaced by [3, 11].\n",
      "\n",
      "\u001b[32m[I 2023-06-11 18:48:37,233]\u001b[0m Trial 33 finished with value: 2.55562935668249 and parameters: {'n_estimators': 8200, 'learning_rate': 0.0004014120540763032, 'max_depth': 9, 'num_leaves': 80, 'subsample_for_bin': 495000, 'min_child_weight': 0.00016019450055869533, 'min_child_samples': 90}. Best is trial 18 with value: 2.550623342155287.\u001b[0m\n",
      "/Users/nadiiapoliakovska/opt/anaconda3/lib/python3.8/site-packages/optuna/distributions.py:716: UserWarning:\n",
      "\n",
      "The distribution is specified by [3, 12] and step=2, but the range is not divisible by `step`. It will be replaced by [3, 11].\n",
      "\n",
      "\u001b[32m[I 2023-06-11 18:49:49,837]\u001b[0m Trial 34 finished with value: 2.6113368081608175 and parameters: {'n_estimators': 7400, 'learning_rate': 0.0012962762906710303, 'max_depth': 9, 'num_leaves': 75, 'subsample_for_bin': 494000, 'min_child_weight': 0.00014381415901336075, 'min_child_samples': 90}. Best is trial 18 with value: 2.550623342155287.\u001b[0m\n",
      "/Users/nadiiapoliakovska/opt/anaconda3/lib/python3.8/site-packages/optuna/distributions.py:716: UserWarning:\n",
      "\n",
      "The distribution is specified by [3, 12] and step=2, but the range is not divisible by `step`. It will be replaced by [3, 11].\n",
      "\n",
      "\u001b[32m[I 2023-06-11 18:51:16,246]\u001b[0m Trial 35 finished with value: 2.940662498550633 and parameters: {'n_estimators': 6000, 'learning_rate': 9.244578188801507e-05, 'max_depth': 9, 'num_leaves': 80, 'subsample_for_bin': 473000, 'min_child_weight': 7.070558335565453e-05, 'min_child_samples': 100}. Best is trial 18 with value: 2.550623342155287.\u001b[0m\n",
      "/Users/nadiiapoliakovska/opt/anaconda3/lib/python3.8/site-packages/optuna/distributions.py:716: UserWarning:\n",
      "\n",
      "The distribution is specified by [3, 12] and step=2, but the range is not divisible by `step`. It will be replaced by [3, 11].\n",
      "\n",
      "\u001b[32m[I 2023-06-11 18:52:46,722]\u001b[0m Trial 36 finished with value: 2.546589861296679 and parameters: {'n_estimators': 8000, 'learning_rate': 0.0005172750424541813, 'max_depth': 9, 'num_leaves': 55, 'subsample_for_bin': 401000, 'min_child_weight': 0.00013319553997334673, 'min_child_samples': 90}. Best is trial 36 with value: 2.546589861296679.\u001b[0m\n",
      "/Users/nadiiapoliakovska/opt/anaconda3/lib/python3.8/site-packages/optuna/distributions.py:716: UserWarning:\n",
      "\n",
      "The distribution is specified by [3, 12] and step=2, but the range is not divisible by `step`. It will be replaced by [3, 11].\n",
      "\n",
      "\u001b[32m[I 2023-06-11 18:54:16,627]\u001b[0m Trial 37 finished with value: 2.639877497323686 and parameters: {'n_estimators': 8000, 'learning_rate': 0.0002569932599029187, 'max_depth': 9, 'num_leaves': 50, 'subsample_for_bin': 395000, 'min_child_weight': 0.000114927584141531, 'min_child_samples': 90}. Best is trial 36 with value: 2.546589861296679.\u001b[0m\n",
      "/Users/nadiiapoliakovska/opt/anaconda3/lib/python3.8/site-packages/optuna/distributions.py:716: UserWarning:\n",
      "\n",
      "The distribution is specified by [3, 12] and step=2, but the range is not divisible by `step`. It will be replaced by [3, 11].\n",
      "\n",
      "\u001b[32m[I 2023-06-11 18:55:24,177]\u001b[0m Trial 38 finished with value: 2.570915340596179 and parameters: {'n_estimators': 7200, 'learning_rate': 0.0014372491383166514, 'max_depth': 9, 'num_leaves': 55, 'subsample_for_bin': 312000, 'min_child_weight': 0.0011856606434003114, 'min_child_samples': 60}. Best is trial 36 with value: 2.546589861296679.\u001b[0m\n",
      "/Users/nadiiapoliakovska/opt/anaconda3/lib/python3.8/site-packages/optuna/distributions.py:716: UserWarning:\n",
      "\n",
      "The distribution is specified by [3, 12] and step=2, but the range is not divisible by `step`. It will be replaced by [3, 11].\n",
      "\n",
      "\u001b[32m[I 2023-06-11 18:57:27,681]\u001b[0m Trial 39 finished with value: 3.160420559674507 and parameters: {'n_estimators': 9600, 'learning_rate': 2.3438372869442606e-05, 'max_depth': 9, 'num_leaves': 60, 'subsample_for_bin': 263000, 'min_child_weight': 0.00015330031815728832, 'min_child_samples': 90}. Best is trial 36 with value: 2.546589861296679.\u001b[0m\n",
      "/Users/nadiiapoliakovska/opt/anaconda3/lib/python3.8/site-packages/optuna/distributions.py:716: UserWarning:\n",
      "\n",
      "The distribution is specified by [3, 12] and step=2, but the range is not divisible by `step`. It will be replaced by [3, 11].\n",
      "\n",
      "\u001b[32m[I 2023-06-11 18:58:48,765]\u001b[0m Trial 40 finished with value: 2.810618696355379 and parameters: {'n_estimators': 8000, 'learning_rate': 0.00012604592666440916, 'max_depth': 11, 'num_leaves': 40, 'subsample_for_bin': 346000, 'min_child_weight': 7.966470481789972e-05, 'min_child_samples': 100}. Best is trial 36 with value: 2.546589861296679.\u001b[0m\n",
      "/Users/nadiiapoliakovska/opt/anaconda3/lib/python3.8/site-packages/optuna/distributions.py:716: UserWarning:\n",
      "\n",
      "The distribution is specified by [3, 12] and step=2, but the range is not divisible by `step`. It will be replaced by [3, 11].\n",
      "\n",
      "\u001b[32m[I 2023-06-11 19:00:20,829]\u001b[0m Trial 41 finished with value: 2.568128045691379 and parameters: {'n_estimators': 8600, 'learning_rate': 0.000638350583930831, 'max_depth': 7, 'num_leaves': 65, 'subsample_for_bin': 430000, 'min_child_weight': 0.0004277094758504587, 'min_child_samples': 80}. Best is trial 36 with value: 2.546589861296679.\u001b[0m\n"
     ]
    },
    {
     "name": "stderr",
     "output_type": "stream",
     "text": [
      "/Users/nadiiapoliakovska/opt/anaconda3/lib/python3.8/site-packages/optuna/distributions.py:716: UserWarning:\n",
      "\n",
      "The distribution is specified by [3, 12] and step=2, but the range is not divisible by `step`. It will be replaced by [3, 11].\n",
      "\n",
      "\u001b[32m[I 2023-06-11 19:01:15,984]\u001b[0m Trial 42 finished with value: 2.727028764928827 and parameters: {'n_estimators': 9200, 'learning_rate': 0.00041955990723803433, 'max_depth': 5, 'num_leaves': 95, 'subsample_for_bin': 467000, 'min_child_weight': 0.0002350772460422648, 'min_child_samples': 90}. Best is trial 36 with value: 2.546589861296679.\u001b[0m\n",
      "/Users/nadiiapoliakovska/opt/anaconda3/lib/python3.8/site-packages/optuna/distributions.py:716: UserWarning:\n",
      "\n",
      "The distribution is specified by [3, 12] and step=2, but the range is not divisible by `step`. It will be replaced by [3, 11].\n",
      "\n",
      "\u001b[32m[I 2023-06-11 19:02:07,874]\u001b[0m Trial 43 finished with value: 2.5296436393446364 and parameters: {'n_estimators': 7000, 'learning_rate': 0.0028335980247660656, 'max_depth': 9, 'num_leaves': 50, 'subsample_for_bin': 409000, 'min_child_weight': 0.0007384962972504601, 'min_child_samples': 80}. Best is trial 43 with value: 2.5296436393446364.\u001b[0m\n",
      "/Users/nadiiapoliakovska/opt/anaconda3/lib/python3.8/site-packages/optuna/distributions.py:716: UserWarning:\n",
      "\n",
      "The distribution is specified by [3, 12] and step=2, but the range is not divisible by `step`. It will be replaced by [3, 11].\n",
      "\n",
      "\u001b[32m[I 2023-06-11 19:02:59,362]\u001b[0m Trial 44 finished with value: 2.5572576405736624 and parameters: {'n_estimators': 6800, 'learning_rate': 0.0029492090156093965, 'max_depth': 9, 'num_leaves': 50, 'subsample_for_bin': 377000, 'min_child_weight': 0.0025616448053613606, 'min_child_samples': 70}. Best is trial 43 with value: 2.5296436393446364.\u001b[0m\n",
      "/Users/nadiiapoliakovska/opt/anaconda3/lib/python3.8/site-packages/optuna/distributions.py:716: UserWarning:\n",
      "\n",
      "The distribution is specified by [3, 12] and step=2, but the range is not divisible by `step`. It will be replaced by [3, 11].\n",
      "\n",
      "\u001b[32m[I 2023-06-11 19:03:47,526]\u001b[0m Trial 45 finished with value: 2.576995908465704 and parameters: {'n_estimators': 7200, 'learning_rate': 0.011993695425845687, 'max_depth': 11, 'num_leaves': 45, 'subsample_for_bin': 398000, 'min_child_weight': 0.0006839153025829463, 'min_child_samples': 20}. Best is trial 43 with value: 2.5296436393446364.\u001b[0m\n",
      "/Users/nadiiapoliakovska/opt/anaconda3/lib/python3.8/site-packages/optuna/distributions.py:716: UserWarning:\n",
      "\n",
      "The distribution is specified by [3, 12] and step=2, but the range is not divisible by `step`. It will be replaced by [3, 11].\n",
      "\n",
      "\u001b[32m[I 2023-06-11 19:04:42,043]\u001b[0m Trial 46 finished with value: 2.5709414767685907 and parameters: {'n_estimators': 8000, 'learning_rate': 0.004274194970974715, 'max_depth': 9, 'num_leaves': 50, 'subsample_for_bin': 499000, 'min_child_weight': 0.0009349860885508172, 'min_child_samples': 90}. Best is trial 43 with value: 2.5296436393446364.\u001b[0m\n",
      "/Users/nadiiapoliakovska/opt/anaconda3/lib/python3.8/site-packages/optuna/distributions.py:716: UserWarning:\n",
      "\n",
      "The distribution is specified by [3, 12] and step=2, but the range is not divisible by `step`. It will be replaced by [3, 11].\n",
      "\n",
      "\u001b[32m[I 2023-06-11 19:05:34,463]\u001b[0m Trial 47 finished with value: 2.5604006735346005 and parameters: {'n_estimators': 6000, 'learning_rate': 0.0016143015389455152, 'max_depth': 9, 'num_leaves': 55, 'subsample_for_bin': 413000, 'min_child_weight': 0.0005193601741719265, 'min_child_samples': 80}. Best is trial 43 with value: 2.5296436393446364.\u001b[0m\n",
      "/Users/nadiiapoliakovska/opt/anaconda3/lib/python3.8/site-packages/optuna/distributions.py:716: UserWarning:\n",
      "\n",
      "The distribution is specified by [3, 12] and step=2, but the range is not divisible by `step`. It will be replaced by [3, 11].\n",
      "\n",
      "\u001b[32m[I 2023-06-11 19:06:55,753]\u001b[0m Trial 48 finished with value: 2.654291021500747 and parameters: {'n_estimators': 7600, 'learning_rate': 0.00026934461220034215, 'max_depth': 9, 'num_leaves': 40, 'subsample_for_bin': 317000, 'min_child_weight': 0.00010793780600673585, 'min_child_samples': 60}. Best is trial 43 with value: 2.5296436393446364.\u001b[0m\n",
      "/Users/nadiiapoliakovska/opt/anaconda3/lib/python3.8/site-packages/optuna/distributions.py:716: UserWarning:\n",
      "\n",
      "The distribution is specified by [3, 12] and step=2, but the range is not divisible by `step`. It will be replaced by [3, 11].\n",
      "\n",
      "\u001b[32m[I 2023-06-11 19:08:32,712]\u001b[0m Trial 49 finished with value: 2.5525909905957103 and parameters: {'n_estimators': 9600, 'learning_rate': 0.0013003969282432374, 'max_depth': 11, 'num_leaves': 70, 'subsample_for_bin': 59000, 'min_child_weight': 0.0001495320976691459, 'min_child_samples': 100}. Best is trial 43 with value: 2.5296436393446364.\u001b[0m\n",
      "/Users/nadiiapoliakovska/opt/anaconda3/lib/python3.8/site-packages/optuna/distributions.py:716: UserWarning:\n",
      "\n",
      "The distribution is specified by [3, 12] and step=2, but the range is not divisible by `step`. It will be replaced by [3, 11].\n",
      "\n",
      "\u001b[32m[I 2023-06-11 19:09:44,528]\u001b[0m Trial 50 finished with value: 2.6696038041039545 and parameters: {'n_estimators': 9600, 'learning_rate': 0.0225982321113919, 'max_depth': 11, 'num_leaves': 70, 'subsample_for_bin': 20000, 'min_child_weight': 0.0003965728185532819, 'min_child_samples': 100}. Best is trial 43 with value: 2.5296436393446364.\u001b[0m\n",
      "/Users/nadiiapoliakovska/opt/anaconda3/lib/python3.8/site-packages/optuna/distributions.py:716: UserWarning:\n",
      "\n",
      "The distribution is specified by [3, 12] and step=2, but the range is not divisible by `step`. It will be replaced by [3, 11].\n",
      "\n",
      "\u001b[32m[I 2023-06-11 19:11:08,024]\u001b[0m Trial 51 finished with value: 2.5454155199067876 and parameters: {'n_estimators': 9000, 'learning_rate': 0.0012926194568170727, 'max_depth': 11, 'num_leaves': 60, 'subsample_for_bin': 153000, 'min_child_weight': 0.00022353769711669613, 'min_child_samples': 100}. Best is trial 43 with value: 2.5296436393446364.\u001b[0m\n",
      "/Users/nadiiapoliakovska/opt/anaconda3/lib/python3.8/site-packages/optuna/distributions.py:716: UserWarning:\n",
      "\n",
      "The distribution is specified by [3, 12] and step=2, but the range is not divisible by `step`. It will be replaced by [3, 11].\n",
      "\n",
      "\u001b[32m[I 2023-06-11 19:12:35,823]\u001b[0m Trial 52 finished with value: 2.5663174565043816 and parameters: {'n_estimators': 9600, 'learning_rate': 0.001197181418860897, 'max_depth': 11, 'num_leaves': 55, 'subsample_for_bin': 127000, 'min_child_weight': 0.0002098764359633774, 'min_child_samples': 100}. Best is trial 43 with value: 2.5296436393446364.\u001b[0m\n",
      "/Users/nadiiapoliakovska/opt/anaconda3/lib/python3.8/site-packages/optuna/distributions.py:716: UserWarning:\n",
      "\n",
      "The distribution is specified by [3, 12] and step=2, but the range is not divisible by `step`. It will be replaced by [3, 11].\n",
      "\n",
      "\u001b[32m[I 2023-06-11 19:13:48,368]\u001b[0m Trial 53 finished with value: 2.5609337238349528 and parameters: {'n_estimators': 8800, 'learning_rate': 0.0024408651649769036, 'max_depth': 11, 'num_leaves': 60, 'subsample_for_bin': 66000, 'min_child_weight': 0.0005414257279262465, 'min_child_samples': 100}. Best is trial 43 with value: 2.5296436393446364.\u001b[0m\n",
      "/Users/nadiiapoliakovska/opt/anaconda3/lib/python3.8/site-packages/optuna/distributions.py:716: UserWarning:\n",
      "\n",
      "The distribution is specified by [3, 12] and step=2, but the range is not divisible by `step`. It will be replaced by [3, 11].\n",
      "\n",
      "\u001b[32m[I 2023-06-11 19:15:01,775]\u001b[0m Trial 54 finished with value: 2.614757040239064 and parameters: {'n_estimators': 10000, 'learning_rate': 0.0061730068959633426, 'max_depth': 11, 'num_leaves': 65, 'subsample_for_bin': 53000, 'min_child_weight': 0.00010463194234438794, 'min_child_samples': 100}. Best is trial 43 with value: 2.5296436393446364.\u001b[0m\n",
      "/Users/nadiiapoliakovska/opt/anaconda3/lib/python3.8/site-packages/optuna/distributions.py:716: UserWarning:\n",
      "\n",
      "The distribution is specified by [3, 12] and step=2, but the range is not divisible by `step`. It will be replaced by [3, 11].\n",
      "\n",
      "\u001b[32m[I 2023-06-11 19:16:11,529]\u001b[0m Trial 55 finished with value: 2.55850894752089 and parameters: {'n_estimators': 9000, 'learning_rate': 0.0018003793876668803, 'max_depth': 11, 'num_leaves': 45, 'subsample_for_bin': 135000, 'min_child_weight': 0.0007642168122346633, 'min_child_samples': 100}. Best is trial 43 with value: 2.5296436393446364.\u001b[0m\n"
     ]
    },
    {
     "name": "stderr",
     "output_type": "stream",
     "text": [
      "/Users/nadiiapoliakovska/opt/anaconda3/lib/python3.8/site-packages/optuna/distributions.py:716: UserWarning:\n",
      "\n",
      "The distribution is specified by [3, 12] and step=2, but the range is not divisible by `step`. It will be replaced by [3, 11].\n",
      "\n",
      "\u001b[32m[I 2023-06-11 19:17:02,600]\u001b[0m Trial 56 finished with value: 2.538982560573718 and parameters: {'n_estimators': 4200, 'learning_rate': 0.0010258891884716449, 'max_depth': 11, 'num_leaves': 60, 'subsample_for_bin': 156000, 'min_child_weight': 0.00021887013256137886, 'min_child_samples': 90}. Best is trial 43 with value: 2.5296436393446364.\u001b[0m\n",
      "/Users/nadiiapoliakovska/opt/anaconda3/lib/python3.8/site-packages/optuna/distributions.py:716: UserWarning:\n",
      "\n",
      "The distribution is specified by [3, 12] and step=2, but the range is not divisible by `step`. It will be replaced by [3, 11].\n",
      "\n",
      "\u001b[32m[I 2023-06-11 19:17:37,344]\u001b[0m Trial 57 finished with value: 2.658741379602477 and parameters: {'n_estimators': 3800, 'learning_rate': 0.0009015138533968196, 'max_depth': 11, 'num_leaves': 35, 'subsample_for_bin': 153000, 'min_child_weight': 0.00032856675195590637, 'min_child_samples': 90}. Best is trial 43 with value: 2.5296436393446364.\u001b[0m\n",
      "/Users/nadiiapoliakovska/opt/anaconda3/lib/python3.8/site-packages/optuna/distributions.py:716: UserWarning:\n",
      "\n",
      "The distribution is specified by [3, 12] and step=2, but the range is not divisible by `step`. It will be replaced by [3, 11].\n",
      "\n",
      "\u001b[32m[I 2023-06-11 19:18:04,353]\u001b[0m Trial 58 finished with value: 2.5193607295260927 and parameters: {'n_estimators': 2800, 'learning_rate': 0.0038016642532224232, 'max_depth': 11, 'num_leaves': 60, 'subsample_for_bin': 177000, 'min_child_weight': 0.0002451669243551631, 'min_child_samples': 80}. Best is trial 58 with value: 2.5193607295260927.\u001b[0m\n",
      "/Users/nadiiapoliakovska/opt/anaconda3/lib/python3.8/site-packages/optuna/distributions.py:716: UserWarning:\n",
      "\n",
      "The distribution is specified by [3, 12] and step=2, but the range is not divisible by `step`. It will be replaced by [3, 11].\n",
      "\n",
      "\u001b[32m[I 2023-06-11 19:18:29,380]\u001b[0m Trial 59 finished with value: 2.5264363258291094 and parameters: {'n_estimators': 2400, 'learning_rate': 0.00434053088606043, 'max_depth': 11, 'num_leaves': 60, 'subsample_for_bin': 228000, 'min_child_weight': 4.7442154695692756e-05, 'min_child_samples': 80}. Best is trial 58 with value: 2.5193607295260927.\u001b[0m\n",
      "/Users/nadiiapoliakovska/opt/anaconda3/lib/python3.8/site-packages/optuna/distributions.py:716: UserWarning:\n",
      "\n",
      "The distribution is specified by [3, 12] and step=2, but the range is not divisible by `step`. It will be replaced by [3, 11].\n",
      "\n",
      "\u001b[32m[I 2023-06-11 19:18:52,044]\u001b[0m Trial 60 finished with value: 2.51593827049965 and parameters: {'n_estimators': 2600, 'learning_rate': 0.0049955634194383935, 'max_depth': 11, 'num_leaves': 55, 'subsample_for_bin': 226000, 'min_child_weight': 5.378870428610475e-05, 'min_child_samples': 70}. Best is trial 60 with value: 2.51593827049965.\u001b[0m\n",
      "/Users/nadiiapoliakovska/opt/anaconda3/lib/python3.8/site-packages/optuna/distributions.py:716: UserWarning:\n",
      "\n",
      "The distribution is specified by [3, 12] and step=2, but the range is not divisible by `step`. It will be replaced by [3, 11].\n",
      "\n",
      "\u001b[32m[I 2023-06-11 19:19:14,242]\u001b[0m Trial 61 finished with value: 2.5206183448147987 and parameters: {'n_estimators': 2400, 'learning_rate': 0.004062893267814289, 'max_depth': 11, 'num_leaves': 55, 'subsample_for_bin': 221000, 'min_child_weight': 4.97314629770628e-05, 'min_child_samples': 70}. Best is trial 60 with value: 2.51593827049965.\u001b[0m\n",
      "/Users/nadiiapoliakovska/opt/anaconda3/lib/python3.8/site-packages/optuna/distributions.py:716: UserWarning:\n",
      "\n",
      "The distribution is specified by [3, 12] and step=2, but the range is not divisible by `step`. It will be replaced by [3, 11].\n",
      "\n",
      "\u001b[32m[I 2023-06-11 19:19:38,905]\u001b[0m Trial 62 finished with value: 2.547723647580195 and parameters: {'n_estimators': 2600, 'learning_rate': 0.004874942155510189, 'max_depth': 11, 'num_leaves': 60, 'subsample_for_bin': 220000, 'min_child_weight': 5.736148261287708e-05, 'min_child_samples': 70}. Best is trial 60 with value: 2.51593827049965.\u001b[0m\n",
      "/Users/nadiiapoliakovska/opt/anaconda3/lib/python3.8/site-packages/optuna/distributions.py:716: UserWarning:\n",
      "\n",
      "The distribution is specified by [3, 12] and step=2, but the range is not divisible by `step`. It will be replaced by [3, 11].\n",
      "\n",
      "\u001b[32m[I 2023-06-11 19:19:55,485]\u001b[0m Trial 63 finished with value: 2.5267084219260725 and parameters: {'n_estimators': 1400, 'learning_rate': 0.003826131511011345, 'max_depth': 11, 'num_leaves': 60, 'subsample_for_bin': 225000, 'min_child_weight': 3.7910185469477614e-05, 'min_child_samples': 60}. Best is trial 60 with value: 2.51593827049965.\u001b[0m\n",
      "/Users/nadiiapoliakovska/opt/anaconda3/lib/python3.8/site-packages/optuna/distributions.py:716: UserWarning:\n",
      "\n",
      "The distribution is specified by [3, 12] and step=2, but the range is not divisible by `step`. It will be replaced by [3, 11].\n",
      "\n",
      "\u001b[32m[I 2023-06-11 19:20:08,135]\u001b[0m Trial 64 finished with value: 2.5538387091150563 and parameters: {'n_estimators': 1600, 'learning_rate': 0.011679640817580375, 'max_depth': 11, 'num_leaves': 50, 'subsample_for_bin': 229000, 'min_child_weight': 2.9118402973020988e-05, 'min_child_samples': 60}. Best is trial 60 with value: 2.51593827049965.\u001b[0m\n",
      "/Users/nadiiapoliakovska/opt/anaconda3/lib/python3.8/site-packages/optuna/distributions.py:716: UserWarning:\n",
      "\n",
      "The distribution is specified by [3, 12] and step=2, but the range is not divisible by `step`. It will be replaced by [3, 11].\n",
      "\n",
      "\u001b[32m[I 2023-06-11 19:20:36,293]\u001b[0m Trial 65 finished with value: 2.52578761359891 and parameters: {'n_estimators': 2600, 'learning_rate': 0.00344442815608316, 'max_depth': 11, 'num_leaves': 55, 'subsample_for_bin': 182000, 'min_child_weight': 2.562045677195874e-05, 'min_child_samples': 50}. Best is trial 60 with value: 2.51593827049965.\u001b[0m\n",
      "/Users/nadiiapoliakovska/opt/anaconda3/lib/python3.8/site-packages/optuna/distributions.py:716: UserWarning:\n",
      "\n",
      "The distribution is specified by [3, 12] and step=2, but the range is not divisible by `step`. It will be replaced by [3, 11].\n",
      "\n",
      "\u001b[32m[I 2023-06-11 19:21:01,625]\u001b[0m Trial 66 finished with value: 2.518295464885459 and parameters: {'n_estimators': 2600, 'learning_rate': 0.003601059949689661, 'max_depth': 11, 'num_leaves': 55, 'subsample_for_bin': 185000, 'min_child_weight': 2.247430375839528e-05, 'min_child_samples': 50}. Best is trial 60 with value: 2.51593827049965.\u001b[0m\n",
      "/Users/nadiiapoliakovska/opt/anaconda3/lib/python3.8/site-packages/optuna/distributions.py:716: UserWarning:\n",
      "\n",
      "The distribution is specified by [3, 12] and step=2, but the range is not divisible by `step`. It will be replaced by [3, 11].\n",
      "\n",
      "\u001b[32m[I 2023-06-11 19:21:24,639]\u001b[0m Trial 67 finished with value: 2.542868644610051 and parameters: {'n_estimators': 2600, 'learning_rate': 0.007453474647762932, 'max_depth': 11, 'num_leaves': 55, 'subsample_for_bin': 183000, 'min_child_weight': 2.267750943273585e-05, 'min_child_samples': 50}. Best is trial 60 with value: 2.51593827049965.\u001b[0m\n",
      "/Users/nadiiapoliakovska/opt/anaconda3/lib/python3.8/site-packages/optuna/distributions.py:716: UserWarning:\n",
      "\n",
      "The distribution is specified by [3, 12] and step=2, but the range is not divisible by `step`. It will be replaced by [3, 11].\n",
      "\n",
      "\u001b[32m[I 2023-06-11 19:21:39,104]\u001b[0m Trial 68 finished with value: 2.5383664304299036 and parameters: {'n_estimators': 1800, 'learning_rate': 0.01964010134813116, 'max_depth': 11, 'num_leaves': 55, 'subsample_for_bin': 248000, 'min_child_weight': 4.687525563093014e-05, 'min_child_samples': 40}. Best is trial 60 with value: 2.51593827049965.\u001b[0m\n",
      "/Users/nadiiapoliakovska/opt/anaconda3/lib/python3.8/site-packages/optuna/distributions.py:716: UserWarning:\n",
      "\n",
      "The distribution is specified by [3, 12] and step=2, but the range is not divisible by `step`. It will be replaced by [3, 11].\n",
      "\n",
      "\u001b[32m[I 2023-06-11 19:22:08,531]\u001b[0m Trial 69 finished with value: 2.5295949811905105 and parameters: {'n_estimators': 3000, 'learning_rate': 0.004299705124084389, 'max_depth': 11, 'num_leaves': 65, 'subsample_for_bin': 195000, 'min_child_weight': 1.952091287047278e-05, 'min_child_samples': 50}. Best is trial 60 with value: 2.51593827049965.\u001b[0m\n"
     ]
    },
    {
     "name": "stderr",
     "output_type": "stream",
     "text": [
      "/Users/nadiiapoliakovska/opt/anaconda3/lib/python3.8/site-packages/optuna/distributions.py:716: UserWarning:\n",
      "\n",
      "The distribution is specified by [3, 12] and step=2, but the range is not divisible by `step`. It will be replaced by [3, 11].\n",
      "\n",
      "\u001b[32m[I 2023-06-11 19:22:15,072]\u001b[0m Trial 70 finished with value: 2.5166308554140344 and parameters: {'n_estimators': 1000, 'learning_rate': 0.038454624865558076, 'max_depth': 11, 'num_leaves': 40, 'subsample_for_bin': 273000, 'min_child_weight': 4.9775884001858e-05, 'min_child_samples': 40}. Best is trial 60 with value: 2.51593827049965.\u001b[0m\n",
      "/Users/nadiiapoliakovska/opt/anaconda3/lib/python3.8/site-packages/optuna/distributions.py:716: UserWarning:\n",
      "\n",
      "The distribution is specified by [3, 12] and step=2, but the range is not divisible by `step`. It will be replaced by [3, 11].\n",
      "\n",
      "\u001b[32m[I 2023-06-11 19:22:20,243]\u001b[0m Trial 71 finished with value: 2.643302311956087 and parameters: {'n_estimators': 1000, 'learning_rate': 0.0774095150674378, 'max_depth': 11, 'num_leaves': 30, 'subsample_for_bin': 280000, 'min_child_weight': 4.6661201130137873e-05, 'min_child_samples': 40}. Best is trial 60 with value: 2.51593827049965.\u001b[0m\n",
      "/Users/nadiiapoliakovska/opt/anaconda3/lib/python3.8/site-packages/optuna/distributions.py:716: UserWarning:\n",
      "\n",
      "The distribution is specified by [3, 12] and step=2, but the range is not divisible by `step`. It will be replaced by [3, 11].\n",
      "\n",
      "\u001b[32m[I 2023-06-11 19:22:36,603]\u001b[0m Trial 72 finished with value: 2.5181444170014373 and parameters: {'n_estimators': 2000, 'learning_rate': 0.015714946593321937, 'max_depth': 11, 'num_leaves': 45, 'subsample_for_bin': 241000, 'min_child_weight': 3.2572482227043974e-05, 'min_child_samples': 50}. Best is trial 60 with value: 2.51593827049965.\u001b[0m\n",
      "/Users/nadiiapoliakovska/opt/anaconda3/lib/python3.8/site-packages/optuna/distributions.py:716: UserWarning:\n",
      "\n",
      "The distribution is specified by [3, 12] and step=2, but the range is not divisible by `step`. It will be replaced by [3, 11].\n",
      "\n",
      "\u001b[32m[I 2023-06-11 19:22:42,812]\u001b[0m Trial 73 finished with value: 2.814705352534965 and parameters: {'n_estimators': 2000, 'learning_rate': 0.03662304219543137, 'max_depth': 3, 'num_leaves': 40, 'subsample_for_bin': 247000, 'min_child_weight': 2.8405106919222807e-05, 'min_child_samples': 40}. Best is trial 60 with value: 2.51593827049965.\u001b[0m\n",
      "/Users/nadiiapoliakovska/opt/anaconda3/lib/python3.8/site-packages/optuna/distributions.py:716: UserWarning:\n",
      "\n",
      "The distribution is specified by [3, 12] and step=2, but the range is not divisible by `step`. It will be replaced by [3, 11].\n",
      "\n",
      "\u001b[32m[I 2023-06-11 19:23:02,439]\u001b[0m Trial 74 finished with value: 2.5413075446005875 and parameters: {'n_estimators': 2400, 'learning_rate': 0.010002873273041155, 'max_depth': 11, 'num_leaves': 45, 'subsample_for_bin': 172000, 'min_child_weight': 1.5308930812943084e-05, 'min_child_samples': 50}. Best is trial 60 with value: 2.51593827049965.\u001b[0m\n",
      "/Users/nadiiapoliakovska/opt/anaconda3/lib/python3.8/site-packages/optuna/distributions.py:716: UserWarning:\n",
      "\n",
      "The distribution is specified by [3, 12] and step=2, but the range is not divisible by `step`. It will be replaced by [3, 11].\n",
      "\n",
      "\u001b[32m[I 2023-06-11 19:23:23,750]\u001b[0m Trial 75 finished with value: 2.528471889605377 and parameters: {'n_estimators': 3000, 'learning_rate': 0.0191717862912597, 'max_depth': 11, 'num_leaves': 35, 'subsample_for_bin': 203000, 'min_child_weight': 6.0209491122760284e-05, 'min_child_samples': 30}. Best is trial 60 with value: 2.51593827049965.\u001b[0m\n",
      "/Users/nadiiapoliakovska/opt/anaconda3/lib/python3.8/site-packages/optuna/distributions.py:716: UserWarning:\n",
      "\n",
      "The distribution is specified by [3, 12] and step=2, but the range is not divisible by `step`. It will be replaced by [3, 11].\n",
      "\n",
      "\u001b[32m[I 2023-06-11 19:23:42,846]\u001b[0m Trial 76 finished with value: 2.609911484343291 and parameters: {'n_estimators': 3400, 'learning_rate': 0.006543371021708526, 'max_depth': 11, 'num_leaves': 25, 'subsample_for_bin': 239000, 'min_child_weight': 5.0549551635404226e-05, 'min_child_samples': 50}. Best is trial 60 with value: 2.51593827049965.\u001b[0m\n",
      "/Users/nadiiapoliakovska/opt/anaconda3/lib/python3.8/site-packages/optuna/distributions.py:716: UserWarning:\n",
      "\n",
      "The distribution is specified by [3, 12] and step=2, but the range is not divisible by `step`. It will be replaced by [3, 11].\n",
      "\n",
      "\u001b[32m[I 2023-06-11 19:23:59,131]\u001b[0m Trial 77 finished with value: 2.4853643886087364 and parameters: {'n_estimators': 2200, 'learning_rate': 0.013645872924300499, 'max_depth': 11, 'num_leaves': 50, 'subsample_for_bin': 273000, 'min_child_weight': 8.245740340142923e-05, 'min_child_samples': 30}. Best is trial 77 with value: 2.4853643886087364.\u001b[0m\n",
      "/Users/nadiiapoliakovska/opt/anaconda3/lib/python3.8/site-packages/optuna/distributions.py:716: UserWarning:\n",
      "\n",
      "The distribution is specified by [3, 12] and step=2, but the range is not divisible by `step`. It will be replaced by [3, 11].\n",
      "\n",
      "\u001b[32m[I 2023-06-11 19:24:12,820]\u001b[0m Trial 78 finished with value: 2.518492128434692 and parameters: {'n_estimators': 2000, 'learning_rate': 0.03213960614883053, 'max_depth': 11, 'num_leaves': 50, 'subsample_for_bin': 213000, 'min_child_weight': 7.887310399240812e-05, 'min_child_samples': 30}. Best is trial 77 with value: 2.4853643886087364.\u001b[0m\n",
      "/Users/nadiiapoliakovska/opt/anaconda3/lib/python3.8/site-packages/optuna/distributions.py:716: UserWarning:\n",
      "\n",
      "The distribution is specified by [3, 12] and step=2, but the range is not divisible by `step`. It will be replaced by [3, 11].\n",
      "\n",
      "\u001b[32m[I 2023-06-11 19:24:24,732]\u001b[0m Trial 79 finished with value: 2.505616715909011 and parameters: {'n_estimators': 2000, 'learning_rate': 0.04035151020759113, 'max_depth': 11, 'num_leaves': 40, 'subsample_for_bin': 268000, 'min_child_weight': 8.915850529303086e-05, 'min_child_samples': 30}. Best is trial 77 with value: 2.4853643886087364.\u001b[0m\n",
      "/Users/nadiiapoliakovska/opt/anaconda3/lib/python3.8/site-packages/optuna/distributions.py:716: UserWarning:\n",
      "\n",
      "The distribution is specified by [3, 12] and step=2, but the range is not divisible by `step`. It will be replaced by [3, 11].\n",
      "\n",
      "\u001b[32m[I 2023-06-11 19:24:36,547]\u001b[0m Trial 80 finished with value: 2.555990508850801 and parameters: {'n_estimators': 2000, 'learning_rate': 0.04137733550057795, 'max_depth': 11, 'num_leaves': 35, 'subsample_for_bin': 271000, 'min_child_weight': 7.56012159733188e-05, 'min_child_samples': 30}. Best is trial 77 with value: 2.4853643886087364.\u001b[0m\n",
      "/Users/nadiiapoliakovska/opt/anaconda3/lib/python3.8/site-packages/optuna/distributions.py:716: UserWarning:\n",
      "\n",
      "The distribution is specified by [3, 12] and step=2, but the range is not divisible by `step`. It will be replaced by [3, 11].\n",
      "\n",
      "\u001b[32m[I 2023-06-11 19:24:46,435]\u001b[0m Trial 81 finished with value: 2.5502345343309942 and parameters: {'n_estimators': 1200, 'learning_rate': 0.014706564818479036, 'max_depth': 11, 'num_leaves': 45, 'subsample_for_bin': 282000, 'min_child_weight': 8.188644956437638e-05, 'min_child_samples': 20}. Best is trial 77 with value: 2.4853643886087364.\u001b[0m\n",
      "/Users/nadiiapoliakovska/opt/anaconda3/lib/python3.8/site-packages/optuna/distributions.py:716: UserWarning:\n",
      "\n",
      "The distribution is specified by [3, 12] and step=2, but the range is not divisible by `step`. It will be replaced by [3, 11].\n",
      "\n",
      "\u001b[32m[I 2023-06-11 19:24:57,664]\u001b[0m Trial 82 finished with value: 2.514035367387984 and parameters: {'n_estimators': 1800, 'learning_rate': 0.030082185152521795, 'max_depth': 11, 'num_leaves': 40, 'subsample_for_bin': 211000, 'min_child_weight': 9.506972195157133e-05, 'min_child_samples': 20}. Best is trial 77 with value: 2.4853643886087364.\u001b[0m\n",
      "/Users/nadiiapoliakovska/opt/anaconda3/lib/python3.8/site-packages/optuna/distributions.py:716: UserWarning:\n",
      "\n",
      "The distribution is specified by [3, 12] and step=2, but the range is not divisible by `step`. It will be replaced by [3, 11].\n",
      "\n",
      "\u001b[32m[I 2023-06-11 19:25:07,621]\u001b[0m Trial 83 finished with value: 2.562145024191766 and parameters: {'n_estimators': 1600, 'learning_rate': 0.03283787504915859, 'max_depth': 11, 'num_leaves': 40, 'subsample_for_bin': 209000, 'min_child_weight': 8.515457108344295e-05, 'min_child_samples': 20}. Best is trial 77 with value: 2.4853643886087364.\u001b[0m\n"
     ]
    },
    {
     "name": "stderr",
     "output_type": "stream",
     "text": [
      "/Users/nadiiapoliakovska/opt/anaconda3/lib/python3.8/site-packages/optuna/distributions.py:716: UserWarning:\n",
      "\n",
      "The distribution is specified by [3, 12] and step=2, but the range is not divisible by `step`. It will be replaced by [3, 11].\n",
      "\n",
      "\u001b[32m[I 2023-06-11 19:25:20,718]\u001b[0m Trial 84 finished with value: 2.6019541477099137 and parameters: {'n_estimators': 2000, 'learning_rate': 0.0631327227257195, 'max_depth': 11, 'num_leaves': 50, 'subsample_for_bin': 255000, 'min_child_weight': 0.0001008539565533808, 'min_child_samples': 40}. Best is trial 77 with value: 2.4853643886087364.\u001b[0m\n",
      "/Users/nadiiapoliakovska/opt/anaconda3/lib/python3.8/site-packages/optuna/distributions.py:716: UserWarning:\n",
      "\n",
      "The distribution is specified by [3, 12] and step=2, but the range is not divisible by `step`. It will be replaced by [3, 11].\n",
      "\n",
      "\u001b[32m[I 2023-06-11 19:25:28,510]\u001b[0m Trial 85 finished with value: 2.547381058811147 and parameters: {'n_estimators': 1000, 'learning_rate': 0.014489352432231633, 'max_depth': 11, 'num_leaves': 40, 'subsample_for_bin': 288000, 'min_child_weight': 3.540101775743716e-05, 'min_child_samples': 30}. Best is trial 77 with value: 2.4853643886087364.\u001b[0m\n",
      "/Users/nadiiapoliakovska/opt/anaconda3/lib/python3.8/site-packages/optuna/distributions.py:716: UserWarning:\n",
      "\n",
      "The distribution is specified by [3, 12] and step=2, but the range is not divisible by `step`. It will be replaced by [3, 11].\n",
      "\n",
      "\u001b[32m[I 2023-06-11 19:25:48,356]\u001b[0m Trial 86 finished with value: 2.6159384194431716 and parameters: {'n_estimators': 3000, 'learning_rate': 0.09277849963954148, 'max_depth': 11, 'num_leaves': 50, 'subsample_for_bin': 309000, 'min_child_weight': 6.0945199538064145e-05, 'min_child_samples': 30}. Best is trial 77 with value: 2.4853643886087364.\u001b[0m\n",
      "/Users/nadiiapoliakovska/opt/anaconda3/lib/python3.8/site-packages/optuna/distributions.py:716: UserWarning:\n",
      "\n",
      "The distribution is specified by [3, 12] and step=2, but the range is not divisible by `step`. It will be replaced by [3, 11].\n",
      "\n",
      "\u001b[32m[I 2023-06-11 19:25:59,193]\u001b[0m Trial 87 finished with value: 2.574600604520596 and parameters: {'n_estimators': 1600, 'learning_rate': 0.0257342218543273, 'max_depth': 11, 'num_leaves': 45, 'subsample_for_bin': 195000, 'min_child_weight': 3.577210734923564e-05, 'min_child_samples': 20}. Best is trial 77 with value: 2.4853643886087364.\u001b[0m\n",
      "/Users/nadiiapoliakovska/opt/anaconda3/lib/python3.8/site-packages/optuna/distributions.py:716: UserWarning:\n",
      "\n",
      "The distribution is specified by [3, 12] and step=2, but the range is not divisible by `step`. It will be replaced by [3, 11].\n",
      "\n",
      "\u001b[32m[I 2023-06-11 19:26:16,586]\u001b[0m Trial 88 finished with value: 2.565767832296913 and parameters: {'n_estimators': 2200, 'learning_rate': 0.008618148201370475, 'max_depth': 11, 'num_leaves': 45, 'subsample_for_bin': 266000, 'min_child_weight': 9.223755654583933e-05, 'min_child_samples': 10}. Best is trial 77 with value: 2.4853643886087364.\u001b[0m\n",
      "/Users/nadiiapoliakovska/opt/anaconda3/lib/python3.8/site-packages/optuna/distributions.py:716: UserWarning:\n",
      "\n",
      "The distribution is specified by [3, 12] and step=2, but the range is not divisible by `step`. It will be replaced by [3, 11].\n",
      "\n",
      "\u001b[32m[I 2023-06-11 19:26:24,258]\u001b[0m Trial 89 finished with value: 2.5779527437706147 and parameters: {'n_estimators': 1400, 'learning_rate': 0.05450155229115497, 'max_depth': 11, 'num_leaves': 35, 'subsample_for_bin': 238000, 'min_child_weight': 0.00012442875204800817, 'min_child_samples': 40}. Best is trial 77 with value: 2.4853643886087364.\u001b[0m\n",
      "/Users/nadiiapoliakovska/opt/anaconda3/lib/python3.8/site-packages/optuna/distributions.py:716: UserWarning:\n",
      "\n",
      "The distribution is specified by [3, 12] and step=2, but the range is not divisible by `step`. It will be replaced by [3, 11].\n",
      "\n",
      "\u001b[32m[I 2023-06-11 19:26:43,318]\u001b[0m Trial 90 finished with value: 2.656021643618584 and parameters: {'n_estimators': 2800, 'learning_rate': 0.1398974704411216, 'max_depth': 11, 'num_leaves': 50, 'subsample_for_bin': 210000, 'min_child_weight': 6.922116114618068e-05, 'min_child_samples': 20}. Best is trial 77 with value: 2.4853643886087364.\u001b[0m\n",
      "/Users/nadiiapoliakovska/opt/anaconda3/lib/python3.8/site-packages/optuna/distributions.py:716: UserWarning:\n",
      "\n",
      "The distribution is specified by [3, 12] and step=2, but the range is not divisible by `step`. It will be replaced by [3, 11].\n",
      "\n",
      "\u001b[32m[I 2023-06-11 19:26:56,466]\u001b[0m Trial 91 finished with value: 2.5335394884993687 and parameters: {'n_estimators': 2200, 'learning_rate': 0.027848796046435805, 'max_depth': 11, 'num_leaves': 40, 'subsample_for_bin': 218000, 'min_child_weight': 5.763324742595643e-05, 'min_child_samples': 30}. Best is trial 77 with value: 2.4853643886087364.\u001b[0m\n",
      "/Users/nadiiapoliakovska/opt/anaconda3/lib/python3.8/site-packages/optuna/distributions.py:716: UserWarning:\n",
      "\n",
      "The distribution is specified by [3, 12] and step=2, but the range is not divisible by `step`. It will be replaced by [3, 11].\n",
      "\n",
      "\u001b[32m[I 2023-06-11 19:27:07,790]\u001b[0m Trial 92 finished with value: 2.6205878055726926 and parameters: {'n_estimators': 1800, 'learning_rate': 0.045561306454861755, 'max_depth': 11, 'num_leaves': 45, 'subsample_for_bin': 235000, 'min_child_weight': 4.345840686249098e-05, 'min_child_samples': 30}. Best is trial 77 with value: 2.4853643886087364.\u001b[0m\n",
      "/Users/nadiiapoliakovska/opt/anaconda3/lib/python3.8/site-packages/optuna/distributions.py:716: UserWarning:\n",
      "\n",
      "The distribution is specified by [3, 12] and step=2, but the range is not divisible by `step`. It will be replaced by [3, 11].\n",
      "\n",
      "\u001b[32m[I 2023-06-11 19:27:32,818]\u001b[0m Trial 93 finished with value: 2.5503408972292574 and parameters: {'n_estimators': 3600, 'learning_rate': 0.014388795640084462, 'max_depth': 11, 'num_leaves': 50, 'subsample_for_bin': 176000, 'min_child_weight': 3.289836472927924e-05, 'min_child_samples': 40}. Best is trial 77 with value: 2.4853643886087364.\u001b[0m\n",
      "/Users/nadiiapoliakovska/opt/anaconda3/lib/python3.8/site-packages/optuna/distributions.py:716: UserWarning:\n",
      "\n",
      "The distribution is specified by [3, 12] and step=2, but the range is not divisible by `step`. It will be replaced by [3, 11].\n",
      "\n",
      "\u001b[32m[I 2023-06-11 19:27:52,839]\u001b[0m Trial 94 finished with value: 2.556373564984892 and parameters: {'n_estimators': 2400, 'learning_rate': 0.01834097073660114, 'max_depth': 11, 'num_leaves': 55, 'subsample_for_bin': 258000, 'min_child_weight': 0.00016655502199035188, 'min_child_samples': 10}. Best is trial 77 with value: 2.4853643886087364.\u001b[0m\n",
      "/Users/nadiiapoliakovska/opt/anaconda3/lib/python3.8/site-packages/optuna/distributions.py:716: UserWarning:\n",
      "\n",
      "The distribution is specified by [3, 12] and step=2, but the range is not divisible by `step`. It will be replaced by [3, 11].\n",
      "\n",
      "\u001b[32m[I 2023-06-11 19:28:04,465]\u001b[0m Trial 95 finished with value: 2.5371466511826597 and parameters: {'n_estimators': 1800, 'learning_rate': 0.030452373190215477, 'max_depth': 11, 'num_leaves': 45, 'subsample_for_bin': 138000, 'min_child_weight': 7.216648065867606e-05, 'min_child_samples': 30}. Best is trial 77 with value: 2.4853643886087364.\u001b[0m\n",
      "/Users/nadiiapoliakovska/opt/anaconda3/lib/python3.8/site-packages/optuna/distributions.py:716: UserWarning:\n",
      "\n",
      "The distribution is specified by [3, 12] and step=2, but the range is not divisible by `step`. It will be replaced by [3, 11].\n",
      "\n",
      "\u001b[32m[I 2023-06-11 19:28:23,228]\u001b[0m Trial 96 finished with value: 2.5918854612405444 and parameters: {'n_estimators': 3200, 'learning_rate': 0.008897631773270544, 'max_depth': 11, 'num_leaves': 35, 'subsample_for_bin': 302000, 'min_child_weight': 2.3011706519267722e-05, 'min_child_samples': 60}. Best is trial 77 with value: 2.4853643886087364.\u001b[0m\n",
      "/Users/nadiiapoliakovska/opt/anaconda3/lib/python3.8/site-packages/optuna/distributions.py:716: UserWarning:\n",
      "\n",
      "The distribution is specified by [3, 12] and step=2, but the range is not divisible by `step`. It will be replaced by [3, 11].\n",
      "\n",
      "\u001b[32m[I 2023-06-11 19:28:52,699]\u001b[0m Trial 97 finished with value: 2.6081665946170243 and parameters: {'n_estimators': 5000, 'learning_rate': 0.053329842395884466, 'max_depth': 11, 'num_leaves': 40, 'subsample_for_bin': 167000, 'min_child_weight': 9.614546024891713e-05, 'min_child_samples': 20}. Best is trial 77 with value: 2.4853643886087364.\u001b[0m\n"
     ]
    },
    {
     "name": "stderr",
     "output_type": "stream",
     "text": [
      "/Users/nadiiapoliakovska/opt/anaconda3/lib/python3.8/site-packages/optuna/distributions.py:716: UserWarning:\n",
      "\n",
      "The distribution is specified by [3, 12] and step=2, but the range is not divisible by `step`. It will be replaced by [3, 11].\n",
      "\n",
      "\u001b[32m[I 2023-06-11 19:29:05,891]\u001b[0m Trial 98 finished with value: 2.526367167175258 and parameters: {'n_estimators': 1400, 'learning_rate': 0.00591349404560168, 'max_depth': 11, 'num_leaves': 55, 'subsample_for_bin': 247000, 'min_child_weight': 0.0001310786984808765, 'min_child_samples': 70}. Best is trial 77 with value: 2.4853643886087364.\u001b[0m\n",
      "/Users/nadiiapoliakovska/opt/anaconda3/lib/python3.8/site-packages/optuna/distributions.py:716: UserWarning:\n",
      "\n",
      "The distribution is specified by [3, 12] and step=2, but the range is not divisible by `step`. It will be replaced by [3, 11].\n",
      "\n",
      "\u001b[32m[I 2023-06-11 19:29:26,514]\u001b[0m Trial 99 finished with value: 2.6007106400194533 and parameters: {'n_estimators': 2800, 'learning_rate': 0.0022980642172040562, 'max_depth': 11, 'num_leaves': 30, 'subsample_for_bin': 274000, 'min_child_weight': 3.0277844555939084e-05, 'min_child_samples': 30}. Best is trial 77 with value: 2.4853643886087364.\u001b[0m\n"
     ]
    }
   ],
   "source": [
    "def objective(trial, xtrain, ytrain, xtest):\n",
    "    params = {\n",
    "        \"n_estimators\": trial.suggest_int(\"n_estimators\", 1000, 10000, step=200),\n",
    "        \"learning_rate\": trial.suggest_float(\"learning_rate\", 1e-7, 0.3, log=True),\n",
    "        \"max_depth\": trial.suggest_int(\"max_depth\", 3, 12, step=2),\n",
    "        \"num_leaves\": trial.suggest_int(\"num_leaves\", 20, 100, step=5),\n",
    "        \"subsample_for_bin\": trial.suggest_int(\"subsample_for_bin\", 10000, 500000, step=1000),\n",
    "        \"min_child_weight\": trial.suggest_float(\"min_child_weight\", 1e-5, 0.3, log = True),\n",
    "        \"min_child_samples\": trial.suggest_int(\"min_child_samples\", 10, 100, step=10)\n",
    "    }\n",
    "    model = LGBMRegressor(**params)\n",
    "    model.fit(xtrain,ytrain)\n",
    "    preds = model.predict(xtest)\n",
    "    score = rmse(test_df.online_hours.tolist(),preds)\n",
    "    return score\n",
    "\n",
    "func = lambda trial: objective(trial, xtrain, ytrain, xtest)\n",
    "# Pass func to Optuna studies\n",
    "study = optuna.create_study(direction='minimize')\n",
    "study.optimize(func, n_trials=100)"
   ]
  },
  {
   "cell_type": "code",
   "execution_count": 59,
   "metadata": {},
   "outputs": [
    {
     "name": "stdout",
     "output_type": "stream",
     "text": [
      "Best value: 2.4853643886087364 (params: {'n_estimators': 2200, 'learning_rate': 0.013645872924300499, 'max_depth': 11, 'num_leaves': 50, 'subsample_for_bin': 273000, 'min_child_weight': 8.245740340142923e-05, 'min_child_samples': 30})\n"
     ]
    }
   ],
   "source": [
    "print(f\"Best value: {study.best_value} (params: {study.best_params})\")"
   ]
  },
  {
   "cell_type": "code",
   "execution_count": 60,
   "metadata": {},
   "outputs": [
    {
     "name": "stdout",
     "output_type": "stream",
     "text": [
      "Best params:  {'n_estimators': 2200, 'learning_rate': 0.013645872924300499, 'max_depth': 11, 'num_leaves': 50, 'subsample_for_bin': 273000, 'min_child_weight': 8.245740340142923e-05, 'min_child_samples': 30}\n",
      "Best value:  2.4853643886087364\n",
      "Best Trial:  FrozenTrial(number=77, state=TrialState.COMPLETE, values=[2.4853643886087364], datetime_start=datetime.datetime(2023, 6, 11, 19, 23, 42, 846794), datetime_complete=datetime.datetime(2023, 6, 11, 19, 23, 59, 131348), params={'n_estimators': 2200, 'learning_rate': 0.013645872924300499, 'max_depth': 11, 'num_leaves': 50, 'subsample_for_bin': 273000, 'min_child_weight': 8.245740340142923e-05, 'min_child_samples': 30}, user_attrs={}, system_attrs={}, intermediate_values={}, distributions={'n_estimators': IntDistribution(high=10000, log=False, low=1000, step=200), 'learning_rate': FloatDistribution(high=0.3, log=True, low=1e-07, step=None), 'max_depth': IntDistribution(high=11, log=False, low=3, step=2), 'num_leaves': IntDistribution(high=100, log=False, low=20, step=5), 'subsample_for_bin': IntDistribution(high=500000, log=False, low=10000, step=1000), 'min_child_weight': FloatDistribution(high=0.3, log=True, low=1e-05, step=None), 'min_child_samples': IntDistribution(high=100, log=False, low=10, step=10)}, trial_id=77, value=None)\n"
     ]
    }
   ],
   "source": [
    "print(\"Best params: \", study.best_params)\n",
    "print(\"Best value: \", study.best_value)\n",
    "print(\"Best Trial: \", study.best_trial)"
   ]
  },
  {
   "cell_type": "code",
   "execution_count": 61,
   "metadata": {},
   "outputs": [
    {
     "data": {
      "application/vnd.plotly.v1+json": {
       "config": {
        "plotlyServerURL": "https://plot.ly"
       },
       "data": [
        {
         "mode": "markers",
         "name": "Objective Value",
         "type": "scatter",
         "x": [
          0,
          1,
          2,
          3,
          4,
          5,
          6,
          7,
          8,
          9,
          10,
          11,
          12,
          13,
          14,
          15,
          16,
          17,
          18,
          19,
          20,
          21,
          22,
          23,
          24,
          25,
          26,
          27,
          28,
          29,
          30,
          31,
          32,
          33,
          34,
          35,
          36,
          37,
          38,
          39,
          40,
          41,
          42,
          43,
          44,
          45,
          46,
          47,
          48,
          49,
          50,
          51,
          52,
          53,
          54,
          55,
          56,
          57,
          58,
          59,
          60,
          61,
          62,
          63,
          64,
          65,
          66,
          67,
          68,
          69,
          70,
          71,
          72,
          73,
          74,
          75,
          76,
          77,
          78,
          79,
          80,
          81,
          82,
          83,
          84,
          85,
          86,
          87,
          88,
          89,
          90,
          91,
          92,
          93,
          94,
          95,
          96,
          97,
          98,
          99
         ],
         "y": [
          2.59645557654072,
          2.6630611270992666,
          3.3541829433655344,
          3.3823912779549024,
          2.7743942750077686,
          3.3745352902463353,
          3.379314206485647,
          2.6807547456654355,
          3.3811946670250466,
          2.879469939985189,
          2.9852709573704046,
          2.5937872624505234,
          2.6790986135408676,
          2.9342205434429696,
          2.563996888629851,
          2.829810114569376,
          2.6596781716838294,
          2.8144144693905275,
          2.550623342155287,
          2.638181818946121,
          2.5567069794834367,
          2.560504392009435,
          2.5522433068981876,
          2.924938495197522,
          2.686538529554838,
          3.167091800884203,
          2.606882708581388,
          2.9233898044360696,
          2.577638613232862,
          2.7028809922802006,
          2.565808664755652,
          2.5579905503525944,
          2.596456919049188,
          2.55562935668249,
          2.6113368081608175,
          2.940662498550633,
          2.546589861296679,
          2.639877497323686,
          2.570915340596179,
          3.160420559674507,
          2.810618696355379,
          2.568128045691379,
          2.727028764928827,
          2.5296436393446364,
          2.5572576405736624,
          2.576995908465704,
          2.5709414767685907,
          2.5604006735346005,
          2.654291021500747,
          2.5525909905957103,
          2.6696038041039545,
          2.5454155199067876,
          2.5663174565043816,
          2.5609337238349528,
          2.614757040239064,
          2.55850894752089,
          2.538982560573718,
          2.658741379602477,
          2.5193607295260927,
          2.5264363258291094,
          2.51593827049965,
          2.5206183448147987,
          2.547723647580195,
          2.5267084219260725,
          2.5538387091150563,
          2.52578761359891,
          2.518295464885459,
          2.542868644610051,
          2.5383664304299036,
          2.5295949811905105,
          2.5166308554140344,
          2.643302311956087,
          2.5181444170014373,
          2.814705352534965,
          2.5413075446005875,
          2.528471889605377,
          2.609911484343291,
          2.4853643886087364,
          2.518492128434692,
          2.505616715909011,
          2.555990508850801,
          2.5502345343309942,
          2.514035367387984,
          2.562145024191766,
          2.6019541477099137,
          2.547381058811147,
          2.6159384194431716,
          2.574600604520596,
          2.565767832296913,
          2.5779527437706147,
          2.656021643618584,
          2.5335394884993687,
          2.6205878055726926,
          2.5503408972292574,
          2.556373564984892,
          2.5371466511826597,
          2.5918854612405444,
          2.6081665946170243,
          2.526367167175258,
          2.6007106400194533
         ]
        },
        {
         "name": "Best Value",
         "type": "scatter",
         "x": [
          0,
          1,
          2,
          3,
          4,
          5,
          6,
          7,
          8,
          9,
          10,
          11,
          12,
          13,
          14,
          15,
          16,
          17,
          18,
          19,
          20,
          21,
          22,
          23,
          24,
          25,
          26,
          27,
          28,
          29,
          30,
          31,
          32,
          33,
          34,
          35,
          36,
          37,
          38,
          39,
          40,
          41,
          42,
          43,
          44,
          45,
          46,
          47,
          48,
          49,
          50,
          51,
          52,
          53,
          54,
          55,
          56,
          57,
          58,
          59,
          60,
          61,
          62,
          63,
          64,
          65,
          66,
          67,
          68,
          69,
          70,
          71,
          72,
          73,
          74,
          75,
          76,
          77,
          78,
          79,
          80,
          81,
          82,
          83,
          84,
          85,
          86,
          87,
          88,
          89,
          90,
          91,
          92,
          93,
          94,
          95,
          96,
          97,
          98,
          99
         ],
         "y": [
          2.59645557654072,
          2.59645557654072,
          2.59645557654072,
          2.59645557654072,
          2.59645557654072,
          2.59645557654072,
          2.59645557654072,
          2.59645557654072,
          2.59645557654072,
          2.59645557654072,
          2.59645557654072,
          2.5937872624505234,
          2.5937872624505234,
          2.5937872624505234,
          2.563996888629851,
          2.563996888629851,
          2.563996888629851,
          2.563996888629851,
          2.550623342155287,
          2.550623342155287,
          2.550623342155287,
          2.550623342155287,
          2.550623342155287,
          2.550623342155287,
          2.550623342155287,
          2.550623342155287,
          2.550623342155287,
          2.550623342155287,
          2.550623342155287,
          2.550623342155287,
          2.550623342155287,
          2.550623342155287,
          2.550623342155287,
          2.550623342155287,
          2.550623342155287,
          2.550623342155287,
          2.546589861296679,
          2.546589861296679,
          2.546589861296679,
          2.546589861296679,
          2.546589861296679,
          2.546589861296679,
          2.546589861296679,
          2.5296436393446364,
          2.5296436393446364,
          2.5296436393446364,
          2.5296436393446364,
          2.5296436393446364,
          2.5296436393446364,
          2.5296436393446364,
          2.5296436393446364,
          2.5296436393446364,
          2.5296436393446364,
          2.5296436393446364,
          2.5296436393446364,
          2.5296436393446364,
          2.5296436393446364,
          2.5296436393446364,
          2.5193607295260927,
          2.5193607295260927,
          2.51593827049965,
          2.51593827049965,
          2.51593827049965,
          2.51593827049965,
          2.51593827049965,
          2.51593827049965,
          2.51593827049965,
          2.51593827049965,
          2.51593827049965,
          2.51593827049965,
          2.51593827049965,
          2.51593827049965,
          2.51593827049965,
          2.51593827049965,
          2.51593827049965,
          2.51593827049965,
          2.51593827049965,
          2.4853643886087364,
          2.4853643886087364,
          2.4853643886087364,
          2.4853643886087364,
          2.4853643886087364,
          2.4853643886087364,
          2.4853643886087364,
          2.4853643886087364,
          2.4853643886087364,
          2.4853643886087364,
          2.4853643886087364,
          2.4853643886087364,
          2.4853643886087364,
          2.4853643886087364,
          2.4853643886087364,
          2.4853643886087364,
          2.4853643886087364,
          2.4853643886087364,
          2.4853643886087364,
          2.4853643886087364,
          2.4853643886087364,
          2.4853643886087364,
          2.4853643886087364
         ]
        }
       ],
       "layout": {
        "template": {
         "data": {
          "bar": [
           {
            "error_x": {
             "color": "#2a3f5f"
            },
            "error_y": {
             "color": "#2a3f5f"
            },
            "marker": {
             "line": {
              "color": "#E5ECF6",
              "width": 0.5
             },
             "pattern": {
              "fillmode": "overlay",
              "size": 10,
              "solidity": 0.2
             }
            },
            "type": "bar"
           }
          ],
          "barpolar": [
           {
            "marker": {
             "line": {
              "color": "#E5ECF6",
              "width": 0.5
             },
             "pattern": {
              "fillmode": "overlay",
              "size": 10,
              "solidity": 0.2
             }
            },
            "type": "barpolar"
           }
          ],
          "carpet": [
           {
            "aaxis": {
             "endlinecolor": "#2a3f5f",
             "gridcolor": "white",
             "linecolor": "white",
             "minorgridcolor": "white",
             "startlinecolor": "#2a3f5f"
            },
            "baxis": {
             "endlinecolor": "#2a3f5f",
             "gridcolor": "white",
             "linecolor": "white",
             "minorgridcolor": "white",
             "startlinecolor": "#2a3f5f"
            },
            "type": "carpet"
           }
          ],
          "choropleth": [
           {
            "colorbar": {
             "outlinewidth": 0,
             "ticks": ""
            },
            "type": "choropleth"
           }
          ],
          "contour": [
           {
            "colorbar": {
             "outlinewidth": 0,
             "ticks": ""
            },
            "colorscale": [
             [
              0,
              "#0d0887"
             ],
             [
              0.1111111111111111,
              "#46039f"
             ],
             [
              0.2222222222222222,
              "#7201a8"
             ],
             [
              0.3333333333333333,
              "#9c179e"
             ],
             [
              0.4444444444444444,
              "#bd3786"
             ],
             [
              0.5555555555555556,
              "#d8576b"
             ],
             [
              0.6666666666666666,
              "#ed7953"
             ],
             [
              0.7777777777777778,
              "#fb9f3a"
             ],
             [
              0.8888888888888888,
              "#fdca26"
             ],
             [
              1,
              "#f0f921"
             ]
            ],
            "type": "contour"
           }
          ],
          "contourcarpet": [
           {
            "colorbar": {
             "outlinewidth": 0,
             "ticks": ""
            },
            "type": "contourcarpet"
           }
          ],
          "heatmap": [
           {
            "colorbar": {
             "outlinewidth": 0,
             "ticks": ""
            },
            "colorscale": [
             [
              0,
              "#0d0887"
             ],
             [
              0.1111111111111111,
              "#46039f"
             ],
             [
              0.2222222222222222,
              "#7201a8"
             ],
             [
              0.3333333333333333,
              "#9c179e"
             ],
             [
              0.4444444444444444,
              "#bd3786"
             ],
             [
              0.5555555555555556,
              "#d8576b"
             ],
             [
              0.6666666666666666,
              "#ed7953"
             ],
             [
              0.7777777777777778,
              "#fb9f3a"
             ],
             [
              0.8888888888888888,
              "#fdca26"
             ],
             [
              1,
              "#f0f921"
             ]
            ],
            "type": "heatmap"
           }
          ],
          "heatmapgl": [
           {
            "colorbar": {
             "outlinewidth": 0,
             "ticks": ""
            },
            "colorscale": [
             [
              0,
              "#0d0887"
             ],
             [
              0.1111111111111111,
              "#46039f"
             ],
             [
              0.2222222222222222,
              "#7201a8"
             ],
             [
              0.3333333333333333,
              "#9c179e"
             ],
             [
              0.4444444444444444,
              "#bd3786"
             ],
             [
              0.5555555555555556,
              "#d8576b"
             ],
             [
              0.6666666666666666,
              "#ed7953"
             ],
             [
              0.7777777777777778,
              "#fb9f3a"
             ],
             [
              0.8888888888888888,
              "#fdca26"
             ],
             [
              1,
              "#f0f921"
             ]
            ],
            "type": "heatmapgl"
           }
          ],
          "histogram": [
           {
            "marker": {
             "pattern": {
              "fillmode": "overlay",
              "size": 10,
              "solidity": 0.2
             }
            },
            "type": "histogram"
           }
          ],
          "histogram2d": [
           {
            "colorbar": {
             "outlinewidth": 0,
             "ticks": ""
            },
            "colorscale": [
             [
              0,
              "#0d0887"
             ],
             [
              0.1111111111111111,
              "#46039f"
             ],
             [
              0.2222222222222222,
              "#7201a8"
             ],
             [
              0.3333333333333333,
              "#9c179e"
             ],
             [
              0.4444444444444444,
              "#bd3786"
             ],
             [
              0.5555555555555556,
              "#d8576b"
             ],
             [
              0.6666666666666666,
              "#ed7953"
             ],
             [
              0.7777777777777778,
              "#fb9f3a"
             ],
             [
              0.8888888888888888,
              "#fdca26"
             ],
             [
              1,
              "#f0f921"
             ]
            ],
            "type": "histogram2d"
           }
          ],
          "histogram2dcontour": [
           {
            "colorbar": {
             "outlinewidth": 0,
             "ticks": ""
            },
            "colorscale": [
             [
              0,
              "#0d0887"
             ],
             [
              0.1111111111111111,
              "#46039f"
             ],
             [
              0.2222222222222222,
              "#7201a8"
             ],
             [
              0.3333333333333333,
              "#9c179e"
             ],
             [
              0.4444444444444444,
              "#bd3786"
             ],
             [
              0.5555555555555556,
              "#d8576b"
             ],
             [
              0.6666666666666666,
              "#ed7953"
             ],
             [
              0.7777777777777778,
              "#fb9f3a"
             ],
             [
              0.8888888888888888,
              "#fdca26"
             ],
             [
              1,
              "#f0f921"
             ]
            ],
            "type": "histogram2dcontour"
           }
          ],
          "mesh3d": [
           {
            "colorbar": {
             "outlinewidth": 0,
             "ticks": ""
            },
            "type": "mesh3d"
           }
          ],
          "parcoords": [
           {
            "line": {
             "colorbar": {
              "outlinewidth": 0,
              "ticks": ""
             }
            },
            "type": "parcoords"
           }
          ],
          "pie": [
           {
            "automargin": true,
            "type": "pie"
           }
          ],
          "scatter": [
           {
            "fillpattern": {
             "fillmode": "overlay",
             "size": 10,
             "solidity": 0.2
            },
            "type": "scatter"
           }
          ],
          "scatter3d": [
           {
            "line": {
             "colorbar": {
              "outlinewidth": 0,
              "ticks": ""
             }
            },
            "marker": {
             "colorbar": {
              "outlinewidth": 0,
              "ticks": ""
             }
            },
            "type": "scatter3d"
           }
          ],
          "scattercarpet": [
           {
            "marker": {
             "colorbar": {
              "outlinewidth": 0,
              "ticks": ""
             }
            },
            "type": "scattercarpet"
           }
          ],
          "scattergeo": [
           {
            "marker": {
             "colorbar": {
              "outlinewidth": 0,
              "ticks": ""
             }
            },
            "type": "scattergeo"
           }
          ],
          "scattergl": [
           {
            "marker": {
             "colorbar": {
              "outlinewidth": 0,
              "ticks": ""
             }
            },
            "type": "scattergl"
           }
          ],
          "scattermapbox": [
           {
            "marker": {
             "colorbar": {
              "outlinewidth": 0,
              "ticks": ""
             }
            },
            "type": "scattermapbox"
           }
          ],
          "scatterpolar": [
           {
            "marker": {
             "colorbar": {
              "outlinewidth": 0,
              "ticks": ""
             }
            },
            "type": "scatterpolar"
           }
          ],
          "scatterpolargl": [
           {
            "marker": {
             "colorbar": {
              "outlinewidth": 0,
              "ticks": ""
             }
            },
            "type": "scatterpolargl"
           }
          ],
          "scatterternary": [
           {
            "marker": {
             "colorbar": {
              "outlinewidth": 0,
              "ticks": ""
             }
            },
            "type": "scatterternary"
           }
          ],
          "surface": [
           {
            "colorbar": {
             "outlinewidth": 0,
             "ticks": ""
            },
            "colorscale": [
             [
              0,
              "#0d0887"
             ],
             [
              0.1111111111111111,
              "#46039f"
             ],
             [
              0.2222222222222222,
              "#7201a8"
             ],
             [
              0.3333333333333333,
              "#9c179e"
             ],
             [
              0.4444444444444444,
              "#bd3786"
             ],
             [
              0.5555555555555556,
              "#d8576b"
             ],
             [
              0.6666666666666666,
              "#ed7953"
             ],
             [
              0.7777777777777778,
              "#fb9f3a"
             ],
             [
              0.8888888888888888,
              "#fdca26"
             ],
             [
              1,
              "#f0f921"
             ]
            ],
            "type": "surface"
           }
          ],
          "table": [
           {
            "cells": {
             "fill": {
              "color": "#EBF0F8"
             },
             "line": {
              "color": "white"
             }
            },
            "header": {
             "fill": {
              "color": "#C8D4E3"
             },
             "line": {
              "color": "white"
             }
            },
            "type": "table"
           }
          ]
         },
         "layout": {
          "annotationdefaults": {
           "arrowcolor": "#2a3f5f",
           "arrowhead": 0,
           "arrowwidth": 1
          },
          "autotypenumbers": "strict",
          "coloraxis": {
           "colorbar": {
            "outlinewidth": 0,
            "ticks": ""
           }
          },
          "colorscale": {
           "diverging": [
            [
             0,
             "#8e0152"
            ],
            [
             0.1,
             "#c51b7d"
            ],
            [
             0.2,
             "#de77ae"
            ],
            [
             0.3,
             "#f1b6da"
            ],
            [
             0.4,
             "#fde0ef"
            ],
            [
             0.5,
             "#f7f7f7"
            ],
            [
             0.6,
             "#e6f5d0"
            ],
            [
             0.7,
             "#b8e186"
            ],
            [
             0.8,
             "#7fbc41"
            ],
            [
             0.9,
             "#4d9221"
            ],
            [
             1,
             "#276419"
            ]
           ],
           "sequential": [
            [
             0,
             "#0d0887"
            ],
            [
             0.1111111111111111,
             "#46039f"
            ],
            [
             0.2222222222222222,
             "#7201a8"
            ],
            [
             0.3333333333333333,
             "#9c179e"
            ],
            [
             0.4444444444444444,
             "#bd3786"
            ],
            [
             0.5555555555555556,
             "#d8576b"
            ],
            [
             0.6666666666666666,
             "#ed7953"
            ],
            [
             0.7777777777777778,
             "#fb9f3a"
            ],
            [
             0.8888888888888888,
             "#fdca26"
            ],
            [
             1,
             "#f0f921"
            ]
           ],
           "sequentialminus": [
            [
             0,
             "#0d0887"
            ],
            [
             0.1111111111111111,
             "#46039f"
            ],
            [
             0.2222222222222222,
             "#7201a8"
            ],
            [
             0.3333333333333333,
             "#9c179e"
            ],
            [
             0.4444444444444444,
             "#bd3786"
            ],
            [
             0.5555555555555556,
             "#d8576b"
            ],
            [
             0.6666666666666666,
             "#ed7953"
            ],
            [
             0.7777777777777778,
             "#fb9f3a"
            ],
            [
             0.8888888888888888,
             "#fdca26"
            ],
            [
             1,
             "#f0f921"
            ]
           ]
          },
          "colorway": [
           "#636efa",
           "#EF553B",
           "#00cc96",
           "#ab63fa",
           "#FFA15A",
           "#19d3f3",
           "#FF6692",
           "#B6E880",
           "#FF97FF",
           "#FECB52"
          ],
          "font": {
           "color": "#2a3f5f"
          },
          "geo": {
           "bgcolor": "white",
           "lakecolor": "white",
           "landcolor": "#E5ECF6",
           "showlakes": true,
           "showland": true,
           "subunitcolor": "white"
          },
          "hoverlabel": {
           "align": "left"
          },
          "hovermode": "closest",
          "mapbox": {
           "style": "light"
          },
          "paper_bgcolor": "white",
          "plot_bgcolor": "#E5ECF6",
          "polar": {
           "angularaxis": {
            "gridcolor": "white",
            "linecolor": "white",
            "ticks": ""
           },
           "bgcolor": "#E5ECF6",
           "radialaxis": {
            "gridcolor": "white",
            "linecolor": "white",
            "ticks": ""
           }
          },
          "scene": {
           "xaxis": {
            "backgroundcolor": "#E5ECF6",
            "gridcolor": "white",
            "gridwidth": 2,
            "linecolor": "white",
            "showbackground": true,
            "ticks": "",
            "zerolinecolor": "white"
           },
           "yaxis": {
            "backgroundcolor": "#E5ECF6",
            "gridcolor": "white",
            "gridwidth": 2,
            "linecolor": "white",
            "showbackground": true,
            "ticks": "",
            "zerolinecolor": "white"
           },
           "zaxis": {
            "backgroundcolor": "#E5ECF6",
            "gridcolor": "white",
            "gridwidth": 2,
            "linecolor": "white",
            "showbackground": true,
            "ticks": "",
            "zerolinecolor": "white"
           }
          },
          "shapedefaults": {
           "line": {
            "color": "#2a3f5f"
           }
          },
          "ternary": {
           "aaxis": {
            "gridcolor": "white",
            "linecolor": "white",
            "ticks": ""
           },
           "baxis": {
            "gridcolor": "white",
            "linecolor": "white",
            "ticks": ""
           },
           "bgcolor": "#E5ECF6",
           "caxis": {
            "gridcolor": "white",
            "linecolor": "white",
            "ticks": ""
           }
          },
          "title": {
           "x": 0.05
          },
          "xaxis": {
           "automargin": true,
           "gridcolor": "white",
           "linecolor": "white",
           "ticks": "",
           "title": {
            "standoff": 15
           },
           "zerolinecolor": "white",
           "zerolinewidth": 2
          },
          "yaxis": {
           "automargin": true,
           "gridcolor": "white",
           "linecolor": "white",
           "ticks": "",
           "title": {
            "standoff": 15
           },
           "zerolinecolor": "white",
           "zerolinewidth": 2
          }
         }
        },
        "title": {
         "text": "Optimization History Plot"
        },
        "xaxis": {
         "title": {
          "text": "Trial"
         }
        },
        "yaxis": {
         "title": {
          "text": "Objective Value"
         }
        }
       }
      },
      "text/html": [
       "<div>                            <div id=\"b6bf6bc7-7add-4483-bd14-2254aae4fe72\" class=\"plotly-graph-div\" style=\"height:525px; width:100%;\"></div>            <script type=\"text/javascript\">                require([\"plotly\"], function(Plotly) {                    window.PLOTLYENV=window.PLOTLYENV || {};                                    if (document.getElementById(\"b6bf6bc7-7add-4483-bd14-2254aae4fe72\")) {                    Plotly.newPlot(                        \"b6bf6bc7-7add-4483-bd14-2254aae4fe72\",                        [{\"mode\":\"markers\",\"name\":\"Objective Value\",\"x\":[0,1,2,3,4,5,6,7,8,9,10,11,12,13,14,15,16,17,18,19,20,21,22,23,24,25,26,27,28,29,30,31,32,33,34,35,36,37,38,39,40,41,42,43,44,45,46,47,48,49,50,51,52,53,54,55,56,57,58,59,60,61,62,63,64,65,66,67,68,69,70,71,72,73,74,75,76,77,78,79,80,81,82,83,84,85,86,87,88,89,90,91,92,93,94,95,96,97,98,99],\"y\":[2.59645557654072,2.6630611270992666,3.3541829433655344,3.3823912779549024,2.7743942750077686,3.3745352902463353,3.379314206485647,2.6807547456654355,3.3811946670250466,2.879469939985189,2.9852709573704046,2.5937872624505234,2.6790986135408676,2.9342205434429696,2.563996888629851,2.829810114569376,2.6596781716838294,2.8144144693905275,2.550623342155287,2.638181818946121,2.5567069794834367,2.560504392009435,2.5522433068981876,2.924938495197522,2.686538529554838,3.167091800884203,2.606882708581388,2.9233898044360696,2.577638613232862,2.7028809922802006,2.565808664755652,2.5579905503525944,2.596456919049188,2.55562935668249,2.6113368081608175,2.940662498550633,2.546589861296679,2.639877497323686,2.570915340596179,3.160420559674507,2.810618696355379,2.568128045691379,2.727028764928827,2.5296436393446364,2.5572576405736624,2.576995908465704,2.5709414767685907,2.5604006735346005,2.654291021500747,2.5525909905957103,2.6696038041039545,2.5454155199067876,2.5663174565043816,2.5609337238349528,2.614757040239064,2.55850894752089,2.538982560573718,2.658741379602477,2.5193607295260927,2.5264363258291094,2.51593827049965,2.5206183448147987,2.547723647580195,2.5267084219260725,2.5538387091150563,2.52578761359891,2.518295464885459,2.542868644610051,2.5383664304299036,2.5295949811905105,2.5166308554140344,2.643302311956087,2.5181444170014373,2.814705352534965,2.5413075446005875,2.528471889605377,2.609911484343291,2.4853643886087364,2.518492128434692,2.505616715909011,2.555990508850801,2.5502345343309942,2.514035367387984,2.562145024191766,2.6019541477099137,2.547381058811147,2.6159384194431716,2.574600604520596,2.565767832296913,2.5779527437706147,2.656021643618584,2.5335394884993687,2.6205878055726926,2.5503408972292574,2.556373564984892,2.5371466511826597,2.5918854612405444,2.6081665946170243,2.526367167175258,2.6007106400194533],\"type\":\"scatter\"},{\"name\":\"Best Value\",\"x\":[0,1,2,3,4,5,6,7,8,9,10,11,12,13,14,15,16,17,18,19,20,21,22,23,24,25,26,27,28,29,30,31,32,33,34,35,36,37,38,39,40,41,42,43,44,45,46,47,48,49,50,51,52,53,54,55,56,57,58,59,60,61,62,63,64,65,66,67,68,69,70,71,72,73,74,75,76,77,78,79,80,81,82,83,84,85,86,87,88,89,90,91,92,93,94,95,96,97,98,99],\"y\":[2.59645557654072,2.59645557654072,2.59645557654072,2.59645557654072,2.59645557654072,2.59645557654072,2.59645557654072,2.59645557654072,2.59645557654072,2.59645557654072,2.59645557654072,2.5937872624505234,2.5937872624505234,2.5937872624505234,2.563996888629851,2.563996888629851,2.563996888629851,2.563996888629851,2.550623342155287,2.550623342155287,2.550623342155287,2.550623342155287,2.550623342155287,2.550623342155287,2.550623342155287,2.550623342155287,2.550623342155287,2.550623342155287,2.550623342155287,2.550623342155287,2.550623342155287,2.550623342155287,2.550623342155287,2.550623342155287,2.550623342155287,2.550623342155287,2.546589861296679,2.546589861296679,2.546589861296679,2.546589861296679,2.546589861296679,2.546589861296679,2.546589861296679,2.5296436393446364,2.5296436393446364,2.5296436393446364,2.5296436393446364,2.5296436393446364,2.5296436393446364,2.5296436393446364,2.5296436393446364,2.5296436393446364,2.5296436393446364,2.5296436393446364,2.5296436393446364,2.5296436393446364,2.5296436393446364,2.5296436393446364,2.5193607295260927,2.5193607295260927,2.51593827049965,2.51593827049965,2.51593827049965,2.51593827049965,2.51593827049965,2.51593827049965,2.51593827049965,2.51593827049965,2.51593827049965,2.51593827049965,2.51593827049965,2.51593827049965,2.51593827049965,2.51593827049965,2.51593827049965,2.51593827049965,2.51593827049965,2.4853643886087364,2.4853643886087364,2.4853643886087364,2.4853643886087364,2.4853643886087364,2.4853643886087364,2.4853643886087364,2.4853643886087364,2.4853643886087364,2.4853643886087364,2.4853643886087364,2.4853643886087364,2.4853643886087364,2.4853643886087364,2.4853643886087364,2.4853643886087364,2.4853643886087364,2.4853643886087364,2.4853643886087364,2.4853643886087364,2.4853643886087364,2.4853643886087364,2.4853643886087364],\"type\":\"scatter\"}],                        {\"title\":{\"text\":\"Optimization History Plot\"},\"xaxis\":{\"title\":{\"text\":\"Trial\"}},\"yaxis\":{\"title\":{\"text\":\"Objective Value\"}},\"template\":{\"data\":{\"histogram2dcontour\":[{\"type\":\"histogram2dcontour\",\"colorbar\":{\"outlinewidth\":0,\"ticks\":\"\"},\"colorscale\":[[0.0,\"#0d0887\"],[0.1111111111111111,\"#46039f\"],[0.2222222222222222,\"#7201a8\"],[0.3333333333333333,\"#9c179e\"],[0.4444444444444444,\"#bd3786\"],[0.5555555555555556,\"#d8576b\"],[0.6666666666666666,\"#ed7953\"],[0.7777777777777778,\"#fb9f3a\"],[0.8888888888888888,\"#fdca26\"],[1.0,\"#f0f921\"]]}],\"choropleth\":[{\"type\":\"choropleth\",\"colorbar\":{\"outlinewidth\":0,\"ticks\":\"\"}}],\"histogram2d\":[{\"type\":\"histogram2d\",\"colorbar\":{\"outlinewidth\":0,\"ticks\":\"\"},\"colorscale\":[[0.0,\"#0d0887\"],[0.1111111111111111,\"#46039f\"],[0.2222222222222222,\"#7201a8\"],[0.3333333333333333,\"#9c179e\"],[0.4444444444444444,\"#bd3786\"],[0.5555555555555556,\"#d8576b\"],[0.6666666666666666,\"#ed7953\"],[0.7777777777777778,\"#fb9f3a\"],[0.8888888888888888,\"#fdca26\"],[1.0,\"#f0f921\"]]}],\"heatmap\":[{\"type\":\"heatmap\",\"colorbar\":{\"outlinewidth\":0,\"ticks\":\"\"},\"colorscale\":[[0.0,\"#0d0887\"],[0.1111111111111111,\"#46039f\"],[0.2222222222222222,\"#7201a8\"],[0.3333333333333333,\"#9c179e\"],[0.4444444444444444,\"#bd3786\"],[0.5555555555555556,\"#d8576b\"],[0.6666666666666666,\"#ed7953\"],[0.7777777777777778,\"#fb9f3a\"],[0.8888888888888888,\"#fdca26\"],[1.0,\"#f0f921\"]]}],\"heatmapgl\":[{\"type\":\"heatmapgl\",\"colorbar\":{\"outlinewidth\":0,\"ticks\":\"\"},\"colorscale\":[[0.0,\"#0d0887\"],[0.1111111111111111,\"#46039f\"],[0.2222222222222222,\"#7201a8\"],[0.3333333333333333,\"#9c179e\"],[0.4444444444444444,\"#bd3786\"],[0.5555555555555556,\"#d8576b\"],[0.6666666666666666,\"#ed7953\"],[0.7777777777777778,\"#fb9f3a\"],[0.8888888888888888,\"#fdca26\"],[1.0,\"#f0f921\"]]}],\"contourcarpet\":[{\"type\":\"contourcarpet\",\"colorbar\":{\"outlinewidth\":0,\"ticks\":\"\"}}],\"contour\":[{\"type\":\"contour\",\"colorbar\":{\"outlinewidth\":0,\"ticks\":\"\"},\"colorscale\":[[0.0,\"#0d0887\"],[0.1111111111111111,\"#46039f\"],[0.2222222222222222,\"#7201a8\"],[0.3333333333333333,\"#9c179e\"],[0.4444444444444444,\"#bd3786\"],[0.5555555555555556,\"#d8576b\"],[0.6666666666666666,\"#ed7953\"],[0.7777777777777778,\"#fb9f3a\"],[0.8888888888888888,\"#fdca26\"],[1.0,\"#f0f921\"]]}],\"surface\":[{\"type\":\"surface\",\"colorbar\":{\"outlinewidth\":0,\"ticks\":\"\"},\"colorscale\":[[0.0,\"#0d0887\"],[0.1111111111111111,\"#46039f\"],[0.2222222222222222,\"#7201a8\"],[0.3333333333333333,\"#9c179e\"],[0.4444444444444444,\"#bd3786\"],[0.5555555555555556,\"#d8576b\"],[0.6666666666666666,\"#ed7953\"],[0.7777777777777778,\"#fb9f3a\"],[0.8888888888888888,\"#fdca26\"],[1.0,\"#f0f921\"]]}],\"mesh3d\":[{\"type\":\"mesh3d\",\"colorbar\":{\"outlinewidth\":0,\"ticks\":\"\"}}],\"scatter\":[{\"fillpattern\":{\"fillmode\":\"overlay\",\"size\":10,\"solidity\":0.2},\"type\":\"scatter\"}],\"parcoords\":[{\"type\":\"parcoords\",\"line\":{\"colorbar\":{\"outlinewidth\":0,\"ticks\":\"\"}}}],\"scatterpolargl\":[{\"type\":\"scatterpolargl\",\"marker\":{\"colorbar\":{\"outlinewidth\":0,\"ticks\":\"\"}}}],\"bar\":[{\"error_x\":{\"color\":\"#2a3f5f\"},\"error_y\":{\"color\":\"#2a3f5f\"},\"marker\":{\"line\":{\"color\":\"#E5ECF6\",\"width\":0.5},\"pattern\":{\"fillmode\":\"overlay\",\"size\":10,\"solidity\":0.2}},\"type\":\"bar\"}],\"scattergeo\":[{\"type\":\"scattergeo\",\"marker\":{\"colorbar\":{\"outlinewidth\":0,\"ticks\":\"\"}}}],\"scatterpolar\":[{\"type\":\"scatterpolar\",\"marker\":{\"colorbar\":{\"outlinewidth\":0,\"ticks\":\"\"}}}],\"histogram\":[{\"marker\":{\"pattern\":{\"fillmode\":\"overlay\",\"size\":10,\"solidity\":0.2}},\"type\":\"histogram\"}],\"scattergl\":[{\"type\":\"scattergl\",\"marker\":{\"colorbar\":{\"outlinewidth\":0,\"ticks\":\"\"}}}],\"scatter3d\":[{\"type\":\"scatter3d\",\"line\":{\"colorbar\":{\"outlinewidth\":0,\"ticks\":\"\"}},\"marker\":{\"colorbar\":{\"outlinewidth\":0,\"ticks\":\"\"}}}],\"scattermapbox\":[{\"type\":\"scattermapbox\",\"marker\":{\"colorbar\":{\"outlinewidth\":0,\"ticks\":\"\"}}}],\"scatterternary\":[{\"type\":\"scatterternary\",\"marker\":{\"colorbar\":{\"outlinewidth\":0,\"ticks\":\"\"}}}],\"scattercarpet\":[{\"type\":\"scattercarpet\",\"marker\":{\"colorbar\":{\"outlinewidth\":0,\"ticks\":\"\"}}}],\"carpet\":[{\"aaxis\":{\"endlinecolor\":\"#2a3f5f\",\"gridcolor\":\"white\",\"linecolor\":\"white\",\"minorgridcolor\":\"white\",\"startlinecolor\":\"#2a3f5f\"},\"baxis\":{\"endlinecolor\":\"#2a3f5f\",\"gridcolor\":\"white\",\"linecolor\":\"white\",\"minorgridcolor\":\"white\",\"startlinecolor\":\"#2a3f5f\"},\"type\":\"carpet\"}],\"table\":[{\"cells\":{\"fill\":{\"color\":\"#EBF0F8\"},\"line\":{\"color\":\"white\"}},\"header\":{\"fill\":{\"color\":\"#C8D4E3\"},\"line\":{\"color\":\"white\"}},\"type\":\"table\"}],\"barpolar\":[{\"marker\":{\"line\":{\"color\":\"#E5ECF6\",\"width\":0.5},\"pattern\":{\"fillmode\":\"overlay\",\"size\":10,\"solidity\":0.2}},\"type\":\"barpolar\"}],\"pie\":[{\"automargin\":true,\"type\":\"pie\"}]},\"layout\":{\"autotypenumbers\":\"strict\",\"colorway\":[\"#636efa\",\"#EF553B\",\"#00cc96\",\"#ab63fa\",\"#FFA15A\",\"#19d3f3\",\"#FF6692\",\"#B6E880\",\"#FF97FF\",\"#FECB52\"],\"font\":{\"color\":\"#2a3f5f\"},\"hovermode\":\"closest\",\"hoverlabel\":{\"align\":\"left\"},\"paper_bgcolor\":\"white\",\"plot_bgcolor\":\"#E5ECF6\",\"polar\":{\"bgcolor\":\"#E5ECF6\",\"angularaxis\":{\"gridcolor\":\"white\",\"linecolor\":\"white\",\"ticks\":\"\"},\"radialaxis\":{\"gridcolor\":\"white\",\"linecolor\":\"white\",\"ticks\":\"\"}},\"ternary\":{\"bgcolor\":\"#E5ECF6\",\"aaxis\":{\"gridcolor\":\"white\",\"linecolor\":\"white\",\"ticks\":\"\"},\"baxis\":{\"gridcolor\":\"white\",\"linecolor\":\"white\",\"ticks\":\"\"},\"caxis\":{\"gridcolor\":\"white\",\"linecolor\":\"white\",\"ticks\":\"\"}},\"coloraxis\":{\"colorbar\":{\"outlinewidth\":0,\"ticks\":\"\"}},\"colorscale\":{\"sequential\":[[0.0,\"#0d0887\"],[0.1111111111111111,\"#46039f\"],[0.2222222222222222,\"#7201a8\"],[0.3333333333333333,\"#9c179e\"],[0.4444444444444444,\"#bd3786\"],[0.5555555555555556,\"#d8576b\"],[0.6666666666666666,\"#ed7953\"],[0.7777777777777778,\"#fb9f3a\"],[0.8888888888888888,\"#fdca26\"],[1.0,\"#f0f921\"]],\"sequentialminus\":[[0.0,\"#0d0887\"],[0.1111111111111111,\"#46039f\"],[0.2222222222222222,\"#7201a8\"],[0.3333333333333333,\"#9c179e\"],[0.4444444444444444,\"#bd3786\"],[0.5555555555555556,\"#d8576b\"],[0.6666666666666666,\"#ed7953\"],[0.7777777777777778,\"#fb9f3a\"],[0.8888888888888888,\"#fdca26\"],[1.0,\"#f0f921\"]],\"diverging\":[[0,\"#8e0152\"],[0.1,\"#c51b7d\"],[0.2,\"#de77ae\"],[0.3,\"#f1b6da\"],[0.4,\"#fde0ef\"],[0.5,\"#f7f7f7\"],[0.6,\"#e6f5d0\"],[0.7,\"#b8e186\"],[0.8,\"#7fbc41\"],[0.9,\"#4d9221\"],[1,\"#276419\"]]},\"xaxis\":{\"gridcolor\":\"white\",\"linecolor\":\"white\",\"ticks\":\"\",\"title\":{\"standoff\":15},\"zerolinecolor\":\"white\",\"automargin\":true,\"zerolinewidth\":2},\"yaxis\":{\"gridcolor\":\"white\",\"linecolor\":\"white\",\"ticks\":\"\",\"title\":{\"standoff\":15},\"zerolinecolor\":\"white\",\"automargin\":true,\"zerolinewidth\":2},\"scene\":{\"xaxis\":{\"backgroundcolor\":\"#E5ECF6\",\"gridcolor\":\"white\",\"linecolor\":\"white\",\"showbackground\":true,\"ticks\":\"\",\"zerolinecolor\":\"white\",\"gridwidth\":2},\"yaxis\":{\"backgroundcolor\":\"#E5ECF6\",\"gridcolor\":\"white\",\"linecolor\":\"white\",\"showbackground\":true,\"ticks\":\"\",\"zerolinecolor\":\"white\",\"gridwidth\":2},\"zaxis\":{\"backgroundcolor\":\"#E5ECF6\",\"gridcolor\":\"white\",\"linecolor\":\"white\",\"showbackground\":true,\"ticks\":\"\",\"zerolinecolor\":\"white\",\"gridwidth\":2}},\"shapedefaults\":{\"line\":{\"color\":\"#2a3f5f\"}},\"annotationdefaults\":{\"arrowcolor\":\"#2a3f5f\",\"arrowhead\":0,\"arrowwidth\":1},\"geo\":{\"bgcolor\":\"white\",\"landcolor\":\"#E5ECF6\",\"subunitcolor\":\"white\",\"showland\":true,\"showlakes\":true,\"lakecolor\":\"white\"},\"title\":{\"x\":0.05},\"mapbox\":{\"style\":\"light\"}}}},                        {\"responsive\": true}                    ).then(function(){\n",
       "                            \n",
       "var gd = document.getElementById('b6bf6bc7-7add-4483-bd14-2254aae4fe72');\n",
       "var x = new MutationObserver(function (mutations, observer) {{\n",
       "        var display = window.getComputedStyle(gd).display;\n",
       "        if (!display || display === 'none') {{\n",
       "            console.log([gd, 'removed!']);\n",
       "            Plotly.purge(gd);\n",
       "            observer.disconnect();\n",
       "        }}\n",
       "}});\n",
       "\n",
       "// Listen for the removal of the full notebook cells\n",
       "var notebookContainer = gd.closest('#notebook-container');\n",
       "if (notebookContainer) {{\n",
       "    x.observe(notebookContainer, {childList: true});\n",
       "}}\n",
       "\n",
       "// Listen for the clearing of the current output cell\n",
       "var outputEl = gd.closest('.output');\n",
       "if (outputEl) {{\n",
       "    x.observe(outputEl, {childList: true});\n",
       "}}\n",
       "\n",
       "                        })                };                });            </script>        </div>"
      ]
     },
     "metadata": {},
     "output_type": "display_data"
    }
   ],
   "source": [
    "import plotly\n",
    "optuna.visualization.plot_optimization_history(study)"
   ]
  },
  {
   "cell_type": "code",
   "execution_count": 62,
   "metadata": {},
   "outputs": [
    {
     "data": {
      "application/vnd.plotly.v1+json": {
       "config": {
        "plotlyServerURL": "https://plot.ly"
       },
       "data": [
        {
         "cliponaxis": false,
         "hovertemplate": [
          "min_child_weight (FloatDistribution): 0.04065779358674469<extra></extra>",
          "num_leaves (IntDistribution): 0.05950601356484232<extra></extra>",
          "n_estimators (IntDistribution): 0.06532260592421267<extra></extra>",
          "subsample_for_bin (IntDistribution): 0.10020152695119473<extra></extra>",
          "min_child_samples (IntDistribution): 0.12195756974596483<extra></extra>",
          "max_depth (IntDistribution): 0.16101807035335186<extra></extra>",
          "learning_rate (FloatDistribution): 0.45133641987368883<extra></extra>"
         ],
         "marker": {
          "color": "rgb(66,146,198)"
         },
         "orientation": "h",
         "text": [
          "0.04",
          "0.06",
          "0.07",
          "0.10",
          "0.12",
          "0.16",
          "0.45"
         ],
         "textposition": "outside",
         "type": "bar",
         "x": [
          0.04065779358674469,
          0.05950601356484232,
          0.06532260592421267,
          0.10020152695119473,
          0.12195756974596483,
          0.16101807035335186,
          0.45133641987368883
         ],
         "y": [
          "min_child_weight",
          "num_leaves",
          "n_estimators",
          "subsample_for_bin",
          "min_child_samples",
          "max_depth",
          "learning_rate"
         ]
        }
       ],
       "layout": {
        "showlegend": false,
        "template": {
         "data": {
          "bar": [
           {
            "error_x": {
             "color": "#2a3f5f"
            },
            "error_y": {
             "color": "#2a3f5f"
            },
            "marker": {
             "line": {
              "color": "#E5ECF6",
              "width": 0.5
             },
             "pattern": {
              "fillmode": "overlay",
              "size": 10,
              "solidity": 0.2
             }
            },
            "type": "bar"
           }
          ],
          "barpolar": [
           {
            "marker": {
             "line": {
              "color": "#E5ECF6",
              "width": 0.5
             },
             "pattern": {
              "fillmode": "overlay",
              "size": 10,
              "solidity": 0.2
             }
            },
            "type": "barpolar"
           }
          ],
          "carpet": [
           {
            "aaxis": {
             "endlinecolor": "#2a3f5f",
             "gridcolor": "white",
             "linecolor": "white",
             "minorgridcolor": "white",
             "startlinecolor": "#2a3f5f"
            },
            "baxis": {
             "endlinecolor": "#2a3f5f",
             "gridcolor": "white",
             "linecolor": "white",
             "minorgridcolor": "white",
             "startlinecolor": "#2a3f5f"
            },
            "type": "carpet"
           }
          ],
          "choropleth": [
           {
            "colorbar": {
             "outlinewidth": 0,
             "ticks": ""
            },
            "type": "choropleth"
           }
          ],
          "contour": [
           {
            "colorbar": {
             "outlinewidth": 0,
             "ticks": ""
            },
            "colorscale": [
             [
              0,
              "#0d0887"
             ],
             [
              0.1111111111111111,
              "#46039f"
             ],
             [
              0.2222222222222222,
              "#7201a8"
             ],
             [
              0.3333333333333333,
              "#9c179e"
             ],
             [
              0.4444444444444444,
              "#bd3786"
             ],
             [
              0.5555555555555556,
              "#d8576b"
             ],
             [
              0.6666666666666666,
              "#ed7953"
             ],
             [
              0.7777777777777778,
              "#fb9f3a"
             ],
             [
              0.8888888888888888,
              "#fdca26"
             ],
             [
              1,
              "#f0f921"
             ]
            ],
            "type": "contour"
           }
          ],
          "contourcarpet": [
           {
            "colorbar": {
             "outlinewidth": 0,
             "ticks": ""
            },
            "type": "contourcarpet"
           }
          ],
          "heatmap": [
           {
            "colorbar": {
             "outlinewidth": 0,
             "ticks": ""
            },
            "colorscale": [
             [
              0,
              "#0d0887"
             ],
             [
              0.1111111111111111,
              "#46039f"
             ],
             [
              0.2222222222222222,
              "#7201a8"
             ],
             [
              0.3333333333333333,
              "#9c179e"
             ],
             [
              0.4444444444444444,
              "#bd3786"
             ],
             [
              0.5555555555555556,
              "#d8576b"
             ],
             [
              0.6666666666666666,
              "#ed7953"
             ],
             [
              0.7777777777777778,
              "#fb9f3a"
             ],
             [
              0.8888888888888888,
              "#fdca26"
             ],
             [
              1,
              "#f0f921"
             ]
            ],
            "type": "heatmap"
           }
          ],
          "heatmapgl": [
           {
            "colorbar": {
             "outlinewidth": 0,
             "ticks": ""
            },
            "colorscale": [
             [
              0,
              "#0d0887"
             ],
             [
              0.1111111111111111,
              "#46039f"
             ],
             [
              0.2222222222222222,
              "#7201a8"
             ],
             [
              0.3333333333333333,
              "#9c179e"
             ],
             [
              0.4444444444444444,
              "#bd3786"
             ],
             [
              0.5555555555555556,
              "#d8576b"
             ],
             [
              0.6666666666666666,
              "#ed7953"
             ],
             [
              0.7777777777777778,
              "#fb9f3a"
             ],
             [
              0.8888888888888888,
              "#fdca26"
             ],
             [
              1,
              "#f0f921"
             ]
            ],
            "type": "heatmapgl"
           }
          ],
          "histogram": [
           {
            "marker": {
             "pattern": {
              "fillmode": "overlay",
              "size": 10,
              "solidity": 0.2
             }
            },
            "type": "histogram"
           }
          ],
          "histogram2d": [
           {
            "colorbar": {
             "outlinewidth": 0,
             "ticks": ""
            },
            "colorscale": [
             [
              0,
              "#0d0887"
             ],
             [
              0.1111111111111111,
              "#46039f"
             ],
             [
              0.2222222222222222,
              "#7201a8"
             ],
             [
              0.3333333333333333,
              "#9c179e"
             ],
             [
              0.4444444444444444,
              "#bd3786"
             ],
             [
              0.5555555555555556,
              "#d8576b"
             ],
             [
              0.6666666666666666,
              "#ed7953"
             ],
             [
              0.7777777777777778,
              "#fb9f3a"
             ],
             [
              0.8888888888888888,
              "#fdca26"
             ],
             [
              1,
              "#f0f921"
             ]
            ],
            "type": "histogram2d"
           }
          ],
          "histogram2dcontour": [
           {
            "colorbar": {
             "outlinewidth": 0,
             "ticks": ""
            },
            "colorscale": [
             [
              0,
              "#0d0887"
             ],
             [
              0.1111111111111111,
              "#46039f"
             ],
             [
              0.2222222222222222,
              "#7201a8"
             ],
             [
              0.3333333333333333,
              "#9c179e"
             ],
             [
              0.4444444444444444,
              "#bd3786"
             ],
             [
              0.5555555555555556,
              "#d8576b"
             ],
             [
              0.6666666666666666,
              "#ed7953"
             ],
             [
              0.7777777777777778,
              "#fb9f3a"
             ],
             [
              0.8888888888888888,
              "#fdca26"
             ],
             [
              1,
              "#f0f921"
             ]
            ],
            "type": "histogram2dcontour"
           }
          ],
          "mesh3d": [
           {
            "colorbar": {
             "outlinewidth": 0,
             "ticks": ""
            },
            "type": "mesh3d"
           }
          ],
          "parcoords": [
           {
            "line": {
             "colorbar": {
              "outlinewidth": 0,
              "ticks": ""
             }
            },
            "type": "parcoords"
           }
          ],
          "pie": [
           {
            "automargin": true,
            "type": "pie"
           }
          ],
          "scatter": [
           {
            "fillpattern": {
             "fillmode": "overlay",
             "size": 10,
             "solidity": 0.2
            },
            "type": "scatter"
           }
          ],
          "scatter3d": [
           {
            "line": {
             "colorbar": {
              "outlinewidth": 0,
              "ticks": ""
             }
            },
            "marker": {
             "colorbar": {
              "outlinewidth": 0,
              "ticks": ""
             }
            },
            "type": "scatter3d"
           }
          ],
          "scattercarpet": [
           {
            "marker": {
             "colorbar": {
              "outlinewidth": 0,
              "ticks": ""
             }
            },
            "type": "scattercarpet"
           }
          ],
          "scattergeo": [
           {
            "marker": {
             "colorbar": {
              "outlinewidth": 0,
              "ticks": ""
             }
            },
            "type": "scattergeo"
           }
          ],
          "scattergl": [
           {
            "marker": {
             "colorbar": {
              "outlinewidth": 0,
              "ticks": ""
             }
            },
            "type": "scattergl"
           }
          ],
          "scattermapbox": [
           {
            "marker": {
             "colorbar": {
              "outlinewidth": 0,
              "ticks": ""
             }
            },
            "type": "scattermapbox"
           }
          ],
          "scatterpolar": [
           {
            "marker": {
             "colorbar": {
              "outlinewidth": 0,
              "ticks": ""
             }
            },
            "type": "scatterpolar"
           }
          ],
          "scatterpolargl": [
           {
            "marker": {
             "colorbar": {
              "outlinewidth": 0,
              "ticks": ""
             }
            },
            "type": "scatterpolargl"
           }
          ],
          "scatterternary": [
           {
            "marker": {
             "colorbar": {
              "outlinewidth": 0,
              "ticks": ""
             }
            },
            "type": "scatterternary"
           }
          ],
          "surface": [
           {
            "colorbar": {
             "outlinewidth": 0,
             "ticks": ""
            },
            "colorscale": [
             [
              0,
              "#0d0887"
             ],
             [
              0.1111111111111111,
              "#46039f"
             ],
             [
              0.2222222222222222,
              "#7201a8"
             ],
             [
              0.3333333333333333,
              "#9c179e"
             ],
             [
              0.4444444444444444,
              "#bd3786"
             ],
             [
              0.5555555555555556,
              "#d8576b"
             ],
             [
              0.6666666666666666,
              "#ed7953"
             ],
             [
              0.7777777777777778,
              "#fb9f3a"
             ],
             [
              0.8888888888888888,
              "#fdca26"
             ],
             [
              1,
              "#f0f921"
             ]
            ],
            "type": "surface"
           }
          ],
          "table": [
           {
            "cells": {
             "fill": {
              "color": "#EBF0F8"
             },
             "line": {
              "color": "white"
             }
            },
            "header": {
             "fill": {
              "color": "#C8D4E3"
             },
             "line": {
              "color": "white"
             }
            },
            "type": "table"
           }
          ]
         },
         "layout": {
          "annotationdefaults": {
           "arrowcolor": "#2a3f5f",
           "arrowhead": 0,
           "arrowwidth": 1
          },
          "autotypenumbers": "strict",
          "coloraxis": {
           "colorbar": {
            "outlinewidth": 0,
            "ticks": ""
           }
          },
          "colorscale": {
           "diverging": [
            [
             0,
             "#8e0152"
            ],
            [
             0.1,
             "#c51b7d"
            ],
            [
             0.2,
             "#de77ae"
            ],
            [
             0.3,
             "#f1b6da"
            ],
            [
             0.4,
             "#fde0ef"
            ],
            [
             0.5,
             "#f7f7f7"
            ],
            [
             0.6,
             "#e6f5d0"
            ],
            [
             0.7,
             "#b8e186"
            ],
            [
             0.8,
             "#7fbc41"
            ],
            [
             0.9,
             "#4d9221"
            ],
            [
             1,
             "#276419"
            ]
           ],
           "sequential": [
            [
             0,
             "#0d0887"
            ],
            [
             0.1111111111111111,
             "#46039f"
            ],
            [
             0.2222222222222222,
             "#7201a8"
            ],
            [
             0.3333333333333333,
             "#9c179e"
            ],
            [
             0.4444444444444444,
             "#bd3786"
            ],
            [
             0.5555555555555556,
             "#d8576b"
            ],
            [
             0.6666666666666666,
             "#ed7953"
            ],
            [
             0.7777777777777778,
             "#fb9f3a"
            ],
            [
             0.8888888888888888,
             "#fdca26"
            ],
            [
             1,
             "#f0f921"
            ]
           ],
           "sequentialminus": [
            [
             0,
             "#0d0887"
            ],
            [
             0.1111111111111111,
             "#46039f"
            ],
            [
             0.2222222222222222,
             "#7201a8"
            ],
            [
             0.3333333333333333,
             "#9c179e"
            ],
            [
             0.4444444444444444,
             "#bd3786"
            ],
            [
             0.5555555555555556,
             "#d8576b"
            ],
            [
             0.6666666666666666,
             "#ed7953"
            ],
            [
             0.7777777777777778,
             "#fb9f3a"
            ],
            [
             0.8888888888888888,
             "#fdca26"
            ],
            [
             1,
             "#f0f921"
            ]
           ]
          },
          "colorway": [
           "#636efa",
           "#EF553B",
           "#00cc96",
           "#ab63fa",
           "#FFA15A",
           "#19d3f3",
           "#FF6692",
           "#B6E880",
           "#FF97FF",
           "#FECB52"
          ],
          "font": {
           "color": "#2a3f5f"
          },
          "geo": {
           "bgcolor": "white",
           "lakecolor": "white",
           "landcolor": "#E5ECF6",
           "showlakes": true,
           "showland": true,
           "subunitcolor": "white"
          },
          "hoverlabel": {
           "align": "left"
          },
          "hovermode": "closest",
          "mapbox": {
           "style": "light"
          },
          "paper_bgcolor": "white",
          "plot_bgcolor": "#E5ECF6",
          "polar": {
           "angularaxis": {
            "gridcolor": "white",
            "linecolor": "white",
            "ticks": ""
           },
           "bgcolor": "#E5ECF6",
           "radialaxis": {
            "gridcolor": "white",
            "linecolor": "white",
            "ticks": ""
           }
          },
          "scene": {
           "xaxis": {
            "backgroundcolor": "#E5ECF6",
            "gridcolor": "white",
            "gridwidth": 2,
            "linecolor": "white",
            "showbackground": true,
            "ticks": "",
            "zerolinecolor": "white"
           },
           "yaxis": {
            "backgroundcolor": "#E5ECF6",
            "gridcolor": "white",
            "gridwidth": 2,
            "linecolor": "white",
            "showbackground": true,
            "ticks": "",
            "zerolinecolor": "white"
           },
           "zaxis": {
            "backgroundcolor": "#E5ECF6",
            "gridcolor": "white",
            "gridwidth": 2,
            "linecolor": "white",
            "showbackground": true,
            "ticks": "",
            "zerolinecolor": "white"
           }
          },
          "shapedefaults": {
           "line": {
            "color": "#2a3f5f"
           }
          },
          "ternary": {
           "aaxis": {
            "gridcolor": "white",
            "linecolor": "white",
            "ticks": ""
           },
           "baxis": {
            "gridcolor": "white",
            "linecolor": "white",
            "ticks": ""
           },
           "bgcolor": "#E5ECF6",
           "caxis": {
            "gridcolor": "white",
            "linecolor": "white",
            "ticks": ""
           }
          },
          "title": {
           "x": 0.05
          },
          "xaxis": {
           "automargin": true,
           "gridcolor": "white",
           "linecolor": "white",
           "ticks": "",
           "title": {
            "standoff": 15
           },
           "zerolinecolor": "white",
           "zerolinewidth": 2
          },
          "yaxis": {
           "automargin": true,
           "gridcolor": "white",
           "linecolor": "white",
           "ticks": "",
           "title": {
            "standoff": 15
           },
           "zerolinecolor": "white",
           "zerolinewidth": 2
          }
         }
        },
        "title": {
         "text": "Hyperparameter Importances"
        },
        "xaxis": {
         "title": {
          "text": "Importance for Objective Value"
         }
        },
        "yaxis": {
         "title": {
          "text": "Hyperparameter"
         }
        }
       }
      },
      "text/html": [
       "<div>                            <div id=\"e73bd4e4-46de-4818-96f8-a5ec70eec0e2\" class=\"plotly-graph-div\" style=\"height:525px; width:100%;\"></div>            <script type=\"text/javascript\">                require([\"plotly\"], function(Plotly) {                    window.PLOTLYENV=window.PLOTLYENV || {};                                    if (document.getElementById(\"e73bd4e4-46de-4818-96f8-a5ec70eec0e2\")) {                    Plotly.newPlot(                        \"e73bd4e4-46de-4818-96f8-a5ec70eec0e2\",                        [{\"cliponaxis\":false,\"hovertemplate\":[\"min_child_weight (FloatDistribution): 0.04065779358674469<extra></extra>\",\"num_leaves (IntDistribution): 0.05950601356484232<extra></extra>\",\"n_estimators (IntDistribution): 0.06532260592421267<extra></extra>\",\"subsample_for_bin (IntDistribution): 0.10020152695119473<extra></extra>\",\"min_child_samples (IntDistribution): 0.12195756974596483<extra></extra>\",\"max_depth (IntDistribution): 0.16101807035335186<extra></extra>\",\"learning_rate (FloatDistribution): 0.45133641987368883<extra></extra>\"],\"marker\":{\"color\":\"rgb(66,146,198)\"},\"orientation\":\"h\",\"text\":[\"0.04\",\"0.06\",\"0.07\",\"0.10\",\"0.12\",\"0.16\",\"0.45\"],\"textposition\":\"outside\",\"x\":[0.04065779358674469,0.05950601356484232,0.06532260592421267,0.10020152695119473,0.12195756974596483,0.16101807035335186,0.45133641987368883],\"y\":[\"min_child_weight\",\"num_leaves\",\"n_estimators\",\"subsample_for_bin\",\"min_child_samples\",\"max_depth\",\"learning_rate\"],\"type\":\"bar\"}],                        {\"showlegend\":false,\"title\":{\"text\":\"Hyperparameter Importances\"},\"xaxis\":{\"title\":{\"text\":\"Importance for Objective Value\"}},\"yaxis\":{\"title\":{\"text\":\"Hyperparameter\"}},\"template\":{\"data\":{\"histogram2dcontour\":[{\"type\":\"histogram2dcontour\",\"colorbar\":{\"outlinewidth\":0,\"ticks\":\"\"},\"colorscale\":[[0.0,\"#0d0887\"],[0.1111111111111111,\"#46039f\"],[0.2222222222222222,\"#7201a8\"],[0.3333333333333333,\"#9c179e\"],[0.4444444444444444,\"#bd3786\"],[0.5555555555555556,\"#d8576b\"],[0.6666666666666666,\"#ed7953\"],[0.7777777777777778,\"#fb9f3a\"],[0.8888888888888888,\"#fdca26\"],[1.0,\"#f0f921\"]]}],\"choropleth\":[{\"type\":\"choropleth\",\"colorbar\":{\"outlinewidth\":0,\"ticks\":\"\"}}],\"histogram2d\":[{\"type\":\"histogram2d\",\"colorbar\":{\"outlinewidth\":0,\"ticks\":\"\"},\"colorscale\":[[0.0,\"#0d0887\"],[0.1111111111111111,\"#46039f\"],[0.2222222222222222,\"#7201a8\"],[0.3333333333333333,\"#9c179e\"],[0.4444444444444444,\"#bd3786\"],[0.5555555555555556,\"#d8576b\"],[0.6666666666666666,\"#ed7953\"],[0.7777777777777778,\"#fb9f3a\"],[0.8888888888888888,\"#fdca26\"],[1.0,\"#f0f921\"]]}],\"heatmap\":[{\"type\":\"heatmap\",\"colorbar\":{\"outlinewidth\":0,\"ticks\":\"\"},\"colorscale\":[[0.0,\"#0d0887\"],[0.1111111111111111,\"#46039f\"],[0.2222222222222222,\"#7201a8\"],[0.3333333333333333,\"#9c179e\"],[0.4444444444444444,\"#bd3786\"],[0.5555555555555556,\"#d8576b\"],[0.6666666666666666,\"#ed7953\"],[0.7777777777777778,\"#fb9f3a\"],[0.8888888888888888,\"#fdca26\"],[1.0,\"#f0f921\"]]}],\"heatmapgl\":[{\"type\":\"heatmapgl\",\"colorbar\":{\"outlinewidth\":0,\"ticks\":\"\"},\"colorscale\":[[0.0,\"#0d0887\"],[0.1111111111111111,\"#46039f\"],[0.2222222222222222,\"#7201a8\"],[0.3333333333333333,\"#9c179e\"],[0.4444444444444444,\"#bd3786\"],[0.5555555555555556,\"#d8576b\"],[0.6666666666666666,\"#ed7953\"],[0.7777777777777778,\"#fb9f3a\"],[0.8888888888888888,\"#fdca26\"],[1.0,\"#f0f921\"]]}],\"contourcarpet\":[{\"type\":\"contourcarpet\",\"colorbar\":{\"outlinewidth\":0,\"ticks\":\"\"}}],\"contour\":[{\"type\":\"contour\",\"colorbar\":{\"outlinewidth\":0,\"ticks\":\"\"},\"colorscale\":[[0.0,\"#0d0887\"],[0.1111111111111111,\"#46039f\"],[0.2222222222222222,\"#7201a8\"],[0.3333333333333333,\"#9c179e\"],[0.4444444444444444,\"#bd3786\"],[0.5555555555555556,\"#d8576b\"],[0.6666666666666666,\"#ed7953\"],[0.7777777777777778,\"#fb9f3a\"],[0.8888888888888888,\"#fdca26\"],[1.0,\"#f0f921\"]]}],\"surface\":[{\"type\":\"surface\",\"colorbar\":{\"outlinewidth\":0,\"ticks\":\"\"},\"colorscale\":[[0.0,\"#0d0887\"],[0.1111111111111111,\"#46039f\"],[0.2222222222222222,\"#7201a8\"],[0.3333333333333333,\"#9c179e\"],[0.4444444444444444,\"#bd3786\"],[0.5555555555555556,\"#d8576b\"],[0.6666666666666666,\"#ed7953\"],[0.7777777777777778,\"#fb9f3a\"],[0.8888888888888888,\"#fdca26\"],[1.0,\"#f0f921\"]]}],\"mesh3d\":[{\"type\":\"mesh3d\",\"colorbar\":{\"outlinewidth\":0,\"ticks\":\"\"}}],\"scatter\":[{\"fillpattern\":{\"fillmode\":\"overlay\",\"size\":10,\"solidity\":0.2},\"type\":\"scatter\"}],\"parcoords\":[{\"type\":\"parcoords\",\"line\":{\"colorbar\":{\"outlinewidth\":0,\"ticks\":\"\"}}}],\"scatterpolargl\":[{\"type\":\"scatterpolargl\",\"marker\":{\"colorbar\":{\"outlinewidth\":0,\"ticks\":\"\"}}}],\"bar\":[{\"error_x\":{\"color\":\"#2a3f5f\"},\"error_y\":{\"color\":\"#2a3f5f\"},\"marker\":{\"line\":{\"color\":\"#E5ECF6\",\"width\":0.5},\"pattern\":{\"fillmode\":\"overlay\",\"size\":10,\"solidity\":0.2}},\"type\":\"bar\"}],\"scattergeo\":[{\"type\":\"scattergeo\",\"marker\":{\"colorbar\":{\"outlinewidth\":0,\"ticks\":\"\"}}}],\"scatterpolar\":[{\"type\":\"scatterpolar\",\"marker\":{\"colorbar\":{\"outlinewidth\":0,\"ticks\":\"\"}}}],\"histogram\":[{\"marker\":{\"pattern\":{\"fillmode\":\"overlay\",\"size\":10,\"solidity\":0.2}},\"type\":\"histogram\"}],\"scattergl\":[{\"type\":\"scattergl\",\"marker\":{\"colorbar\":{\"outlinewidth\":0,\"ticks\":\"\"}}}],\"scatter3d\":[{\"type\":\"scatter3d\",\"line\":{\"colorbar\":{\"outlinewidth\":0,\"ticks\":\"\"}},\"marker\":{\"colorbar\":{\"outlinewidth\":0,\"ticks\":\"\"}}}],\"scattermapbox\":[{\"type\":\"scattermapbox\",\"marker\":{\"colorbar\":{\"outlinewidth\":0,\"ticks\":\"\"}}}],\"scatterternary\":[{\"type\":\"scatterternary\",\"marker\":{\"colorbar\":{\"outlinewidth\":0,\"ticks\":\"\"}}}],\"scattercarpet\":[{\"type\":\"scattercarpet\",\"marker\":{\"colorbar\":{\"outlinewidth\":0,\"ticks\":\"\"}}}],\"carpet\":[{\"aaxis\":{\"endlinecolor\":\"#2a3f5f\",\"gridcolor\":\"white\",\"linecolor\":\"white\",\"minorgridcolor\":\"white\",\"startlinecolor\":\"#2a3f5f\"},\"baxis\":{\"endlinecolor\":\"#2a3f5f\",\"gridcolor\":\"white\",\"linecolor\":\"white\",\"minorgridcolor\":\"white\",\"startlinecolor\":\"#2a3f5f\"},\"type\":\"carpet\"}],\"table\":[{\"cells\":{\"fill\":{\"color\":\"#EBF0F8\"},\"line\":{\"color\":\"white\"}},\"header\":{\"fill\":{\"color\":\"#C8D4E3\"},\"line\":{\"color\":\"white\"}},\"type\":\"table\"}],\"barpolar\":[{\"marker\":{\"line\":{\"color\":\"#E5ECF6\",\"width\":0.5},\"pattern\":{\"fillmode\":\"overlay\",\"size\":10,\"solidity\":0.2}},\"type\":\"barpolar\"}],\"pie\":[{\"automargin\":true,\"type\":\"pie\"}]},\"layout\":{\"autotypenumbers\":\"strict\",\"colorway\":[\"#636efa\",\"#EF553B\",\"#00cc96\",\"#ab63fa\",\"#FFA15A\",\"#19d3f3\",\"#FF6692\",\"#B6E880\",\"#FF97FF\",\"#FECB52\"],\"font\":{\"color\":\"#2a3f5f\"},\"hovermode\":\"closest\",\"hoverlabel\":{\"align\":\"left\"},\"paper_bgcolor\":\"white\",\"plot_bgcolor\":\"#E5ECF6\",\"polar\":{\"bgcolor\":\"#E5ECF6\",\"angularaxis\":{\"gridcolor\":\"white\",\"linecolor\":\"white\",\"ticks\":\"\"},\"radialaxis\":{\"gridcolor\":\"white\",\"linecolor\":\"white\",\"ticks\":\"\"}},\"ternary\":{\"bgcolor\":\"#E5ECF6\",\"aaxis\":{\"gridcolor\":\"white\",\"linecolor\":\"white\",\"ticks\":\"\"},\"baxis\":{\"gridcolor\":\"white\",\"linecolor\":\"white\",\"ticks\":\"\"},\"caxis\":{\"gridcolor\":\"white\",\"linecolor\":\"white\",\"ticks\":\"\"}},\"coloraxis\":{\"colorbar\":{\"outlinewidth\":0,\"ticks\":\"\"}},\"colorscale\":{\"sequential\":[[0.0,\"#0d0887\"],[0.1111111111111111,\"#46039f\"],[0.2222222222222222,\"#7201a8\"],[0.3333333333333333,\"#9c179e\"],[0.4444444444444444,\"#bd3786\"],[0.5555555555555556,\"#d8576b\"],[0.6666666666666666,\"#ed7953\"],[0.7777777777777778,\"#fb9f3a\"],[0.8888888888888888,\"#fdca26\"],[1.0,\"#f0f921\"]],\"sequentialminus\":[[0.0,\"#0d0887\"],[0.1111111111111111,\"#46039f\"],[0.2222222222222222,\"#7201a8\"],[0.3333333333333333,\"#9c179e\"],[0.4444444444444444,\"#bd3786\"],[0.5555555555555556,\"#d8576b\"],[0.6666666666666666,\"#ed7953\"],[0.7777777777777778,\"#fb9f3a\"],[0.8888888888888888,\"#fdca26\"],[1.0,\"#f0f921\"]],\"diverging\":[[0,\"#8e0152\"],[0.1,\"#c51b7d\"],[0.2,\"#de77ae\"],[0.3,\"#f1b6da\"],[0.4,\"#fde0ef\"],[0.5,\"#f7f7f7\"],[0.6,\"#e6f5d0\"],[0.7,\"#b8e186\"],[0.8,\"#7fbc41\"],[0.9,\"#4d9221\"],[1,\"#276419\"]]},\"xaxis\":{\"gridcolor\":\"white\",\"linecolor\":\"white\",\"ticks\":\"\",\"title\":{\"standoff\":15},\"zerolinecolor\":\"white\",\"automargin\":true,\"zerolinewidth\":2},\"yaxis\":{\"gridcolor\":\"white\",\"linecolor\":\"white\",\"ticks\":\"\",\"title\":{\"standoff\":15},\"zerolinecolor\":\"white\",\"automargin\":true,\"zerolinewidth\":2},\"scene\":{\"xaxis\":{\"backgroundcolor\":\"#E5ECF6\",\"gridcolor\":\"white\",\"linecolor\":\"white\",\"showbackground\":true,\"ticks\":\"\",\"zerolinecolor\":\"white\",\"gridwidth\":2},\"yaxis\":{\"backgroundcolor\":\"#E5ECF6\",\"gridcolor\":\"white\",\"linecolor\":\"white\",\"showbackground\":true,\"ticks\":\"\",\"zerolinecolor\":\"white\",\"gridwidth\":2},\"zaxis\":{\"backgroundcolor\":\"#E5ECF6\",\"gridcolor\":\"white\",\"linecolor\":\"white\",\"showbackground\":true,\"ticks\":\"\",\"zerolinecolor\":\"white\",\"gridwidth\":2}},\"shapedefaults\":{\"line\":{\"color\":\"#2a3f5f\"}},\"annotationdefaults\":{\"arrowcolor\":\"#2a3f5f\",\"arrowhead\":0,\"arrowwidth\":1},\"geo\":{\"bgcolor\":\"white\",\"landcolor\":\"#E5ECF6\",\"subunitcolor\":\"white\",\"showland\":true,\"showlakes\":true,\"lakecolor\":\"white\"},\"title\":{\"x\":0.05},\"mapbox\":{\"style\":\"light\"}}}},                        {\"responsive\": true}                    ).then(function(){\n",
       "                            \n",
       "var gd = document.getElementById('e73bd4e4-46de-4818-96f8-a5ec70eec0e2');\n",
       "var x = new MutationObserver(function (mutations, observer) {{\n",
       "        var display = window.getComputedStyle(gd).display;\n",
       "        if (!display || display === 'none') {{\n",
       "            console.log([gd, 'removed!']);\n",
       "            Plotly.purge(gd);\n",
       "            observer.disconnect();\n",
       "        }}\n",
       "}});\n",
       "\n",
       "// Listen for the removal of the full notebook cells\n",
       "var notebookContainer = gd.closest('#notebook-container');\n",
       "if (notebookContainer) {{\n",
       "    x.observe(notebookContainer, {childList: true});\n",
       "}}\n",
       "\n",
       "// Listen for the clearing of the current output cell\n",
       "var outputEl = gd.closest('.output');\n",
       "if (outputEl) {{\n",
       "    x.observe(outputEl, {childList: true});\n",
       "}}\n",
       "\n",
       "                        })                };                });            </script>        </div>"
      ]
     },
     "metadata": {},
     "output_type": "display_data"
    }
   ],
   "source": [
    "optuna.visualization.plot_param_importances(study)"
   ]
  },
  {
   "cell_type": "code",
   "execution_count": 63,
   "metadata": {},
   "outputs": [
    {
     "name": "stdout",
     "output_type": "stream",
     "text": [
      "{'n_estimators': 2200, 'learning_rate': 0.013645872924300499, 'max_depth': 11, 'num_leaves': 50, 'subsample_for_bin': 273000, 'min_child_weight': 8.245740340142923e-05, 'min_child_samples': 30}\n"
     ]
    }
   ],
   "source": [
    "best_params = study.best_trial.params\n",
    "print(best_params)\n",
    "opt_model = LGBMRegressor(**best_params,objective='regression', \n",
    "                          metric='root_mean_squared_error')"
   ]
  },
  {
   "cell_type": "code",
   "execution_count": 64,
   "metadata": {},
   "outputs": [
    {
     "name": "stdout",
     "output_type": "stream",
     "text": [
      "RMSE Score:    2.50068\n"
     ]
    }
   ],
   "source": [
    "train = df_copy[df_copy['day_of_month'] < 22]\n",
    "test = df_copy[df_copy['day_of_month'] >= 22]\n",
    "\n",
    "\n",
    "xtrain,xtest = train.drop(columns = ['id','date','online_hours']),test.drop(columns = ['id','date','online_hours'])\n",
    "xtrain = xtrain[feature_import]\n",
    "xtest = xtest[feature_import]\n",
    "ytrain,ytest = train['online_hours'].values, test['online_hours'].values\n",
    "    \n",
    "opt_model.fit(xtrain,ytrain)\n",
    "preds = opt_model.predict(xtest)\n",
    "    \n",
    "score = rmse(test_df.online_hours.tolist(),preds)\n",
    "\n",
    "print('RMSE Score:    %.5f' % score)"
   ]
  },
  {
   "cell_type": "code",
   "execution_count": 65,
   "metadata": {},
   "outputs": [
    {
     "data": {
      "text/html": [
       "<div>\n",
       "<style scoped>\n",
       "    .dataframe tbody tr th:only-of-type {\n",
       "        vertical-align: middle;\n",
       "    }\n",
       "\n",
       "    .dataframe tbody tr th {\n",
       "        vertical-align: top;\n",
       "    }\n",
       "\n",
       "    .dataframe thead th {\n",
       "        text-align: right;\n",
       "    }\n",
       "</style>\n",
       "<table border=\"1\" class=\"dataframe\">\n",
       "  <thead>\n",
       "    <tr style=\"text-align: right;\">\n",
       "      <th></th>\n",
       "      <th>date</th>\n",
       "      <th>id</th>\n",
       "      <th>actual_online_hours</th>\n",
       "      <th>pred</th>\n",
       "      <th>error</th>\n",
       "    </tr>\n",
       "  </thead>\n",
       "  <tbody>\n",
       "    <tr>\n",
       "      <th>4948</th>\n",
       "      <td>2017-06-28</td>\n",
       "      <td>366799</td>\n",
       "      <td>5</td>\n",
       "      <td>5.000173</td>\n",
       "      <td>0.000173</td>\n",
       "    </tr>\n",
       "    <tr>\n",
       "      <th>3286</th>\n",
       "      <td>2017-06-25</td>\n",
       "      <td>285831</td>\n",
       "      <td>7</td>\n",
       "      <td>7.000681</td>\n",
       "      <td>0.000681</td>\n",
       "    </tr>\n",
       "    <tr>\n",
       "      <th>2946</th>\n",
       "      <td>2017-06-28</td>\n",
       "      <td>268903</td>\n",
       "      <td>3</td>\n",
       "      <td>2.999074</td>\n",
       "      <td>0.000926</td>\n",
       "    </tr>\n",
       "    <tr>\n",
       "      <th>15404</th>\n",
       "      <td>2017-06-26</td>\n",
       "      <td>897178</td>\n",
       "      <td>6</td>\n",
       "      <td>6.001142</td>\n",
       "      <td>0.001142</td>\n",
       "    </tr>\n",
       "    <tr>\n",
       "      <th>9604</th>\n",
       "      <td>2017-06-22</td>\n",
       "      <td>604669</td>\n",
       "      <td>7</td>\n",
       "      <td>6.998831</td>\n",
       "      <td>0.001169</td>\n",
       "    </tr>\n",
       "    <tr>\n",
       "      <th>2989</th>\n",
       "      <td>2017-06-22</td>\n",
       "      <td>271951</td>\n",
       "      <td>7</td>\n",
       "      <td>7.001245</td>\n",
       "      <td>0.001245</td>\n",
       "    </tr>\n",
       "    <tr>\n",
       "      <th>9872</th>\n",
       "      <td>2017-06-24</td>\n",
       "      <td>622640</td>\n",
       "      <td>6</td>\n",
       "      <td>5.998514</td>\n",
       "      <td>0.001486</td>\n",
       "    </tr>\n",
       "    <tr>\n",
       "      <th>8857</th>\n",
       "      <td>2017-06-24</td>\n",
       "      <td>567094</td>\n",
       "      <td>0</td>\n",
       "      <td>-0.001572</td>\n",
       "      <td>0.001572</td>\n",
       "    </tr>\n",
       "    <tr>\n",
       "      <th>15247</th>\n",
       "      <td>2017-06-23</td>\n",
       "      <td>891831</td>\n",
       "      <td>5</td>\n",
       "      <td>4.998210</td>\n",
       "      <td>0.001790</td>\n",
       "    </tr>\n",
       "    <tr>\n",
       "      <th>9569</th>\n",
       "      <td>2017-06-22</td>\n",
       "      <td>604083</td>\n",
       "      <td>3</td>\n",
       "      <td>2.998052</td>\n",
       "      <td>0.001948</td>\n",
       "    </tr>\n",
       "    <tr>\n",
       "      <th>742</th>\n",
       "      <td>2017-06-22</td>\n",
       "      <td>154341</td>\n",
       "      <td>7</td>\n",
       "      <td>7.001981</td>\n",
       "      <td>0.001981</td>\n",
       "    </tr>\n",
       "    <tr>\n",
       "      <th>11529</th>\n",
       "      <td>2017-06-22</td>\n",
       "      <td>706821</td>\n",
       "      <td>3</td>\n",
       "      <td>2.997836</td>\n",
       "      <td>0.002164</td>\n",
       "    </tr>\n",
       "    <tr>\n",
       "      <th>6119</th>\n",
       "      <td>2017-06-23</td>\n",
       "      <td>423643</td>\n",
       "      <td>7</td>\n",
       "      <td>7.002222</td>\n",
       "      <td>0.002222</td>\n",
       "    </tr>\n",
       "    <tr>\n",
       "      <th>12608</th>\n",
       "      <td>2017-06-23</td>\n",
       "      <td>761637</td>\n",
       "      <td>7</td>\n",
       "      <td>7.002385</td>\n",
       "      <td>0.002385</td>\n",
       "    </tr>\n",
       "    <tr>\n",
       "      <th>16664</th>\n",
       "      <td>2017-06-26</td>\n",
       "      <td>959110</td>\n",
       "      <td>2</td>\n",
       "      <td>1.997370</td>\n",
       "      <td>0.002630</td>\n",
       "    </tr>\n",
       "    <tr>\n",
       "      <th>15334</th>\n",
       "      <td>2017-06-26</td>\n",
       "      <td>894722</td>\n",
       "      <td>4</td>\n",
       "      <td>3.997314</td>\n",
       "      <td>0.002686</td>\n",
       "    </tr>\n",
       "    <tr>\n",
       "      <th>3085</th>\n",
       "      <td>2017-06-27</td>\n",
       "      <td>276411</td>\n",
       "      <td>6</td>\n",
       "      <td>5.997196</td>\n",
       "      <td>0.002804</td>\n",
       "    </tr>\n",
       "    <tr>\n",
       "      <th>13793</th>\n",
       "      <td>2017-06-25</td>\n",
       "      <td>820083</td>\n",
       "      <td>6</td>\n",
       "      <td>6.002995</td>\n",
       "      <td>0.002995</td>\n",
       "    </tr>\n",
       "    <tr>\n",
       "      <th>16588</th>\n",
       "      <td>2017-06-27</td>\n",
       "      <td>955473</td>\n",
       "      <td>3</td>\n",
       "      <td>2.996819</td>\n",
       "      <td>0.003181</td>\n",
       "    </tr>\n",
       "    <tr>\n",
       "      <th>12112</th>\n",
       "      <td>2017-06-24</td>\n",
       "      <td>735936</td>\n",
       "      <td>4</td>\n",
       "      <td>4.003555</td>\n",
       "      <td>0.003555</td>\n",
       "    </tr>\n",
       "  </tbody>\n",
       "</table>\n",
       "</div>"
      ],
      "text/plain": [
       "             date      id  actual_online_hours      pred     error\n",
       "4948   2017-06-28  366799                    5  5.000173  0.000173\n",
       "3286   2017-06-25  285831                    7  7.000681  0.000681\n",
       "2946   2017-06-28  268903                    3  2.999074  0.000926\n",
       "15404  2017-06-26  897178                    6  6.001142  0.001142\n",
       "9604   2017-06-22  604669                    7  6.998831  0.001169\n",
       "2989   2017-06-22  271951                    7  7.001245  0.001245\n",
       "9872   2017-06-24  622640                    6  5.998514  0.001486\n",
       "8857   2017-06-24  567094                    0 -0.001572  0.001572\n",
       "15247  2017-06-23  891831                    5  4.998210  0.001790\n",
       "9569   2017-06-22  604083                    3  2.998052  0.001948\n",
       "742    2017-06-22  154341                    7  7.001981  0.001981\n",
       "11529  2017-06-22  706821                    3  2.997836  0.002164\n",
       "6119   2017-06-23  423643                    7  7.002222  0.002222\n",
       "12608  2017-06-23  761637                    7  7.002385  0.002385\n",
       "16664  2017-06-26  959110                    2  1.997370  0.002630\n",
       "15334  2017-06-26  894722                    4  3.997314  0.002686\n",
       "3085   2017-06-27  276411                    6  5.997196  0.002804\n",
       "13793  2017-06-25  820083                    6  6.002995  0.002995\n",
       "16588  2017-06-27  955473                    3  2.996819  0.003181\n",
       "12112  2017-06-24  735936                    4  4.003555  0.003555"
      ]
     },
     "execution_count": 65,
     "metadata": {},
     "output_type": "execute_result"
    }
   ],
   "source": [
    "error = pd.DataFrame({\n",
    "    \"date\":test.date,\n",
    "    \"id\":test.id,\n",
    "    \"actual_online_hours\":test_df.online_hours.tolist(),\n",
    "    \"pred\":preds\n",
    "}).reset_index(drop = True)\n",
    "\n",
    "error[\"error\"] = np.abs(error.actual_online_hours-error.pred)\n",
    "\n",
    "error.sort_values(\"error\").head(20)"
   ]
  },
  {
   "cell_type": "code",
   "execution_count": null,
   "metadata": {},
   "outputs": [],
   "source": []
  }
 ],
 "metadata": {
  "kernelspec": {
   "display_name": "Python 3",
   "language": "python",
   "name": "python3"
  },
  "language_info": {
   "codemirror_mode": {
    "name": "ipython",
    "version": 3
   },
   "file_extension": ".py",
   "mimetype": "text/x-python",
   "name": "python",
   "nbconvert_exporter": "python",
   "pygments_lexer": "ipython3",
   "version": "3.8.5"
  }
 },
 "nbformat": 4,
 "nbformat_minor": 4
}
